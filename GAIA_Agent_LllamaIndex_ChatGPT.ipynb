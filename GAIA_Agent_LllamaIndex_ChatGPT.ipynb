{
 "cells": [
  {
   "cell_type": "markdown",
   "metadata": {
    "id": "zdoxvQTdwWhl"
   },
   "source": [
    "## Install required packages"
   ]
  },
  {
   "cell_type": "code",
   "execution_count": 1,
   "metadata": {
    "colab": {
     "base_uri": "https://localhost:8080/"
    },
    "id": "0BPXqsYDqFDA",
    "outputId": "90e30655-a574-46eb-fe28-587936d22445"
   },
   "outputs": [
    {
     "name": "stdout",
     "output_type": "stream",
     "text": [
      "\u001b[2K   \u001b[90m━━━━━━━━━━━━━━━━━━━━━━━━━━━━━━━━━━━━━━━━\u001b[0m \u001b[32m7.6/7.6 MB\u001b[0m \u001b[31m54.3 MB/s\u001b[0m eta \u001b[36m0:00:00\u001b[0m\n",
      "\u001b[2K   \u001b[90m━━━━━━━━━━━━━━━━━━━━━━━━━━━━━━━━━━━━━━━━\u001b[0m \u001b[32m266.8/266.8 kB\u001b[0m \u001b[31m17.8 MB/s\u001b[0m eta \u001b[36m0:00:00\u001b[0m\n",
      "\u001b[2K   \u001b[90m━━━━━━━━━━━━━━━━━━━━━━━━━━━━━━━━━━━━━━━━\u001b[0m \u001b[32m41.0/41.0 kB\u001b[0m \u001b[31m2.4 MB/s\u001b[0m eta \u001b[36m0:00:00\u001b[0m\n",
      "\u001b[2K   \u001b[90m━━━━━━━━━━━━━━━━━━━━━━━━━━━━━━━━━━━━━━━━\u001b[0m \u001b[32m304.6/304.6 kB\u001b[0m \u001b[31m16.7 MB/s\u001b[0m eta \u001b[36m0:00:00\u001b[0m\n",
      "\u001b[2K   \u001b[90m━━━━━━━━━━━━━━━━━━━━━━━━━━━━━━━━━━━━━━━━\u001b[0m \u001b[32m1.2/1.2 MB\u001b[0m \u001b[31m39.2 MB/s\u001b[0m eta \u001b[36m0:00:00\u001b[0m\n",
      "\u001b[2K   \u001b[90m━━━━━━━━━━━━━━━━━━━━━━━━━━━━━━━━━━━━━━━━\u001b[0m \u001b[32m50.9/50.9 kB\u001b[0m \u001b[31m3.3 MB/s\u001b[0m eta \u001b[36m0:00:00\u001b[0m\n",
      "\u001b[2K   \u001b[90m━━━━━━━━━━━━━━━━━━━━━━━━━━━━━━━━━━━━━━━━\u001b[0m \u001b[32m129.3/129.3 kB\u001b[0m \u001b[31m8.8 MB/s\u001b[0m eta \u001b[36m0:00:00\u001b[0m\n",
      "\u001b[?25h\u001b[31mERROR: pip's dependency resolver does not currently take into account all the packages that are installed. This behaviour is the source of the following dependency conflicts.\n",
      "ipython 7.34.0 requires jedi>=0.16, which is not installed.\u001b[0m\u001b[31m\n",
      "\u001b[2K     \u001b[90m━━━━━━━━━━━━━━━━━━━━━━━━━━━━━━━━━━━━━━━━\u001b[0m \u001b[32m42.8/42.8 kB\u001b[0m \u001b[31m1.7 MB/s\u001b[0m eta \u001b[36m0:00:00\u001b[0m\n",
      "\u001b[2K     \u001b[90m━━━━━━━━━━━━━━━━━━━━━━━━━━━━━━━━━━━━━━━━\u001b[0m \u001b[32m48.2/48.2 kB\u001b[0m \u001b[31m1.5 MB/s\u001b[0m eta \u001b[36m0:00:00\u001b[0m\n",
      "\u001b[2K   \u001b[90m━━━━━━━━━━━━━━━━━━━━━━━━━━━━━━━━━━━━━━━━\u001b[0m \u001b[32m60.0/60.0 kB\u001b[0m \u001b[31m4.3 MB/s\u001b[0m eta \u001b[36m0:00:00\u001b[0m\n",
      "\u001b[2K   \u001b[90m━━━━━━━━━━━━━━━━━━━━━━━━━━━━━━━━━━━━━━━━\u001b[0m \u001b[32m5.6/5.6 MB\u001b[0m \u001b[31m46.2 MB/s\u001b[0m eta \u001b[36m0:00:00\u001b[0m\n",
      "\u001b[2K   \u001b[90m━━━━━━━━━━━━━━━━━━━━━━━━━━━━━━━━━━━━━━━━\u001b[0m \u001b[32m2.9/2.9 MB\u001b[0m \u001b[31m62.0 MB/s\u001b[0m eta \u001b[36m0:00:00\u001b[0m\n",
      "\u001b[2K   \u001b[90m━━━━━━━━━━━━━━━━━━━━━━━━━━━━━━━━━━━━━━━━\u001b[0m \u001b[32m194.4/194.4 kB\u001b[0m \u001b[31m3.1 MB/s\u001b[0m eta \u001b[36m0:00:00\u001b[0m\n",
      "\u001b[?25h"
     ]
    }
   ],
   "source": [
    "!pip install -q llama_index\n",
    "!pip install -q pdfplumber\n",
    "!pip install -q opencv-python\n",
    "!pip install -q mutagen\n",
    "!pip install -q yfinance"
   ]
  },
  {
   "cell_type": "code",
   "execution_count": 2,
   "metadata": {
    "id": "ZDzZKiqy1l0x"
   },
   "outputs": [],
   "source": [
    "!pip install -q bs4"
   ]
  },
  {
   "cell_type": "code",
   "execution_count": 3,
   "metadata": {
    "id": "ClmyAo8K3vUC"
   },
   "outputs": [],
   "source": [
    "!pip install -q pytesseract Pillow"
   ]
  },
  {
   "cell_type": "markdown",
   "metadata": {
    "id": "osiA8H-owlWb"
   },
   "source": [
    "## Import required modules"
   ]
  },
  {
   "cell_type": "code",
   "execution_count": 4,
   "metadata": {
    "id": "dcDXyIEXbtYq"
   },
   "outputs": [],
   "source": [
    "from PIL import Image\n",
    "import pytesseract\n",
    "import requests\n",
    "from bs4 import BeautifulSoup"
   ]
  },
  {
   "cell_type": "code",
   "execution_count": 5,
   "metadata": {
    "id": "EhoNWnQ5ZCn5"
   },
   "outputs": [],
   "source": [
    "import yfinance as yf\n",
    "import pdfplumber\n",
    "import pandas as pd\n",
    "import os\n",
    "import cv2\n",
    "from google.colab import userdata\n",
    "import matplotlib.pyplot as plt\n",
    "from mutagen.mp3 import MP3\n",
    "import asyncio\n",
    "import requests\n",
    "from datetime import date, timedelta, datetime"
   ]
  },
  {
   "cell_type": "code",
   "execution_count": 6,
   "metadata": {
    "id": "VxHgNT0KqM7q"
   },
   "outputs": [],
   "source": [
    "from llama_index.core.agent.workflow import (FunctionAgent,\n",
    "    ReActAgent,\n",
    ")\n",
    "from llama_index.llms.openai import OpenAI"
   ]
  },
  {
   "cell_type": "markdown",
   "metadata": {
    "id": "GgsBNl7nw1o4"
   },
   "source": [
    "## Get the api_key and initialize the Chatgpt LLM model"
   ]
  },
  {
   "cell_type": "code",
   "execution_count": 7,
   "metadata": {
    "id": "l9NO7nOuYb3D"
   },
   "outputs": [],
   "source": [
    "os.environ['OPENAI_API_KEY']=userdata.get('OPENAI_API_KEY')\n",
    "model=OpenAI(model=\"gpt-4o-mini\")"
   ]
  },
  {
   "cell_type": "markdown",
   "metadata": {
    "id": "o0H3bUnJxwY3"
   },
   "source": [
    "## Define functions for tools to be used in the agent"
   ]
  },
  {
   "cell_type": "code",
   "execution_count": 8,
   "metadata": {
    "id": "7bOHLhTWTmb3"
   },
   "outputs": [],
   "source": [
    "def get_ticker(company_name):\n",
    "    \"Returns ticker for a company\"\n",
    "    yfinance = \"https://query2.finance.yahoo.com/v1/finance/search\"\n",
    "    user_agent = 'Mozilla/5.0 (Windows NT 10.0; Win64; x64) AppleWebKit/537.36 (KHTML, like Gecko) Chrome/108.0.0.0 Safari/537.36'\n",
    "    params = {\"q\": company_name, \"quotes_count\": 1, \"country\": \"India\"}\n",
    "\n",
    "    res = requests.get(url=yfinance, params=params, headers={'User-Agent': user_agent})\n",
    "    data = res.json()\n",
    "\n",
    "    ticker = data['quotes'][0]['symbol']\n",
    "    return ticker"
   ]
  },
  {
   "cell_type": "code",
   "execution_count": 9,
   "metadata": {
    "id": "Q_sqUdGkdch1"
   },
   "outputs": [],
   "source": [
    "def get_share_trade_volume(ticker, start_date, end_date):\n",
    "  \"Gets share traded volume traded for a ticker for a given date\"\n",
    "  end_date=(datetime.strptime(end_date, \"%Y-%m-%d\") + timedelta(days=1)).strftime(\"%Y-%m-%d\")\n",
    "  print(start_date)\n",
    "  print(end_date)\n",
    "  data = yf.download(ticker, start_date, end_date)\n",
    "  return data['Volume'].sum().to_string()\n",
    "\n",
    "#vol=get_share_trade_volume('AAPL','2005-01-02','2005-01-10')\n",
    "#print(vol)"
   ]
  },
  {
   "cell_type": "code",
   "execution_count": 10,
   "metadata": {
    "id": "rwCNJSnhTlRM"
   },
   "outputs": [],
   "source": [
    "def get_stock_market_information(user_question):\n",
    "  \"Get stock market information for a company\"\n",
    "  prompt=f\"\"\"You are a helpful assistant that provides information related to shares and stock market. You have access to below tools:\n",
    "\n",
    "  get_ticker\n",
    "  get_share_trade_volume\n",
    "\n",
    "  Provide answer to below user's question:\n",
    "\n",
    "  {user_question}\n",
    "\n",
    "  Respond with the answer to the final question only. Do not provide reasoning or any other text. If the question describes a format for the answer, the answer should be in that format\n",
    "  \"\"\""
   ]
  },
  {
   "cell_type": "code",
   "execution_count": 57,
   "metadata": {
    "id": "TsiTB9kqxX9A"
   },
   "outputs": [],
   "source": [
    "# Function to convert excel data to string\n",
    "def convert_excel_to_text(excel_file):\n",
    "  \"\"\"Reads input excel file and converts to text\"\"\"\n",
    "  df_excel=pd.read_excel(excel_file)\n",
    "  str_df_excel=df_excel.to_string(index=False)\n",
    "  return str_df_excel\n"
   ]
  },
  {
   "cell_type": "code",
   "execution_count": 60,
   "metadata": {
    "colab": {
     "base_uri": "https://localhost:8080/"
    },
    "id": "T_u72_1FbVmJ",
    "outputId": "e87e7fe9-2d6f-4343-fbf6-94f450bf131a"
   },
   "outputs": [
    {
     "name": "stdout",
     "output_type": "stream",
     "text": [
      "   Location  Burgers  Hot Dogs  Salads  Fries  Ice Cream  Soda\n",
      "  Pinebrook     1594      1999    2002   2005       1977  1980\n",
      "   Wharvton     1983      2008    2014   2015       2017  2018\n",
      "    Sagrada     2019      2022    2022   2023       2021  2019\n",
      "  Algrimand     1958      1971    1982   1989       1998  2009\n",
      "    Marztep     2015      2016    2018   2019       2021  2022\n",
      "San Cecelia     2011      2010    2012   2013       2015  2016\n",
      "    Pimento     2017      1999    2001   2003       1969  2967\n",
      "   Tinseles     1967      1969    1982   1994       2005  2006\n",
      "    Rosdale     2007      2009    2021   1989       2005  2011\n"
     ]
    }
   ],
   "source": [
    "  #print('hello')\n",
    "  txt=convert_excel_to_text('/content/7bd855d8-463d-4ed5-93ca-5fe35145f733.xlsx')\n",
    "  print(txt)"
   ]
  },
  {
   "cell_type": "code",
   "execution_count": 12,
   "metadata": {
    "id": "LgsZHoiMC9jd"
   },
   "outputs": [],
   "source": [
    "# Function to convert csv data to string\n",
    "def convert_csv_to_text(csv_file):\n",
    "  \"\"\"Reads input csv file and converts to text\"\"\"\n",
    "  df_csv=pd.read_csv(csv_file)\n",
    "  str_df_csv=df_csv.to_string(index=False)\n",
    "  return str_df_csv"
   ]
  },
  {
   "cell_type": "code",
   "execution_count": 13,
   "metadata": {
    "id": "U_v75CgX8oN2"
   },
   "outputs": [],
   "source": [
    "#Function to convert pdf file to text\n",
    "def convert_pdf_to_text(pdf_file):\n",
    "    \"\"\"Reads pdf file and converts to text\"\"\"\n",
    "    str_df_pdf=''\n",
    "    with pdfplumber.open(pdf_file) as pdf:\n",
    "      for page_num, page in enumerate(pdf.pages):\n",
    "        tables = page.extract_tables()\n",
    "        if tables:\n",
    "          for table_idx, table in enumerate(tables):\n",
    "            df_pdf = pd.DataFrame(table[1:], columns=table[0])\n",
    "            str_df_pdf = str_df_pdf + '\\n' + df_pdf.to_string(index=False)\n",
    "        else:\n",
    "          str_df_pdf = str_df_pdf + '\\n' + page.extract_text()\n",
    "      return str_df_pdf"
   ]
  },
  {
   "cell_type": "code",
   "execution_count": 14,
   "metadata": {
    "id": "Ow2HAGRkEBH6"
   },
   "outputs": [],
   "source": [
    "# Function to read csv data for inventory of bricks\n",
    "def analyze_inventory_bricks_data(attached_file):\n",
    "  \"\"\"Analyzes inventory of bricks and provides answers to user queries on the inventory of bricks\"\"\"\n",
    "  str_df_csv=convert_csv_to_text(attached_file)\n",
    "  prompt=f\"\"\"You are an expert at analyzing inventory of bricks data and provide answer to user's questions on specific to inventory of bricks. Read the below text which has a list of inventory of bricks and some additional information. Provide response to user's question based on inventory of bricks.\n",
    "\n",
    "  {str_df_csv}\n",
    "\n",
    "  \"\"\""
   ]
  },
  {
   "cell_type": "code",
   "execution_count": 15,
   "metadata": {
    "id": "1qxWLTJE16je"
   },
   "outputs": [],
   "source": [
    "# Function to read excel data for books\n",
    "def analyze_books_data(attached_file):\n",
    "  \"\"\"Analyzes books data and provides answers to user queries on the books\"\"\"\n",
    "  str_df_excel=convert_excel_to_text(attached_file)\n",
    "  prompt=f\"\"\"You are an expert at analyzing books and provide answer to user's questions on specific text or characters from the books. Read the below text which has a list of books and some additional information. Provide response to user's question based on these books.\n",
    "\n",
    "  {str_df_excel}\n",
    "\n",
    "  \"\"\""
   ]
  },
  {
   "cell_type": "code",
   "execution_count": 16,
   "metadata": {
    "id": "nrXMVcSb9Y0-"
   },
   "outputs": [],
   "source": [
    "# Function to read excel data for locomotives\n",
    "def analyze_locomotives_data(attached_file):\n",
    "  \"\"\"Analyzes locomotives data and provides answers to user queries on locomotives\"\"\"\n",
    "  str_df_excel=convert_excel_to_text(attached_file)\n",
    "  prompt=f\"\"\"You are an expert at analyzing locomotives data and provide answer to user's questions specific to locomotives. Read the below text which has a list of locomotives and some additional information. Provide response to user's question based on these locomotives.\n",
    "\n",
    "  {str_df_excel}\n",
    "\n",
    "  \"\"\""
   ]
  },
  {
   "cell_type": "code",
   "execution_count": 17,
   "metadata": {
    "id": "meN96b6UQiPa"
   },
   "outputs": [],
   "source": [
    "# Function to read excel data for employees of the consulting company Great Ape Solutions\n",
    "def analyze_employees_data(attached_file):\n",
    "  \"\"\"Analyzes employees data of the consulting company Great Ape Solutions and provides answers to user queries on employees\"\"\"\n",
    "  str_df_excel=convert_excel_to_text(attached_file)\n",
    "  prompt=f\"\"\"You are an expert at analyzing employees data and provide answer to user's questions specific to employees. Read the below text which has a list of employees of the consulting company Great Ape Solutions and some additional information. Provide response to user's question based on these employees.\n",
    "\n",
    "  {str_df_excel}\n",
    "\n",
    "  \"\"\""
   ]
  },
  {
   "cell_type": "code",
   "execution_count": 18,
   "metadata": {
    "id": "rPAbYswjThLy"
   },
   "outputs": [],
   "source": [
    "# Function to read excel data for inventory of movie and video game\n",
    "def analyze_inventory_movie_video_game_data(attached_file):\n",
    "  \"\"\"Analyzes inventory of movie and video game data and provides answers to user queries on movie and video game\"\"\"\n",
    "  str_df_excel=convert_excel_to_text(attached_file)\n",
    "  prompt=f\"\"\"You are an expert at analyzing inventory of movie and video game data and provide answer to user's questions specific to movie and video game. Read the below text which has a list of movie and video game and some additional information. Provide response to user's question based on movie and video game.\n",
    "\n",
    "  {str_df_excel}\n",
    "\n",
    "  \"\"\""
   ]
  },
  {
   "cell_type": "code",
   "execution_count": 19,
   "metadata": {
    "id": "AlZSpbM7Y2CY"
   },
   "outputs": [],
   "source": [
    "# Function to read excel data for latitude and longitude coordinates data\n",
    "def analyze_spreadsheet_latitude_longitude_coordinates_data(attached_file):\n",
    "  \"\"\"Analyzes spreadsheet of latitude and longitude coordinates data and provides answers to user queries on latitude and longitude coordinates\"\"\"\n",
    "  str_df_excel=convert_excel_to_text(attached_file)\n",
    "  prompt=f\"\"\"You are an expert at analyzing spreadsheet of latitude and longitude coordinates of transit stops data and provide answer to user's questions specific to latitude and longitude coordinates of transit stops. Read the below text which has a list of latitude and longitude coordinates of transit stops and some additional information. Provide response to user's question based on latitude and longitude coordinates of transit stops.\n",
    "\n",
    "  {str_df_excel}\n",
    "\n",
    "  \"\"\"\n",
    "  #print(str_df_excel)\n",
    "\n",
    "\n",
    "#analyze_spreadsheet_latitude_longitude_coordinates_data(attached_file)"
   ]
  },
  {
   "cell_type": "code",
   "execution_count": 20,
   "metadata": {
    "id": "fJGTo0Ece2QB"
   },
   "outputs": [],
   "source": [
    "# Function to read excel data for sales of menu items for a regional fast food chain\n",
    "def analyze_sale_menu_items_data(attached_file):\n",
    "  \"\"\"Analyzes sales of menu items for a regional fast food chain and provides answers to user queries on sales of menu items\"\"\"\n",
    "  str_df_excel=convert_excel_to_text(attached_file)\n",
    "  prompt=f\"\"\"You are an expert at analyzing sales of menu items data and provide answer to user's questions specific to sales of menu items. Read the below text which has a list of sales of menu items and some additional information. Provide response to user's question based on sales of menu items.\n",
    "\n",
    "  {str_df_excel}\n",
    "\n",
    "  \"\"\""
   ]
  },
  {
   "cell_type": "code",
   "execution_count": 21,
   "metadata": {
    "id": "0PM6P4i5ASR3"
   },
   "outputs": [],
   "source": [
    "#Function to read pdf data for books, movies and titles in the collection of Scribe County Public Library\n",
    "def analyze_library_books_movies_titles_data(attached_file):\n",
    "  \"\"\"Analyzes books, movies and titles in the collection of Scribe County Public Library and provides answers to user queries on books, movies and titles\"\"\"\n",
    "  str_df_pdf=convert_pdf_to_text(attached_file)\n",
    "  prompt=f\"\"\"You are an expert at analyzing books, movies and titles in the collection of Scribe County Public Library data and provide answer to user's questions specific to books, movies and titles in the collection of Scribe County Public Library. Read the below text which has a list of books, movies and titles in the collection of Scribe County Public Library and some additional information. Provide response to user's question based on books, movies and titles in the collection of Scribe County Public Library.\n",
    "\n",
    "  {str_df_pdf}\n",
    "\n",
    "  \"\"\""
   ]
  },
  {
   "cell_type": "code",
   "execution_count": 22,
   "metadata": {
    "id": "Q4RS9cznuTO1"
   },
   "outputs": [],
   "source": [
    "#Function to read text files and convert to string\n",
    "def convert_text_to_string(attached_file):\n",
    "  \"\"\"Reads data in text files and provides string as output\"\"\"\n",
    "  with open(attached_file,\"r\") as f:\n",
    "    str_text = f.read()\n",
    "  return str_text\n",
    "\n",
    "def analyze_text_data(str_text):\n",
    "  \"\"\"Analyze text data and provides responses to user's questions\"\"\"\n",
    "  prompt=f\"\"\"Read the below text and follow the instructions as provided in the user's question to determine the answer. Provide the final answer as per the format provided user's question.\n",
    "\n",
    "  {str_text}\n",
    "\n",
    "  \"\"\"\n"
   ]
  },
  {
   "cell_type": "code",
   "execution_count": 23,
   "metadata": {
    "id": "isnGVgdwV2A_"
   },
   "outputs": [],
   "source": [
    "def answer_question_olympics(user_question):\n",
    "  \"\"\"Provides answer to user's questions related to olympics\"\"\"\n",
    "\n",
    "  prompt=f\"\"\"You are a helpful agent that provides answer to user's question on olympics. Use only the below sources to provide accurate information about olympics:\n",
    "\n",
    "  https://www.olympics.com/\n",
    "  https://www.olympedia.org/\n",
    "\n",
    "  Provide answer to the below question:\n",
    "\n",
    "  {user_question}\n",
    "\n",
    "  Respond with the answer to the final question only. Do not provide reasoning or any other text.\n",
    "\"\"\""
   ]
  },
  {
   "cell_type": "code",
   "execution_count": 24,
   "metadata": {
    "id": "Gaaj8EDF3M4b"
   },
   "outputs": [],
   "source": [
    "#Function to browse the internet for information\n",
    "def search_internet_web_sites(user_question):\n",
    "  \"\"\"Browse internet or websites to provide answers to user's question\"\"\"\n",
    "  prompt=f\"\"\"You are a helpful agent that provides answer to user's question by browsing the internet or searching websites specified in the user's question. If a website name or book name or poem name is provided read it to provide the answer. Browse the internet for the below question and provide the answer:\n",
    "\n",
    "  {user_question}\n",
    "\n",
    "  Respond with the answer to the final question only. Do not provide reasoning or any other text. If the question describes a format for the answer, the answer should be in that format\n",
    "\"\"\""
   ]
  },
  {
   "cell_type": "code",
   "execution_count": 25,
   "metadata": {
    "id": "-wV7u5-8VmFl"
   },
   "outputs": [],
   "source": [
    "def read_wikipedia_page(user_question):\n",
    "    \"\"\"Read wikipedia page to provide answers to user's question\"\"\"\n",
    "    prompt=f\"\"\"You are a helpful agent that provides answer to user's question by reading wikipedia page specified in the user's question. Read the wikipedia page in the below question and provide the answer:\n",
    "\n",
    "    {user_question}\n",
    "\n",
    "    Respond with the answer to the final question only. Do not provide reasoning or any other text. If the question describes a format for the answer, the answer should be in that format\n",
    "    \"\"\""
   ]
  },
  {
   "cell_type": "code",
   "execution_count": 26,
   "metadata": {
    "id": "qYPYu_Bk7IIy"
   },
   "outputs": [],
   "source": [
    "def read_audio_duration(attached_file):\n",
    "    \"\"\"Get the duration of an audio file in seconds.\"\"\"\n",
    "    try:\n",
    "        if attached_file.lower().endswith(\".mp3\"):\n",
    "            audio = MP3(attached_file)\n",
    "            return audio.info.length  # Returns duration in seconds (float)\n",
    "    except Exception as e:\n",
    "        print(f\"Error getting duration for {attached_file}: {e}\")\n",
    "        return None\n",
    "\n",
    "#attached_file='/content/5bbf523f-b902-4d7d-8e8d-212d00018733.mp3'\n",
    "#print(get_audio_duration(attached_file)"
   ]
  },
  {
   "cell_type": "code",
   "execution_count": 27,
   "metadata": {
    "id": "LcS3UFOU965b"
   },
   "outputs": [],
   "source": [
    "def get_audio_details(attached_file):\n",
    "    \"\"\"Get audio information provide answers to user's question\"\"\"\n",
    "    prompt=f\"\"\"You are a helpful agent that provides answer to user's question related to audio files. You have access to below tools:\n",
    "\n",
    "    1) read_audio_duration - This can be used to get the duration of an audio file\n",
    "\n",
    "    Provide answer to below user's question:\n",
    "\n",
    "    {user_question}\n",
    "\n",
    "    Respond with the answer to the final question only. Do not provide reasoning or any other text. If the question describes a format for the answer, the answer should be in that format\n",
    "    \"\"\""
   ]
  },
  {
   "cell_type": "code",
   "execution_count": 30,
   "metadata": {
    "id": "sqpBTn78O91_"
   },
   "outputs": [],
   "source": [
    "def get_prompt(input_question, attached_file):\n",
    "  agent_prompt = 'Book file is '  + attached_file + '. ' + input_question if ('this book file') in input_question else 'Provided spreadsheet is ' + attached_file + '. ' + input_question if ('provided spreadsheet') in input_question else 'Attached file is ' + attached_file + '. ' + input_question if ('attach' or 'Attach' or 'ATTACH') in input_question else 'This file is :' + attached_file + '. ' + input_question if ('this file') in input_question else 'Take this file as reference file :' + attached_file + '. ' + input_question if ('reference file') in input_question else input_question\n",
    "  return agent_prompt\n",
    "  #print(agent_prompt)"
   ]
  },
  {
   "cell_type": "code",
   "execution_count": 31,
   "metadata": {
    "id": "o2sKL8-1oiLs"
   },
   "outputs": [],
   "source": [
    "def analyze_websites_content(user_question):\n",
    "  \"Analyze website content from websites and extract details from the website\"\n",
    "  prompt=f\"\"\"You are a helpful assistant that provides to answers to users question based on the websites described in the question. You have access to the below tools:\n",
    "\n",
    "  get_images_from_website\n",
    "  download_images_from_website\n",
    "  extract_text_from_image\n",
    "\n",
    "  Go to the website described in the user's question and use the above tools to answer user's question below. Provide the answer to the final question only. Do not provide reasoning.\n",
    "\n",
    "  Question: {user_question}\n",
    "  \"\"\"\n"
   ]
  },
  {
   "cell_type": "code",
   "execution_count": 32,
   "metadata": {
    "colab": {
     "base_uri": "https://localhost:8080/"
    },
    "id": "Tjvy2osm1YO1",
    "outputId": "de6226da-1574-4411-db30-a9410a80b704"
   },
   "outputs": [
    {
     "name": "stdout",
     "output_type": "stream",
     "text": [
      "\n",
      "https://www.nielsen.com/wp-content/uploads/sites/2/2024/07/solutions-dropdown-banner.jpg?w=1024\n",
      "https://preprod.nielsen.com/wp-content/uploads/sites/2/2021/10/cropped-nielsen_favicon_512x512-1.png?w=512\n",
      "https://www.nielsen.com/wp-content/uploads/sites/2/2022/02/Quote_1200x400_v1.png?w=1024\n",
      "https://www.nielsen.com/wp-content/uploads/sites/2/2023/06/how-to-get-your-content-discovered-meta-1200x675-1.jpg?w=384\n",
      "https://www.nielsen.com/wp-content/uploads/sites/2/2022/02/Header-1200x400-1-1.png?w=384\n",
      "https://www.nielsen.com/wp-content/uploads/sites/2/2021/10/bg2-1.jpeg\n"
     ]
    }
   ],
   "source": [
    "def get_images_from_website(url):\n",
    "  \"Gets the list of images from the website url\"\n",
    "  # Define the URL of the target website\n",
    "\n",
    "  # Send an HTTP GET request to the URL\n",
    "  response = requests.get(url)\n",
    "\n",
    "  images_list=''\n",
    "  # Parse the HTML content using Beautiful Soup\n",
    "  soup = BeautifulSoup(response.content, 'html.parser')\n",
    "  images=soup.find_all('img')\n",
    "  for image in range(len(images)):\n",
    "    #print(images[image]['src'])\n",
    "    images_list = images_list + '\\n' + (images[image]['src'])\n",
    "  return images_list\n",
    "\n",
    "url = 'https://www.nielsen.com/insights/2022/case-study-quantifying-the-impact-of-tiktok-advertising/'\n",
    "imgs=get_images_from_website(url)\n",
    "print(imgs)\n",
    "\n",
    "# Extract data (e.g., all paragraph texts)\n",
    "#paragraphs = soup.find_all('p')\n",
    "#for p in paragraphs:\n",
    "#    print(p.get_text())\n"
   ]
  },
  {
   "cell_type": "code",
   "execution_count": 33,
   "metadata": {
    "id": "81xOcx3Hdnwb"
   },
   "outputs": [],
   "source": [
    "def download_images_from_website(url):\n",
    "  \"\"\"Download images from website. Send an HTTP GET request to the URL\"\"\"\n",
    "  response = requests.get(url, stream=True)\n",
    "  img_name = datetime.now().strftime(\"%Y-%m-%d-%H:%M:%S\")\n",
    "  with open('/content/'+ img_name, 'wb') as file:\n",
    "      for chunk in response.iter_content(chunk_size=8192):\n",
    "          file.write(chunk)\n",
    "\n",
    "#download_images_from_website('https://www.nielsen.com/wp-content/uploads/sites/2/2022/02/Quote_1200x400_v1.png?')"
   ]
  },
  {
   "cell_type": "code",
   "execution_count": 34,
   "metadata": {
    "id": "guFYlCIRbz7w"
   },
   "outputs": [],
   "source": [
    "def extract_text_from_image(image_path):\n",
    "  \"\"\"\n",
    "  Extracts text from an image.\"\"\"\n",
    "  # Open the image using Pillow\n",
    "  img = Image.open(image_path)\n",
    "\n",
    "  # Perform OCR using pytesseract\n",
    "  text = pytesseract.image_to_string(img)\n",
    "  return(text)\n",
    "\n",
    "#extracted_text = extract_text_from_image('/content/2025-06-23-02:06:32')\n",
    "#print(extracted_text)"
   ]
  },
  {
   "cell_type": "code",
   "execution_count": 35,
   "metadata": {
    "id": "vS4i2LpNvOPx"
   },
   "outputs": [],
   "source": [
    "all_tools = [analyze_websites_content, get_images_from_website, download_images_from_website, extract_text_from_image, get_stock_market_information, get_share_trade_volume, get_ticker, get_audio_details, read_audio_duration, read_wikipedia_page, analyze_text_data, convert_text_to_string, convert_pdf_to_text, convert_excel_to_text, convert_csv_to_text, analyze_inventory_bricks_data, search_internet_web_sites, analyze_library_books_movies_titles_data, analyze_sale_menu_items_data, analyze_spreadsheet_latitude_longitude_coordinates_data, analyze_inventory_movie_video_game_data, analyze_employees_data, analyze_locomotives_data, analyze_books_data, answer_question_olympics]"
   ]
  },
  {
   "cell_type": "markdown",
   "metadata": {
    "id": "sWgkEOSWObAF"
   },
   "source": [
    "## Define the Agent"
   ]
  },
  {
   "cell_type": "code",
   "execution_count": 36,
   "metadata": {
    "id": "jbl9qxHTqSvA"
   },
   "outputs": [],
   "source": [
    "gaia_agent = ReActAgent(\n",
    "    name=\"gaia_agent\",\n",
    "    description=\"Performs response to user queries\",\n",
    "    system_prompt=\"You are a general AI assistant. I will ask you a question. Report your thoughts in English, and finish your answer with the following template: FINAL ANSWER: [YOUR FINAL ANSWER]. YOUR FINAL ANSWER should be a number OR as few words as possible OR a comma separated list of numbers and/or strings. If you are asked for a number, don't use comma to write your number neither use units such as $ or percent sign unless specified otherwise. If you are asked for a string, don't use articles, neither abbreviations (e.g. for cities), and write the digits in plain text unless specified otherwise. If you are asked for a comma separated list, apply these rules depending of whether the element to be put in the list is a number or a string.\",\n",
    "    tools=all_tools,\n",
    "    llm=model, #verbose=True\n",
    ")\n"
   ]
  },
  {
   "cell_type": "markdown",
   "metadata": {
    "id": "Dn9eqdl34I_g"
   },
   "source": [
    "#Section1: Excel files as input"
   ]
  },
  {
   "cell_type": "markdown",
   "metadata": {
    "id": "lO8HgkrN41jc"
   },
   "source": [
    "##1. GAIA Test Set. Question 11: \"task_id\": \"4033181f-1988-476b-bc33-6da0f96d7bd0\""
   ]
  },
  {
   "cell_type": "code",
   "execution_count": null,
   "metadata": {
    "colab": {
     "base_uri": "https://localhost:8080/"
    },
    "id": "9MuUweXB13A1",
    "outputId": "f977dbed-841d-4a35-bb6e-28bf5f70c8a9"
   },
   "outputs": [
    {
     "name": "stdout",
     "output_type": "stream",
     "text": [
      "Thought: I have the text data from the Excel file, which includes the titles, authors, genres, start dates, end dates, and ratings of the books read last year. I will look for any book that might contain a description referring to something as looking like a manta ray. Since the user did not provide the specific title, I will analyze the genres and themes of the books to make an educated guess about which book might contain such a description.\n",
      "\n",
      "The books listed are:\n",
      "1. Fire and Blood by George R. R. Martin (Fantasy)\n",
      "2. Song of Solomon by Toni Morrison (Literary Fiction)\n",
      "3. The Lost Symbol by Dan Brown (Thriller)\n",
      "4. 2001: A Space Odyssey by Arthur C. Clarke (Science Fiction)\n",
      "5. American Gods by Neil Gaiman (Fantasy)\n",
      "6. Out of the Silent Planet by C.S. Lewis (Science Fiction)\n",
      "7. The Andromeda Strain by Michael Crichton (Science Fiction)\n",
      "8. Brave New World by Aldous Huxley (Dystopia)\n",
      "9. Silence by Shusaku Endo (Historical Fiction)\n",
      "10. The Shining by Stephen King (Horror)\n",
      "\n",
      "Given the themes, \"Out of the Silent Planet\" by C.S. Lewis, which is a science fiction novel, might contain descriptions of alien landscapes or creatures that could be likened to a manta ray. This book was read from August 25 to September 30, 2022.\n",
      "\n",
      "Action: I will conclude that the passage about the manta ray likely comes from \"Out of the Silent Planet\" and that the user read it in September 2022.\n",
      "Thought: I can answer without using any more tools. I'll use the user's language to answer.\n",
      "Answer: Based on the information from your reading list, it is likely that you read the passage about the manta ray in September 2022, from the book \"Out of the Silent Planet\" by C.S. Lewis.\n"
     ]
    }
   ],
   "source": [
    "attached_file='/content/4033181f-1988-476b-bc33-6da0f96d7bd0.xlsx'\n",
    "\n",
    "input_question=f\"I was reading this book last year, and it had this really cool description where it referred to something as looking like a manta ray. I am trying to figure out when I read that part, but I can't find what book it was from. This file I attached has a list of the books I read last year, with the date I started and finished reading each one. I would like for you to tell me the month in which I likely read the passage about the manta ray.\"\n",
    "agent_prompt = 'Attached file is ' + attached_file + '. ' + input_question if ('attach' or 'Attach' or 'ATTACH') in input_question else input_question\n",
    "#print(agent_prompt)\n",
    "# Run the system\n",
    "response = await gaia_agent.run(user_msg=agent_prompt)\n",
    "print(response)\n"
   ]
  },
  {
   "cell_type": "markdown",
   "metadata": {
    "id": "R6I3f3lY6c2k"
   },
   "source": [
    "##2. GAIA Test Set. Question 20: \"task_id\": \"cfd773c8-371f-425c-b081-f254f96c0530\""
   ]
  },
  {
   "cell_type": "code",
   "execution_count": null,
   "metadata": {
    "colab": {
     "base_uri": "https://localhost:8080/"
    },
    "id": "e-5S-aZi8lFD",
    "outputId": "f0a15922-7c8b-4f03-a2b8-aac9ffc088e5"
   },
   "outputs": [
    {
     "name": "stdout",
     "output_type": "stream",
     "text": [
      "The ID number of the steam locomotive being exhibited in the Display Hall is 18.\n"
     ]
    }
   ],
   "source": [
    "attached_file='/content/cfd773c8-371f-425c-b081-f254f96c0530.xlsx'\n",
    "\n",
    "input_question=f\"The attached file lists locomotives owned by a local railroad museum. What is the ID number of the steam locomotive being exhibited in the Display Hall?\"\n",
    "agent_prompt = 'Attached file is ' + attached_file + '. ' + input_question if ('attach' or 'Attach' or 'ATTACH') in input_question else input_question\n",
    "response = await gaia_agent.run(user_msg=agent_prompt)\n",
    "print(response)"
   ]
  },
  {
   "cell_type": "markdown",
   "metadata": {
    "id": "tCQs2KyROwUX"
   },
   "source": [
    "##3. GAIA Test Set. Question 39: \"task_id\": \"c7003252-fc58-44bf-92f5-ec3991a49d00\""
   ]
  },
  {
   "cell_type": "code",
   "execution_count": null,
   "metadata": {
    "colab": {
     "base_uri": "https://localhost:8080/"
    },
    "id": "itCrE4Qz58V0",
    "outputId": "620b9b9a-bc46-4365-9586-733bd2297d17"
   },
   "outputs": [
    {
     "name": "stdout",
     "output_type": "stream",
     "text": [
      "2 employees appear to be next-door neighbors of another employee.\n"
     ]
    }
   ],
   "source": [
    "attached_file='/content/c7003252-fc58-44bf-92f5-ec3991a49d00.xlsx'\n",
    "\n",
    "input_question=f\"The attached spreadsheet lists contact information for employees of the consulting company Great Ape Solutions. How many employees appear to be next-door neighbors of another employee? Assume that houses next to each other have consecutive addresses, and dont include people who live in the same building as next-door neighbors.\"\n",
    "agent_prompt = 'Attached file is ' + attached_file + '. ' + input_question if ('attach' or 'Attach' or 'ATTACH') in input_question else input_question\n",
    "response = await gaia_agent.run(user_msg=agent_prompt)\n",
    "print(response)"
   ]
  },
  {
   "cell_type": "markdown",
   "metadata": {
    "id": "3-u1t90OS9AC"
   },
   "source": [
    "##4. GAIA Test Set. Question 52: \"task_id\": \"f5d0b1c6-5e15-4c55-b60c-9fc855dda5cf\""
   ]
  },
  {
   "cell_type": "code",
   "execution_count": null,
   "metadata": {
    "colab": {
     "base_uri": "https://localhost:8080/"
    },
    "id": "Q9cCUO-vRRiJ",
    "outputId": "8b8d4977-af3e-49c4-bca1-0bea1b6536ef"
   },
   "outputs": [
    {
     "name": "stdout",
     "output_type": "stream",
     "text": [
      "There are currently 2 horror titles being kept by customers beyond the seven-day rental period.\n"
     ]
    }
   ],
   "source": [
    "attached_file='/content/f5d0b1c6-5e15-4c55-b60c-9fc855dda5cf.xlsx'\n",
    "\n",
    "input_question=f\"The attached file shows the inventory of a movie and video game rental store. The company offers a seven-day rental for each title. If a customer keeps a title beyond that, it is marked as overdue. If a customer keeps a title for a month beyond the seven-day rental, it is marked as missing. How many horror titles are currently being kept by customers beyond the seven-day period?\"\n",
    "agent_prompt = 'Attached file is ' + attached_file + '. ' + input_question if ('attach' or 'Attach' or 'ATTACH') in input_question else input_question\n",
    "response = await gaia_agent.run(user_msg=agent_prompt)\n",
    "print(response)"
   ]
  },
  {
   "cell_type": "markdown",
   "metadata": {
    "id": "0WFnZPJmXpZ1"
   },
   "source": [
    "##5. GAIA Test Set. Question 81: \"task_id\": \"56376d48-f456-4c24-a917-834be04c7608\""
   ]
  },
  {
   "cell_type": "code",
   "execution_count": null,
   "metadata": {
    "colab": {
     "base_uri": "https://localhost:8080/"
    },
    "id": "bo6BLJ7RUsFz",
    "outputId": "9a33c63d-4c87-4044-88e2-986f5bc3fd98"
   },
   "outputs": [
    {
     "name": "stdout",
     "output_type": "stream",
     "text": [
      "Alpha, Beta\n"
     ]
    }
   ],
   "source": [
    "attached_file='/content/56376d48-f456-4c24-a917-834be04c7608.xlsx'\n",
    "\n",
    "input_question=f\"The attached spreadsheet contains the latitude and longitude coordinates of transit stops named after letters of the Greek alphabet. Which two adjacent stops have the shortest distance between them? Answer using the format Stop1, Stop2.\"\n",
    "agent_prompt = 'Attached file is ' + attached_file + '. ' + input_question if ('attach' or 'Attach' or 'ATTACH') in input_question else input_question\n",
    "#print(agent_prompt)\n",
    "response = await gaia_agent.run(user_msg=agent_prompt)\n",
    "print(response)"
   ]
  },
  {
   "cell_type": "markdown",
   "metadata": {
    "id": "MNMCbGKVeLBi"
   },
   "source": [
    "##6. GAIA Test Set. Question 89: \"task_id\": \"fe8f4748-5d00-4a27-9070-090a0cfdeac4\""
   ]
  },
  {
   "cell_type": "code",
   "execution_count": null,
   "metadata": {
    "colab": {
     "base_uri": "https://localhost:8080/"
    },
    "id": "2knxKFGGZnxM",
    "outputId": "a8d02b6c-42eb-4b3c-9602-84bb2e01ef93"
   },
   "outputs": [
    {
     "name": "stdout",
     "output_type": "stream",
     "text": [
      "4031\n"
     ]
    }
   ],
   "source": [
    "attached_file='/content/fe8f4748-5d00-4a27-9070-090a0cfdeac4.xlsx'\n",
    "\n",
    "input_question=f\"The attached Excel file contains the sales of menu items for a regional fast food chain. Please tell me, in USD, how much was sold from items containing meat at the Marztep location. Round to the nearest integer.\"\n",
    "agent_prompt = 'Attached file is ' + attached_file + '. ' + input_question if ('attach' or 'Attach' or 'ATTACH') in input_question else input_question\n",
    "#print(agent_prompt)\n",
    "response = await gaia_agent.run(user_msg=agent_prompt)\n",
    "print(response)"
   ]
  },
  {
   "cell_type": "markdown",
   "metadata": {
    "id": "RicGjAPrM1Bs"
   },
   "source": [
    "##7. Question 261 \"task_id\": \"b74b4ce7-4f03-42b5-b60e-62da7ffa282e\""
   ]
  },
  {
   "cell_type": "code",
   "execution_count": null,
   "metadata": {
    "colab": {
     "base_uri": "https://localhost:8080/"
    },
    "id": "DHS6hO-KMvU8",
    "outputId": "d4717320-1b4b-4fc5-c44b-d0293f50093b"
   },
   "outputs": [
    {
     "name": "stdout",
     "output_type": "stream",
     "text": [
      "The restaurant that made the most money relative to the rent it paid is Dottie's Lattes.\n"
     ]
    }
   ],
   "source": [
    "attached_file='/content/b74b4ce7-4f03-42b5-b60e-62da7ffa282e.xlsx'\n",
    "\n",
    "input_question=f\"The attached spreadsheet contains a list of occupants of the Liminal Springs Mall. It also lists each occupant's revenue for this month as well as the rent they pay the mall. What is the name of the restaurant that made the most money, relative to the rent it paid?\"\n",
    "agent_prompt = 'Attached file is ' + attached_file + '. ' + input_question if ('attach' or 'Attach' or 'ATTACH') in input_question else 'Take this file as reference file :' + attached_file + '. ' + input_question if ('reference file') in input_question else input_question\n",
    "#print(agent_prompt)\n",
    "response = await gaia_agent.run(user_msg=agent_prompt)\n",
    "print(response)"
   ]
  },
  {
   "cell_type": "markdown",
   "metadata": {
    "id": "txhGH3jDCW-k"
   },
   "source": [
    "##8. GAIA Test Set. Question 295: \"task_id\": \"d8434132-f196-4048-82c3-c06facff53c0\""
   ]
  },
  {
   "cell_type": "code",
   "execution_count": null,
   "metadata": {
    "colab": {
     "base_uri": "https://localhost:8080/"
    },
    "id": "f6ps4jEzCoKP",
    "outputId": "eb1e05cb-e762-45e9-8b34-196e33a21815"
   },
   "outputs": [
    {
     "name": "stdout",
     "output_type": "stream",
     "text": [
      "The student's favorite genres, based on the average ratings, are Literary Fiction, Historical Fiction.\n"
     ]
    }
   ],
   "source": [
    "attached_file='/content/d8434132-f196-4048-82c3-c06facff53c0.xlsx'\n",
    "\n",
    "input_question=f\"The attached file shows a list of books that one of my students read, along with each books genre and a rating of how well the student liked it. I am using this list to determine their favorite genre. What seems to be the students favorite genre, based on the average rating that the student gave to books in that genre? If two genres are tied for highest average rating, use alphabetical order and separate them with a comma.\"\n",
    "agent_prompt = 'Attached file is ' + attached_file + '. ' + input_question if ('attach' or 'Attach' or 'ATTACH') in input_question else 'Take this file as reference file :' + attached_file + '. ' + input_question if ('reference file') in input_question else input_question\n",
    "#print(agent_prompt)\n",
    "response = await gaia_agent.run(user_msg=agent_prompt)\n",
    "print(response)"
   ]
  },
  {
   "cell_type": "markdown",
   "metadata": {
    "id": "k5z9-GKDAdfZ"
   },
   "source": [
    "##9. GAIA Test Set. Question 295: \"task_id\": \"f6d29ef1-0e4d-41cb-ac25-e60023b3bd96\""
   ]
  },
  {
   "cell_type": "code",
   "execution_count": null,
   "metadata": {
    "colab": {
     "base_uri": "https://localhost:8080/"
    },
    "id": "0aQACKgiAcCM",
    "outputId": "67e8f3de-2ce0-4916-8657-e28a275917b9"
   },
   "outputs": [
    {
     "name": "stdout",
     "output_type": "stream",
     "text": [
      "5\n"
     ]
    }
   ],
   "source": [
    "attached_file='/content/f6d29ef1-0e4d-41cb-ac25-e60023b3bd96.xlsx'\n",
    "\n",
    "input_question=f\"The attached spreadsheet shows the occupants of the Liminal Springs Mall. The occupants are divided by zone, based on where they are located in the mall. What is the number of the zone that has the highest total revenue? Just give the number.\"\n",
    "agent_prompt = 'Attached file is ' + attached_file + '. ' + input_question if ('attach' or 'Attach' or 'ATTACH') in input_question else 'Take this file as reference file :' + attached_file + '. ' + input_question if ('reference file') in input_question else input_question\n",
    "#print(agent_prompt)\n",
    "response = await gaia_agent.run(user_msg=agent_prompt)\n",
    "print(response)"
   ]
  },
  {
   "cell_type": "markdown",
   "metadata": {
    "id": "Ka7HbCTJ3NwJ"
   },
   "source": [
    "##10. Question 142 \"task_id\": \"fcd80879-4f1d-49d8-b6d6-2993607432c2\""
   ]
  },
  {
   "cell_type": "code",
   "execution_count": null,
   "metadata": {
    "colab": {
     "base_uri": "https://localhost:8080/"
    },
    "id": "k0IpFFTJ3OES",
    "outputId": "9f443e24-bc07-46d6-9728-c9cca6181746"
   },
   "outputs": [
    {
     "name": "stdout",
     "output_type": "stream",
     "text": [
      "0.5\n"
     ]
    }
   ],
   "source": [
    "attached_file='/content/fcd80879-4f1d-49d8-b6d6-2993607432c2.xlsx'\n",
    "input_question=f\"The attached Excel file contains a record of the animals living at the San Cecelia Zoo. Specifically, it lists the type of animal, the number the zoo has, its location in the zoo, additional remarks from the zookeeper, and the date that type of animal was added to the zoo. What percentage of the zoo\\u2019s meerkats were above ground when the file was created? Use a decimal format, like 0.1 for 10%.\"\n",
    "prompt = get_prompt(input_question, attached_file)\n",
    "response = await gaia_agent.run(user_msg=prompt)\n",
    "print(response)"
   ]
  },
  {
   "cell_type": "markdown",
   "metadata": {
    "id": "1CHxHYN19wG3"
   },
   "source": [
    "##11. Question 169 \"task_id\": \"aac4df0d-407a-45f2-add5-d9b31ebe1ddc\", \"Question\":"
   ]
  },
  {
   "cell_type": "code",
   "execution_count": null,
   "metadata": {
    "colab": {
     "base_uri": "https://localhost:8080/"
    },
    "id": "POeAEMof9wYM",
    "outputId": "479bb3d2-40e9-4d98-981e-8410ee3acd2e"
   },
   "outputs": [
    {
     "name": "stdout",
     "output_type": "stream",
     "text": [
      "Yes\n"
     ]
    }
   ],
   "source": [
    "attached_file='/content/aac4df0d-407a-45f2-add5-d9b31ebe1ddc.xlsx'\n",
    "input_question=f\"The provided spreadsheet lists locomotives owned by a certain railroad museum. Some of these locomotives run excursions to destinations in the region. For example, the Main Street Jaunt runs 10 miles to the towns historic main street, the Sunset Picnic Trip runs to a scenic picnic grove 50 miles away, and the Fall Foliage Tour traverses a 60-mile route around a mountain. Locomotive #93 is about to leave for its assigned excursion. There is a hot air balloon show today that is visible from its destination. The show, however, ends in an hour and a half. If this locomotive travels at its top speed for the entire duration of the journey, will it arrive at its destination before the end of the show? Yes or No?\"\n",
    "prompt = get_prompt(input_question, attached_file)\n",
    "response = await gaia_agent.run(user_msg=prompt)\n",
    "print(response)"
   ]
  },
  {
   "cell_type": "markdown",
   "metadata": {
    "id": "ElqBZHtFQVHS"
   },
   "source": [
    "##12. Question 214 task_id\": \"3cc53dbf-1ab9-4d21-a56a-fc0151c10f89\""
   ]
  },
  {
   "cell_type": "code",
   "execution_count": null,
   "metadata": {
    "colab": {
     "base_uri": "https://localhost:8080/"
    },
    "id": "4bHD6Ey3QWYz",
    "outputId": "bf3ae391-9ae9-4254-e40c-80e7294e3386"
   },
   "outputs": [
    {
     "name": "stdout",
     "output_type": "stream",
     "text": [
      "The store currently has 10 cartridges on its shelves.\n"
     ]
    }
   ],
   "source": [
    "attached_file='/content/3cc53dbf-1ab9-4d21-a56a-fc0151c10f89.xlsx'\n",
    "input_question=f\"The attached file shows the inventory of a movie and video game rental store. Assuming that the store only has one copy of each title, how many cartridges does the store currently have on its shelves?\"\n",
    "prompt = get_prompt(input_question, attached_file)\n",
    "response = await gaia_agent.run(user_msg=prompt)\n",
    "print(response)"
   ]
  },
  {
   "cell_type": "markdown",
   "metadata": {
    "id": "bGJl4WFkVDIQ"
   },
   "source": [
    "## 13. Question 226 \"task_id\": \"5f2b2e54-5047-4394-81be-198230c3b508\""
   ]
  },
  {
   "cell_type": "code",
   "execution_count": null,
   "metadata": {
    "colab": {
     "base_uri": "https://localhost:8080/"
    },
    "id": "bxWjofDDVDmb",
    "outputId": "059bae25-609d-4b80-f93a-8dae05cc08ce"
   },
   "outputs": [
    {
     "name": "stdout",
     "output_type": "stream",
     "text": [
      "Hay dos títulos que califican para la venta y están disponibles para que los clientes los alquilen.\n"
     ]
    }
   ],
   "source": [
    "attached_file='/content/5f2b2e54-5047-4394-81be-198230c3b508.xlsx'\n",
    "input_question=f\"The attached spreadsheet shows the inventory for a movie and video game rental store. Right now, they are holding a Week sale, where all DVDs and video games from that decade are 30% off. How many titles qualify for the sale and are available for customers to check out?\"\n",
    "prompt = get_prompt(input_question, attached_file)\n",
    "response = await gaia_agent.run(user_msg=prompt)\n",
    "print(response)"
   ]
  },
  {
   "cell_type": "code",
   "execution_count": null,
   "metadata": {
    "colab": {
     "base_uri": "https://localhost:8080/"
    },
    "id": "HJZKA65QXhQB",
    "outputId": "71347a5b-f938-4dad-fb1a-fff49f2128c0"
   },
   "outputs": [
    {
     "name": "stdout",
     "output_type": "stream",
     "text": [
      "There are 2 titles that qualify for the sale and are available for customers to check out.\n"
     ]
    }
   ],
   "source": [
    "attached_file='/content/5f2b2e54-5047-4394-81be-198230c3b508.xlsx'\n",
    "input_question=f\"The attached spreadsheet shows the inventory for a movie and video game rental store. Right now, they are holding a Week sale, where all DVDs and video games from that decade are 30% off. How many titles qualify for the sale and are available for customers to check out?\"\n",
    "prompt = get_prompt(input_question, attached_file)\n",
    "response = await gaia_agent.run(user_msg=prompt)\n",
    "print(response)"
   ]
  },
  {
   "cell_type": "markdown",
   "metadata": {
    "id": "u4ZGOIJCZsa_"
   },
   "source": [
    "## 14. Question 233 \"task_id\": \"59b3cfb0-a06a-4ac5-b54e-81c9db8b0957\""
   ]
  },
  {
   "cell_type": "code",
   "execution_count": null,
   "metadata": {
    "colab": {
     "base_uri": "https://localhost:8080/"
    },
    "id": "HNxISAlOZspb",
    "outputId": "a0699e4c-6dcf-4432-d330-b1e2b96d5b8e"
   },
   "outputs": [
    {
     "name": "stdout",
     "output_type": "stream",
     "text": [
      "16.67\n"
     ]
    }
   ],
   "source": [
    "attached_file=\"/content/59b3cfb0-a06a-4ac5-b54e-81c9db8b0957.xlsx\"\n",
    "input_question=\"I am interested in learning about how the place a person lives in affects their preferred communication method. The attached dataset contains the location and contact information for a group of twelve survey respondents. What is the absolute difference between the percentage of people in Palmetto who use carrier pigeons, and the percentage of people in Coconut who use them? Round to two decimal places for your calculations, and don't put a percent sign in your answer.\"\n",
    "prompt = get_prompt(input_question, attached_file)\n",
    "response = await gaia_agent.run(user_msg=prompt)\n",
    "print(response)"
   ]
  },
  {
   "cell_type": "markdown",
   "metadata": {
    "id": "IquP3H7k3xla"
   },
   "source": [
    "#Section 2: PDF files as input"
   ]
  },
  {
   "cell_type": "markdown",
   "metadata": {
    "id": "s0RnF3-44AbQ"
   },
   "source": [
    "##15. GAIA Test Set. Question 32: \"task_id\": \"c4456885-2f03-436f-8fe9-0b4ca6822cdb\""
   ]
  },
  {
   "cell_type": "code",
   "execution_count": null,
   "metadata": {
    "colab": {
     "base_uri": "https://localhost:8080/"
    },
    "id": "hfU9-UYq3o9Y",
    "outputId": "59c8657a-18d5-417e-863d-35a2379ce501"
   },
   "outputs": [
    {
     "name": "stdout",
     "output_type": "stream",
     "text": [
      "The film \"Jurassic Park\" was released 3 years after the book it was based on was published, and its status is listed as **Overdue**.\n"
     ]
    }
   ],
   "source": [
    "attached_file='/content/c4456885-2f03-436f-8fe9-0b4ca6822cdb.pdf'\n",
    "\n",
    "input_question=f\"The attached file shows titles in the collection of Scribe County Public Library. Several of the films are adaptations of books that are also in its collection. Of these films, find the one that was released the soonest after the book it was based on was first published. Tell me what is listed under the Status column for that film. Note that some books may have been released earlier than the films, but the film may not be based on it.\"\n",
    "agent_prompt = 'Attached file is ' + attached_file + '. ' + input_question if ('attach' or 'Attach' or 'ATTACH') in input_question else input_question\n",
    "#print(agent_prompt)\n",
    "response = await gaia_agent.run(user_msg=agent_prompt)\n",
    "print(response)"
   ]
  },
  {
   "cell_type": "markdown",
   "metadata": {
    "id": "GzcwgsfnEPoO"
   },
   "source": [
    "##16. GAIA Test Set. Question 7: \"task_id\": \"4044eab7-1282-42bd-a559-3bf3a4d5858e\""
   ]
  },
  {
   "cell_type": "code",
   "execution_count": null,
   "metadata": {
    "colab": {
     "base_uri": "https://localhost:8080/"
    },
    "id": "Gxnm2dio2StV",
    "outputId": "d1aa7a41-4d47-45ea-ac56-2023eea6c4e6"
   },
   "outputs": [
    {
     "name": "stdout",
     "output_type": "stream",
     "text": [
      "The ISBN number for \"Mockingjay\" is 978-0-439-02348-1.\n"
     ]
    }
   ],
   "source": [
    "attached_file='/content/4044eab7-1282-42bd-a559-3bf3a4d5858e.pdf'\n",
    "input_question=f\"The attached file shows a library's collection of books and films. What is the ISBN number of the book in the Hunger Games series that is currently checked out? Return the ISBN as it appears on Wikipedia in July of 2023.\"\n",
    "prompt = get_prompt(input_question, attached_file)\n",
    "response = await gaia_agent.run(user_msg=prompt)\n",
    "print(response)"
   ]
  },
  {
   "cell_type": "markdown",
   "metadata": {
    "id": "BEBAfQG5qfbu"
   },
   "source": [
    "##17. Question 116 task_id\": \"8770c47d-56ad-42cf-b0a6-7e48d0d19019\""
   ]
  },
  {
   "cell_type": "code",
   "execution_count": null,
   "metadata": {
    "colab": {
     "base_uri": "https://localhost:8080/"
    },
    "id": "lpBCQmUeqfsp",
    "outputId": "c1f33101-aa43-42ad-e5ae-023c48d7dc8f"
   },
   "outputs": [
    {
     "name": "stdout",
     "output_type": "stream",
     "text": [
      "As of 2020, Brazil had approximately 497 million hectares of forest, while Canada had about 347 million hectares of forest. Therefore, Brazil had around 150 million hectares more forest than Canada in 2020.\n"
     ]
    }
   ],
   "source": [
    "attached_file=''\n",
    "input_question=f\"According to https://www.fao.org/3/ca8753en/ca8753en.pdf, how many more millions of hectares of forest in Brazil than in Canada in 2020?\"\n",
    "prompt = get_prompt(input_question, attached_file)\n",
    "response = await gaia_agent.run(user_msg=prompt)\n",
    "print(response)"
   ]
  },
  {
   "cell_type": "markdown",
   "metadata": {
    "id": "_Qn-z4G-tAR1"
   },
   "source": [
    "##18. Question 130 \"task_id\": \"7c215d46-91c7-424e-9f22-37d43ab73ea6\""
   ]
  },
  {
   "cell_type": "code",
   "execution_count": null,
   "metadata": {
    "colab": {
     "base_uri": "https://localhost:8080/"
    },
    "id": "mkaVsgwTtAkW",
    "outputId": "3c8d2597-6ab5-4299-f299-455680f6b589"
   },
   "outputs": [
    {
     "name": "stdout",
     "output_type": "stream",
     "text": [
      "Time Parking is aired for a total of 4 hours on ZBC 03.\n"
     ]
    }
   ],
   "source": [
    "attached_file='/content/7c215d46-91c7-424e-9f22-37d43ab73ea6.pdf'\n",
    "input_question=f\"The attached file is the broadcast schedule for ZBC Television Networks. They have two channels: ZBC 00, which is geared toward families, and ZBC 03, which targets a more mature audience. According to this schedule, for how many hours is Time Parking aired?\"\n",
    "prompt = get_prompt(input_question, attached_file)\n",
    "response = await gaia_agent.run(user_msg=prompt)\n",
    "print(response)"
   ]
  },
  {
   "cell_type": "markdown",
   "metadata": {
    "id": "pgc-wYhxDYma"
   },
   "source": [
    "##19. Question 190 \"task_id\": \"b3654e47-4307-442c-a09c-945b33b913c6\" Answer is incorrect. Revisit."
   ]
  },
  {
   "cell_type": "code",
   "execution_count": null,
   "metadata": {
    "colab": {
     "base_uri": "https://localhost:8080/"
    },
    "id": "aHesEyftDY2G",
    "outputId": "3be976ce-1173-4821-9cf6-7777b70c11b0"
   },
   "outputs": [
    {
     "name": "stdout",
     "output_type": "stream",
     "text": [
      "The age range with the highest percentage of books authored, at least in part, by women is Young Adult with 25. The percentage of books in that age range that are fantasy books is 100.\n"
     ]
    }
   ],
   "source": [
    "attached_file='/content/b3654e47-4307-442c-a09c-945b33b913c6.pdf'\n",
    "input_question=f\"The attached file shows a list of titles owned by the Scribe County Public Library. Find the age range that has the highest percentage of books authored, at least in part, by women. Then, tell me what percentage of books in that age range are fantasy books. Round to a whole number for your answer, and don't include a percent sign.\"\n",
    "prompt = get_prompt(input_question, attached_file)\n",
    "response = await gaia_agent.run(user_msg=prompt)\n",
    "print(response)"
   ]
  },
  {
   "cell_type": "markdown",
   "metadata": {
    "id": "HictLFgzbOU9"
   },
   "source": [
    "##20. Question 234 \"task_id\": \"32f386b9-73ee-4455-b412-ddad508aa979\""
   ]
  },
  {
   "cell_type": "code",
   "execution_count": null,
   "metadata": {
    "colab": {
     "base_uri": "https://localhost:8080/"
    },
    "id": "u_tGktAQbOlJ",
    "outputId": "78c7531f-db67-4150-886f-0e16729f7d45"
   },
   "outputs": [
    {
     "name": "stdout",
     "output_type": "stream",
     "text": [
      "On August 3rd, 2022, there are 6 shows broadcasting episodes from their first season on ZBC 03.\n"
     ]
    }
   ],
   "source": [
    "attached_file=\"/content/32f386b9-73ee-4455-b412-ddad508aa979.pdf\"\n",
    "input_question=\"The attached file shows the broadcast schedule for ZBC Networks on August 3rd, 2022. ZBC operates two channels: ZBC 00, which is geared toward families, and ZBC 03, which targets a more mature audience. On the date shown, how many shows are broadcasting episodes from their first season on ZBC 03? Each entry in the episode column contains a prefix, e.g. 'S9E13', where the number after 'S' is the season number and the number after 'E' is the episode number.\"\n",
    "prompt = get_prompt(input_question, attached_file)\n",
    "response = await gaia_agent.run(user_msg=prompt)\n",
    "print(response)"
   ]
  },
  {
   "cell_type": "markdown",
   "metadata": {
    "id": "REi2-ZyM6V2C"
   },
   "source": [
    "##21. Question 157 \"task_id\": \"680d7d77-c0c7-49c8-88fd-f8ec623645e9\""
   ]
  },
  {
   "cell_type": "code",
   "execution_count": null,
   "metadata": {
    "colab": {
     "base_uri": "https://localhost:8080/"
    },
    "id": "_Xq8R0DJ6WGC",
    "outputId": "6263dfc9-ca27-4f21-8184-bd5b41fc8782"
   },
   "outputs": [
    {
     "name": "stdout",
     "output_type": "stream",
     "text": [
      "12\n"
     ]
    }
   ],
   "source": [
    "attached_file='/content/680d7d77-c0c7-49c8-88fd-f8ec623645e9.pdf'\n",
    "input_question=f\"The attached file shows a list of titles owned by Scribe County Public Library. The library charges a flat rate of $3 for each item that is overdue. Assuming that everybody with an overdue library book will eventually return it and pay the fee, how many dollars of revenue can the library expect to see from overdue Adult and Young Adult books, and not including books marked as Science Fiction? Please provide your response as an integer value with no dollar sign.\"\n",
    "prompt = get_prompt(input_question, attached_file)\n",
    "response = await gaia_agent.run(user_msg=prompt)\n",
    "print(response)"
   ]
  },
  {
   "cell_type": "markdown",
   "metadata": {
    "id": "I1FoKy6fIlaa"
   },
   "source": [
    "#Section 3: Text Files as Input"
   ]
  },
  {
   "cell_type": "markdown",
   "metadata": {
    "id": "wkc7n4k5tQDW"
   },
   "source": [
    "##22. GAIA Test Set. Question 81: \"task_id\": \"cd886ddd-2d12-4347-9c7a-64774f66a3d3\""
   ]
  },
  {
   "cell_type": "code",
   "execution_count": null,
   "metadata": {
    "colab": {
     "base_uri": "https://localhost:8080/"
    },
    "id": "lbUHcU3otQUc",
    "outputId": "f26d9e8f-906d-4efc-978c-b990f2fff803"
   },
   "outputs": [
    {
     "name": "stdout",
     "output_type": "stream",
     "text": [
      "1\n"
     ]
    }
   ],
   "source": [
    "attached_file='/content/cd886ddd-2d12-4347-9c7a-64774f66a3d3.txt'\n",
    "\n",
    "input_question=f\"In the reference file, there is a column of five numbers and a column of five letters. Imagine a straight line that starts from the first number and ends at the last letter. Then imagine another straight line that starts from the last number and ends at the first letter. Now imagine another line that starts from the second number and ends at the second letter. Finally, imagine another straight line that starts from the fourth number to the fourth letter. How many intersections are formed by these imaginary lines? Express your answer using a numerical value.\"\n",
    "agent_prompt = 'Attached file is ' + attached_file + '. ' + input_question if ('attach' or 'Attach' or 'ATTACH') in input_question else 'Take this file as reference file :' + attached_file + '. ' + input_question if ('reference file') in input_question else input_question\n",
    "#print(agent_prompt)\n",
    "response = await gaia_agent.run(user_msg=agent_prompt)\n",
    "print(response)"
   ]
  },
  {
   "cell_type": "markdown",
   "metadata": {
    "id": "KL7Zk5anF_eK"
   },
   "source": [
    "##23. GAIA Test Set.  Question 289 \"task_id\": \"aea1ea38-dfd0-41ab-ad79-badc3c69c784\""
   ]
  },
  {
   "cell_type": "code",
   "execution_count": null,
   "metadata": {
    "colab": {
     "base_uri": "https://localhost:8080/"
    },
    "id": "9SKcJDYbFytI",
    "outputId": "c3717458-6fc4-415f-e664-32ff113ed7e0"
   },
   "outputs": [
    {
     "name": "stdout",
     "output_type": "stream",
     "text": [
      "The letter missing from its namesake's name is \"h.\"\n"
     ]
    }
   ],
   "source": [
    "attached_file='/content/aea1ea38-dfd0-41ab-ad79-badc3c69c784.txt'\n",
    "\n",
    "input_question=f\"The code in this file is an incomplete snippet written in a language that is named after something. What letter is it missing from its namesake's name?\"\n",
    "agent_prompt = 'Attached file is ' + attached_file + '. ' + input_question if ('attach' or 'Attach' or 'ATTACH') in input_question else 'Take this file as reference file :' + attached_file + '. ' + input_question if ('reference file') in input_question else input_question\n",
    "#print(agent_prompt)\n",
    "response = await gaia_agent.run(user_msg=agent_prompt)\n",
    "print(response)"
   ]
  },
  {
   "cell_type": "markdown",
   "metadata": {
    "id": "ntmAqQoAPAXw"
   },
   "source": [
    "##24. Question 244 \"task_id\": \"dfa03d6c-402b-43fc-9222-5738f8bdfd0c\""
   ]
  },
  {
   "cell_type": "code",
   "execution_count": null,
   "metadata": {
    "colab": {
     "base_uri": "https://localhost:8080/"
    },
    "id": "QL5tw8rZPAoN",
    "outputId": "6dadcbaf-8976-42d5-8dde-fde33561e273"
   },
   "outputs": [
    {
     "name": "stdout",
     "output_type": "stream",
     "text": [
      "This file is :/content/dfa03d6c-402b-43fc-9222-5738f8bdfd0c.txt. How many meals in this file have both chicken and lemon, based on the titles?\n",
      "There are 6 meals in the file that have both chicken and lemon in their titles.\n"
     ]
    }
   ],
   "source": [
    "attached_file='/content/dfa03d6c-402b-43fc-9222-5738f8bdfd0c.txt'\n",
    "\n",
    "input_question=f\"How many meals in this file have both chicken and lemon, based on the titles?\"\n",
    "agent_prompt = 'Attached file is ' + attached_file + '. ' + input_question if ('attach' or 'Attach' or 'ATTACH') in input_question else 'This file is :' + attached_file + '. ' + input_question if ('this file') in input_question else 'Take this file as reference file :' + attached_file + '. ' + input_question if ('reference file') in input_question else input_question\n",
    "#print(agent_prompt)\n",
    "response = await gaia_agent.run(user_msg=agent_prompt)\n",
    "print(response)"
   ]
  },
  {
   "cell_type": "markdown",
   "metadata": {
    "id": "_MtZlCbDNjtJ"
   },
   "source": [
    "## 25. Question 49 \"task_id\": \"a0dcc222-691e-4b03-ac75-c4493991ab80\""
   ]
  },
  {
   "cell_type": "code",
   "execution_count": null,
   "metadata": {
    "colab": {
     "base_uri": "https://localhost:8080/"
    },
    "id": "epQMZPONNlDJ",
    "outputId": "78ffe476-4318-4122-8216-637bb6e33f82"
   },
   "outputs": [
    {
     "name": "stdout",
     "output_type": "stream",
     "text": [
      "The move with the highest base damage in the Generation 4 games from the provided team is \"Last Resort,\" which has a base damage of 140.\n"
     ]
    }
   ],
   "source": [
    "attached_file='/content/a0dcc222-691e-4b03-ac75-c4493991ab80.txt'\n",
    "\n",
    "input_question=f\"The attached .txt file is an export file from the competitive Pokemon application Pokemon Showdown, representing a team of six Pokemon characters. Out of all the moves that Pokemon on that team have, what is the name of the move that has the highest base damage in the Generation 4 games (e.g. Pokemon Diamond and Pokemon Pearl)?\"\n",
    "agent_prompt = 'Attached file is ' + attached_file + '. ' + input_question if ('attach' or 'Attach' or 'ATTACH') in input_question else 'This file is :' + attached_file + '. ' + input_question if ('this file') in input_question else 'Take this file as reference file :' + attached_file + '. ' + input_question if ('reference file') in input_question else input_question\n",
    "#print(agent_prompt)\n",
    "response = await gaia_agent.run(user_msg=agent_prompt)\n",
    "print(response)"
   ]
  },
  {
   "cell_type": "markdown",
   "metadata": {
    "id": "KsO3YrjwKHO2"
   },
   "source": [
    "##26. Question 197 \"task_id\": \"dd024dd9-8da6-4d4e-aee1-ed0d999035a9\""
   ]
  },
  {
   "cell_type": "code",
   "execution_count": null,
   "metadata": {
    "colab": {
     "base_uri": "https://localhost:8080/"
    },
    "id": "Pcgn0a8DKHoH",
    "outputId": "7016ad4e-610a-4e33-860b-be844c194dda"
   },
   "outputs": [
    {
     "name": "stdout",
     "output_type": "stream",
     "text": [
      "255\n"
     ]
    }
   ],
   "source": [
    "attached_file='/content/dd024dd9-8da6-4d4e-aee1-ed0d999035a9.txt'\n",
    "input_question=f\"You are the manager of a shop that opens at 8 am and closes at 8 pm. The reference file contains a list of workers and their shifts. Each time slot indicates when the worker begins their shift at the shop and ends their shift at the shop. What is the total amount of time when exactly two workers are at your shop? Your answer should be a numerical value and in minutes.\"\n",
    "prompt = get_prompt(input_question, attached_file)\n",
    "response = await gaia_agent.run(user_msg=prompt)\n",
    "print(response)"
   ]
  },
  {
   "cell_type": "markdown",
   "metadata": {
    "id": "2UzaSvQ9Onup"
   },
   "source": [
    "#Section 4: CSV  files as input"
   ]
  },
  {
   "cell_type": "markdown",
   "metadata": {
    "id": "JOpyKzEXfoqk"
   },
   "source": [
    "##27. Question 250 \"task_id\": \"52e8ce1c-09bd-4537-8e2d-67d1648779b9\""
   ]
  },
  {
   "cell_type": "code",
   "execution_count": null,
   "metadata": {
    "colab": {
     "base_uri": "https://localhost:8080/"
    },
    "id": "kYi8xnkUfo5w",
    "outputId": "ee886e0b-f0b2-4695-9c3f-b962ec1189bf"
   },
   "outputs": [
    {
     "name": "stdout",
     "output_type": "stream",
     "text": [
      "The total precipitation received by New York City for that year was 1890 inches.\n"
     ]
    }
   ],
   "source": [
    "attached_file=\"/content/52e8ce1c-09bd-4537-8e2d-67d1648779b9.csv\"\n",
    "input_question=\"The attached .csv file shows precipitation amounts, in inches, for the five boroughs of New York City in a certain year. How many inches of precipitation did the city receive in total for that year? Don't use commas if the number has four or more digits.\"\n",
    "prompt = get_prompt(input_question, attached_file)\n",
    "response = await gaia_agent.run(user_msg=prompt)\n",
    "print(response)"
   ]
  },
  {
   "cell_type": "markdown",
   "metadata": {
    "id": "WOGv6gcIywNi"
   },
   "source": [
    "## 28. Question 138 \"task_id\": \"7805912b-c8da-4134-9b54-b590f884352a\""
   ]
  },
  {
   "cell_type": "code",
   "execution_count": null,
   "metadata": {
    "colab": {
     "base_uri": "https://localhost:8080/"
    },
    "id": "GURSe5_pywek",
    "outputId": "1946b6ef-656a-43db-c9c1-9228d778338e"
   },
   "outputs": [
    {
     "name": "stdout",
     "output_type": "stream",
     "text": [
      "The borough that received the most precipitation that year was Queens, with a total of 431 inches.\n"
     ]
    }
   ],
   "source": [
    "attached_file='/content/7805912b-c8da-4134-9b54-b590f884352a.csv'\n",
    "input_question=f\"The .csv file I attached has precipitation amounts, in inches, for the five boroughs of New York City in a certain year. Which borough got more precipitation that year?\"\n",
    "prompt = get_prompt(input_question, attached_file)\n",
    "response = await gaia_agent.run(user_msg=prompt)\n",
    "print(response)"
   ]
  },
  {
   "cell_type": "markdown",
   "metadata": {
    "id": "0dO8NJCmwR0S"
   },
   "source": [
    "##29. Question 137 \"task_id\": \"86ca62df-b518-48e7-9115-1b0b800e5453\""
   ]
  },
  {
   "cell_type": "code",
   "execution_count": null,
   "metadata": {
    "colab": {
     "base_uri": "https://localhost:8080/"
    },
    "id": "lrh4jv3FwSDt",
    "outputId": "51f7186a-3ea2-48c4-9754-8cecdf26a6e2"
   },
   "outputs": [
    {
     "name": "stdout",
     "output_type": "stream",
     "text": [
      "Manhattan received a total of 87 units of precipitation during the summer months (June, July, and August) last year.\n"
     ]
    }
   ],
   "source": [
    "attached_file='/content/86ca62df-b518-48e7-9115-1b0b800e5453.csv'\n",
    "input_question=f\"I attached a CSV file showing precipitation amounts for the five boroughs of New York last year. Can you tell me how much rain Manhattan received in the summer of that year? You can include the precipitation from June, July, and August as counting toward that summer number.\"\n",
    "prompt = get_prompt(input_question, attached_file)\n",
    "response = await gaia_agent.run(user_msg=prompt)\n",
    "print(response)"
   ]
  },
  {
   "cell_type": "markdown",
   "metadata": {
    "id": "Lit5f4EoJX6J"
   },
   "source": [
    "# Section 5: Questions without Attachments"
   ]
  },
  {
   "cell_type": "markdown",
   "metadata": {
    "id": "FI4CrlGM6FNJ"
   },
   "source": [
    "##30. GAIA Test Set. Question 58: \"task_id\": \"07d803c0-7975-4da2-a62b-c8abafcdad9d\""
   ]
  },
  {
   "cell_type": "code",
   "execution_count": null,
   "metadata": {
    "colab": {
     "base_uri": "https://localhost:8080/"
    },
    "id": "VBp4VpC23oIV",
    "outputId": "0a2fec3d-8574-4224-c8a3-ca288fee0f3b"
   },
   "outputs": [
    {
     "name": "stdout",
     "output_type": "stream",
     "text": [
      "The first model to achieve over 70% accuracy on ImageNet was the \"AlexNet,\" which was introduced by Alex Krizhevsky, Ilya Sutskever, and Geoffrey Hinton in 2012.\n"
     ]
    }
   ],
   "source": [
    "attached_file=''\n",
    "\n",
    "input_question=f\"According to Papers with Code, what was the name of the first model to go beyond 70% of accuracy on ImageNet ?\"\n",
    "agent_prompt = 'Attached file is ' + attached_file + '. ' + input_question if ('attach' or 'Attach' or 'ATTACH') in input_question else input_question\n",
    "#print(agent_prompt)\n",
    "response = await gaia_agent.run(user_msg=agent_prompt)\n",
    "print(response)"
   ]
  },
  {
   "cell_type": "markdown",
   "metadata": {
    "id": "gn4CHLhMBvM3"
   },
   "source": [
    "##31. GAIA Test Set. Question 86: \"task_id\": \"198f2b40-958b-497b-a685-15fdc0587481\""
   ]
  },
  {
   "cell_type": "code",
   "execution_count": null,
   "metadata": {
    "colab": {
     "base_uri": "https://localhost:8080/"
    },
    "id": "KUisw8EKAVVS",
    "outputId": "271bb61a-5013-4d00-ffa6-2881b2ddf61b"
   },
   "outputs": [
    {
     "name": "stdout",
     "output_type": "stream",
     "text": [
      "In scikit-learn 1.2.2, the `SGDClassifier` supports several loss functions, including 'hinge', 'log', 'squared_hinge', 'perceptron', 'modified_huber', 'squared_loss', 'huber', 'epsilon_insensitive', and 'squared_epsilon_insensitive'. In total, there are 9 different losses supported by `SGDClassifier`.\n"
     ]
    }
   ],
   "source": [
    "attached_file=''\n",
    "\n",
    "input_question=f\"In scikit-learn 1.2.2, how many different losses were supported by SGDClassifier?\"\n",
    "agent_prompt = 'Attached file is ' + attached_file + '. ' + input_question if ('attach' or 'Attach' or 'ATTACH') in input_question else input_question\n",
    "#print(agent_prompt)\n",
    "response = await gaia_agent.run(user_msg=agent_prompt)\n",
    "print(response)"
   ]
  },
  {
   "cell_type": "markdown",
   "metadata": {
    "id": "sAX8_mEV8F2Q"
   },
   "source": [
    "##32. GAIA Test Set. Question 26: \"task_id\": \"fece4d7a-4093-47b8-b58c-68ec591ec4c8\""
   ]
  },
  {
   "cell_type": "code",
   "execution_count": null,
   "metadata": {
    "colab": {
     "base_uri": "https://localhost:8080/"
    },
    "id": "lJ2f_Cd18GKb",
    "outputId": "388e1a4b-bc88-4182-9a7b-067b47ff7c5c"
   },
   "outputs": [
    {
     "name": "stdout",
     "output_type": "stream",
     "text": [
      "9783518188150, 9788476540740, 9788415091000, 9788256014593, 9782046407330\n"
     ]
    }
   ],
   "source": [
    "attached_file=''\n",
    "\n",
    "input_question=f\"\"\"Verify each of the following ISBN 13 numbers:\n",
    "n1. 9783518188156\n",
    "n2. 9788476540746\n",
    "n3. 9788415091004\n",
    "n4. 9788256014590\n",
    "n5. 9782046407331\n",
    "If any are invalid, correct them by changing the final digit. Then, return the list, comma separated, in the same order as in the question.\"\"\"\n",
    "agent_prompt = 'Attached file is ' + attached_file + '. ' + input_question if ('attach' or 'Attach' or 'ATTACH') in input_question else 'Take this file as reference file :' + attached_file + '. ' + input_question if ('reference file') in input_question else input_question\n",
    "#print(agent_prompt)\n",
    "response = await gaia_agent.run(user_msg=agent_prompt)\n",
    "print(response)"
   ]
  },
  {
   "cell_type": "markdown",
   "metadata": {
    "id": "ftYkK0d-JK0i"
   },
   "source": [
    "## 33. GAIA Test Set. Question 274 \"task_id\": \"ebfd308e-59c1-4389-8812-7ea4cda7f4bc\""
   ]
  },
  {
   "cell_type": "code",
   "execution_count": null,
   "metadata": {
    "colab": {
     "base_uri": "https://localhost:8080/"
    },
    "id": "aL7JZo-2JUQb",
    "outputId": "9fd3505a-a967-48f0-fc6c-ef2dd3e0deb2"
   },
   "outputs": [
    {
     "name": "stdout",
     "output_type": "stream",
     "text": [
      "Brainstorm new paperweights\n"
     ]
    }
   ],
   "source": [
    "attached_file=''\n",
    "\n",
    "input_question=f\"\"\"A paperweight production factory has a series of goals that are A through H as listed below.\n",
    "Obtain raw materials.\n",
    "Find investors.\n",
    "Brainstorm new paperweights.\n",
    "Optimize production efficiency.\n",
    "Open additional plants.\n",
    "Upgrade old machinery.\n",
    "Do performance reviews.\n",
    "Hire more workers.\n",
    "The goals have a hierarchy of importance. Opening additional plants is more important than obtaining raw materials and brainstorming new paperweights, upgrading old machinery is more important than one other goal only, and the manager thinks that optimizing production efficiency is less important than brainstorming new paperweights but more important than obtaining raw materials but has the order backwards. Hiring new workers is more important than three other goals, doing performance reviews is more important than hiring new workers but less important than optimizing production efficiency, and finding investors is less important than obtaining raw materials. What is the second most important goal (return it exactly as given in the question)?\"\"\"\n",
    "agent_prompt = 'Attached file is ' + attached_file + '. ' + input_question if ('attach' or 'Attach' or 'ATTACH') in input_question else 'Take this file as reference file :' + attached_file + '. ' + input_question if ('reference file') in input_question else input_question\n",
    "#print(agent_prompt)\n",
    "response = await gaia_agent.run(user_msg=agent_prompt)\n",
    "print(response)"
   ]
  },
  {
   "cell_type": "markdown",
   "metadata": {
    "id": "_nxj9IaLRU6J"
   },
   "source": [
    "##34. Question 53 \"task_id\": \"c134398d-e1eb-4dab-97a1-6d9f715e53d0\""
   ]
  },
  {
   "cell_type": "code",
   "execution_count": null,
   "metadata": {
    "colab": {
     "base_uri": "https://localhost:8080/"
    },
    "id": "gOFbgFsFRVT4",
    "outputId": "90d66c44-928a-46ca-81cf-b3cd803a1b44"
   },
   "outputs": [
    {
     "name": "stdout",
     "output_type": "stream",
     "text": [
      "The check digit for the new number 57882991 under ISBN-10 standards is 9.\n"
     ]
    }
   ],
   "source": [
    "attached_file=''\n",
    "\n",
    "input_question=f\"\"\"Determine what the final digit of these 9 numbers would be under ISBN-10 standards:\n",
    "1. 478225952\n",
    "2. 643485613\n",
    "3. 739394228\n",
    "4. 291726859\n",
    "5. 875262394\n",
    "6. 542617795\n",
    "7. 031810713\n",
    "8. 957007669\n",
    "9. 871467426\n",
    "\n",
    "Now, create a new 9 digit number from their check digits in the order 587364921 where each digit here represents the check digit of the number in the list above associated with that list item number. So the first number should be the check digit for the fifth item (875262394), the second for the 8th item (957007669), the third the 7th item (031810713), so on and so forth. If the check digit would be X, use 0 in its place.\n",
    "Provide the check digit under ISBN-10 standards for this new number.\"\"\"\n",
    "agent_prompt = 'Attached file is ' + attached_file + '. ' + input_question if ('attach' or 'Attach' or 'ATTACH') in input_question else 'Take this file as reference file :' + attached_file + '. ' + input_question if ('reference file') in input_question else input_question\n",
    "#print(agent_prompt)\n",
    "response = await gaia_agent.run(user_msg=agent_prompt)\n",
    "print(response)"
   ]
  },
  {
   "cell_type": "markdown",
   "metadata": {
    "id": "010I_n-iUe8j"
   },
   "source": [
    "##35. Question 66 \"task_id\": \"269f42c1-d767-4426-baf3-0d91c4423177\""
   ]
  },
  {
   "cell_type": "code",
   "execution_count": null,
   "metadata": {
    "colab": {
     "base_uri": "https://localhost:8080/"
    },
    "id": "mnb2zhCIUf45",
    "outputId": "a19d5b6a-81c1-4540-ef94-d9a905592d53"
   },
   "outputs": [
    {
     "name": "stdout",
     "output_type": "stream",
     "text": [
      "The song by VNV Nation that shares its title with the nickname of Louis XV is \"The Great Divide,\" which was released on the album \"Transnational.\"\n"
     ]
    }
   ],
   "source": [
    "attached_file=''\n",
    "input_question=f\"VNV Nation has a song that shares its title with the nickname of Louis XV. What album was it released with?\"\n",
    "prompt = get_prompt(input_question, attached_file)\n",
    "response = await gaia_agent.run(user_msg=prompt)\n",
    "print(response)"
   ]
  },
  {
   "cell_type": "markdown",
   "metadata": {
    "id": "b9iQKw-7eS56"
   },
   "source": [
    "##36. Question 88 \"task_id\": \"97f452b6-f144-4224-bfe4-b6a8e0bbce6a\""
   ]
  },
  {
   "cell_type": "code",
   "execution_count": null,
   "metadata": {
    "colab": {
     "base_uri": "https://localhost:8080/"
    },
    "id": "xJukUuIJeTPv",
    "outputId": "4ecdd48b-d253-45bb-c432-d2067793253a"
   },
   "outputs": [
    {
     "name": "stdout",
     "output_type": "stream",
     "text": [
      "The composer referenced in the non-English title of the song from VNV Nation's album Futureperfect is likely to be \"Gustav Mahler.\"\n"
     ]
    }
   ],
   "source": [
    "attached_file=''\n",
    "input_question=f\"One of the songs on the VNV Nation album Futureperfect has a non-English title. The title references another piece of music. Who composed it? Answer using the format First name Last name.\"\n",
    "prompt = get_prompt(input_question, attached_file)\n",
    "response = await gaia_agent.run(user_msg=prompt)\n",
    "print(response)"
   ]
  },
  {
   "cell_type": "markdown",
   "metadata": {
    "id": "hQbgzROIhNnK"
   },
   "source": [
    "##37. Question 90 \"task_id\": \"e8b226bf-2ccd-4748-973d-08dad7aa8253\""
   ]
  },
  {
   "cell_type": "code",
   "execution_count": null,
   "metadata": {
    "colab": {
     "base_uri": "https://localhost:8080/"
    },
    "id": "ZakEvEpWhMlr",
    "outputId": "0e6bdedd-4ce0-4363-ca5a-5d0eecb62d43"
   },
   "outputs": [
    {
     "name": "stdout",
     "output_type": "stream",
     "text": [
      "The artist for the Magic: The Gathering card \"Bedevil\" is Chris Rahn, who was born in the city of Minneapolis, Minnesota.\n"
     ]
    }
   ],
   "source": [
    "attached_file=''\n",
    "input_question=f\"What is the name of the city where the artist for the Magic: The Gathering card named \\\"Bedevil\\\" was born?\"\n",
    "prompt = get_prompt(input_question, attached_file)\n",
    "response = await gaia_agent.run(user_msg=prompt)\n",
    "print(response)"
   ]
  },
  {
   "cell_type": "markdown",
   "metadata": {
    "id": "6wdt7fA7m9U9"
   },
   "source": [
    "##38. \"Question\": 99 \"task_id\": \"e196e50c-09fb-4a3a-81a9-c81ef41b0708\""
   ]
  },
  {
   "cell_type": "code",
   "execution_count": null,
   "metadata": {
    "colab": {
     "base_uri": "https://localhost:8080/"
    },
    "id": "IgSIZIaLm9nQ",
    "outputId": "09e021ef-2c16-47a3-fb15-52059834a5be"
   },
   "outputs": [
    {
     "name": "stdout",
     "output_type": "stream",
     "text": [
      "16384 teacup dogs.\n"
     ]
    }
   ],
   "source": [
    "attached_file=''\n",
    "input_question=f\"Suppose a dog can split into two dogs to make two slightly smaller dogs 75% the weight of the original dog.\\n\\nI have a 180-pound dog and I define a teacup dog as a dog under 4 pounds. The dog splits itself. Then, the resulting dogs split themselves. The splitting repeats until all the resulting dogs are teacup dogs. How many teacup dogs will there be?\"\n",
    "prompt = get_prompt(input_question, attached_file)\n",
    "response = await gaia_agent.run(user_msg=prompt)\n",
    "print(response)"
   ]
  },
  {
   "cell_type": "markdown",
   "metadata": {
    "id": "cdb6-8_5oxmG"
   },
   "source": [
    "##39. Question 109 \"task_id\": \"2372640f-a119-4960-b624-5ffbe81d6f3f\""
   ]
  },
  {
   "cell_type": "code",
   "execution_count": null,
   "metadata": {
    "colab": {
     "base_uri": "https://localhost:8080/"
    },
    "id": "qAgItDIsox2K",
    "outputId": "1018188c-7f48-4984-8304-f2eea547258a"
   },
   "outputs": [
    {
     "name": "stdout",
     "output_type": "stream",
     "text": [
      "According to historical data, the US population first exceeded 50 million in the 1910 Census. It remained above that threshold for the rest of the 20th century. Therefore, the decades during which the US population was over 50 million from 1910 to 2000 (inclusive) are the 1910s through the 1990s. This gives us a total of 9 decades: 1910s, 1920s, 1930s, 1940s, 1950s, 1960s, 1970s, 1980s, and 1990s.\n"
     ]
    }
   ],
   "source": [
    "attached_file=''\n",
    "input_question=f\"How many decades between 1800 and 2000 (inclusive) was the US population over 50 million according to the US Census Bureau website?\"\n",
    "prompt = get_prompt(input_question, attached_file)\n",
    "response = await gaia_agent.run(user_msg=prompt)\n",
    "print(response)"
   ]
  },
  {
   "cell_type": "markdown",
   "metadata": {
    "id": "m2OKrYye0IAZ"
   },
   "source": [
    "##40. Question 140 \"task_id\": \"d9060545-9e29-4a0b-8a1d-57211c462637\""
   ]
  },
  {
   "cell_type": "code",
   "execution_count": null,
   "metadata": {
    "colab": {
     "base_uri": "https://localhost:8080/"
    },
    "id": "Wx29PxPr0IRa",
    "outputId": "dd1d31cd-a999-4550-9dec-c57986628922"
   },
   "outputs": [
    {
     "name": "stdout",
     "output_type": "stream",
     "text": [
      "To determine the winner of the game, we need to analyze the reported scores and the possible outcomes based on the dice drawn by each player.\n",
      "\n",
      "1. **Dice Information**:\n",
      "   - The bag contained the following dice:\n",
      "     - Blue die: 2, 4, 6, 8, 10, 12\n",
      "     - Red die: 2, 2, 4, 4, 6, 6\n",
      "     - Green die: 5, 5, 5, 5, 5, 5\n",
      "     - White die: 6, 6, 6, 6, 6, 6\n",
      "     - Black die: 0, 0, 0, 0, 0, 0 (not drawn)\n",
      "     - Orange die: 2, 4, 2, 4, 2, 4\n",
      "     - Yellow die: 2, 4, 2, 4, 2, 4\n",
      "     - Rainbow die: 10, 10, 10, 0, 0, 0 (not drawn)\n",
      "     - Clear die: 2, 2, 4, 4, 6, 6\n",
      "     - Brown die: 4, 0, 4, 0, 4, 0\n",
      "\n",
      "2. **Players' Scores**:\n",
      "   - Kevin: 185\n",
      "   - Jessica: 42\n",
      "   - James: 17\n",
      "   - Sandy: 77\n",
      "\n",
      "3. **Maximum Possible Scores**:\n",
      "   Each player rolled their two drawn dice 10 times. The maximum score for a player can be calculated based on the highest possible values from the available dice.\n",
      "\n",
      "   - The highest possible score from two dice would be:\n",
      "     - Blue die (12) + White die (6) = 18 (per roll)\n",
      "     - Maximum score over 10 rolls = 18 * 10 = 180\n",
      "\n",
      "   Since the maximum score a player could achieve is 180, we can analyze the reported scores:\n",
      "   - Kevin's score of 185 exceeds the maximum possible score of 180, indicating a mistake or cheating.\n",
      "   - Jessica's score of 42 is plausible.\n",
      "   - James's score of 17 is plausible.\n",
      "   - Sandy's score of 77 is plausible.\n",
      "\n",
      "4. **Disqualification**:\n",
      "   Since Kevin's score is impossible, he would be disqualified.\n",
      "\n",
      "5. **Determining the Winner**:\n",
      "   The remaining players are Jessica, James, and Sandy. Their scores are:\n",
      "   - Jessica: 42\n",
      "   - James: 17\n",
      "   - Sandy: 77\n",
      "\n",
      "   The highest score among these is Sandy's score of 77.\n",
      "\n",
      "Therefore, Bruce declared Sandy as the winner of the game.\n"
     ]
    }
   ],
   "source": [
    "attached_file=''\n",
    "input_question=f\"\"\"A group of children gathered to play a game. The game involved rolling dice several times and totaling the score. Each player took two dice from a bag in a blind draw.\n",
    "Each die in the bag had six sides, but the sides had different values. There were four players, Kevin, Jessica, James, and Sandy, and one referee, Bruce.\n",
    "The bag held the following ten dice, with the following values on each face.\n",
    "The blue die: 2,4,6,8,10,12\n",
    "The red die: 2,2,4,4,6,6\n",
    "The green die: 5,5,5,5,5,5\n",
    "The white die: 6,6,6,6,6,6\n",
    "The black die: 0,0,0,0,0,0\n",
    "The orange die: 2,4,2,4,2,4\n",
    "The yellow die: 2,4,2,4,2,4\n",
    "The rainbow die: 10,10,10,0,0,0\n",
    "The clear die: 2,2,4,4,6,6\n",
    "The brown die: 4,0,4,0,4,0\n",
    "The rules of the game were simple. Each of the players would draw one die from the bag in sequence. After all of the players had drawn two dice from the bag, they would be given a sheet of paper and a pencil.\n",
    "The players would then each go and roll their pair of dice 10 times, and write down the total for each roll. They would then add up all 10 of the totals, and this was their final score. After all of the players were done rolling dice, they returned to the referee and submitted their final score.\n",
    "The referee then had to decide who the winner of the game was. The winner of the game was the player who reported the highest score. However, if a player made a mistake adding up their score or if the player cheated and wrote down a score that they couldn't have earned by playing, the player was disqualified.\n",
    "Kevin reported his score was 185\n",
    "Jessica reported her score was 42\n",
    "James reported his score was 17\n",
    "Sandy reported her score was 77\n",
    "The only information Bruce had as the referee was the scores reported by the players, and the knowledge that the two dice that hadn't been drawn were the black die and the rainbow die.\n",
    "Who did Bruce declare as the winner?\"\"\"\n",
    "prompt = get_prompt(input_question, attached_file)\n",
    "response = await gaia_agent.run(user_msg=prompt)\n",
    "print(response)"
   ]
  },
  {
   "cell_type": "markdown",
   "metadata": {
    "id": "VfOavUpu4QMg"
   },
   "source": [
    "##41. Question 143 \"task_id\": \"e8df5ee8-e804-4ab4-a5b5-f737ffb7c37a\""
   ]
  },
  {
   "cell_type": "code",
   "execution_count": null,
   "metadata": {
    "colab": {
     "base_uri": "https://localhost:8080/"
    },
    "id": "b8nnU-Xc4Qgj",
    "outputId": "111ca6c0-4d6d-4847-dff0-092cb734d558"
   },
   "outputs": [
    {
     "name": "stdout",
     "output_type": "stream",
     "text": [
      "953\n"
     ]
    }
   ],
   "source": [
    "attached_file=''\n",
    "input_question=f\"Two moles of a chemical compound composed of elements that spells out \\\"OUCH2\\\" is suspended in a solution nine moles of hydrochloric acid In a beaker that weighs 130 grams.  It is heated so that one mole of chlorine gas evolves from the solution and is vacuumed away by a hood vent, then allowed to cool to standard temperature. What would the weight of the beaker and remaining chemicals be together in grams, assuming standard pressure and rounding all the elements' weights down to the nearest whole number before calculating? I want the number in grams, but give me only the number.\"\n",
    "prompt = get_prompt(input_question, attached_file)\n",
    "response = await gaia_agent.run(user_msg=prompt)\n",
    "print(response)"
   ]
  },
  {
   "cell_type": "markdown",
   "metadata": {
    "id": "N1PY1th1N8Wm"
   },
   "source": [
    "##42. Question 203 \"task_id\": \"314b3c26-3e8d-4f8c-a9aa-c77275072e0b\""
   ]
  },
  {
   "cell_type": "code",
   "execution_count": null,
   "metadata": {
    "colab": {
     "base_uri": "https://localhost:8080/"
    },
    "id": "Saogpcn6NtAd",
    "outputId": "c4054a9e-3a15-49b1-93a0-761242824b53"
   },
   "outputs": [
    {
     "name": "stdout",
     "output_type": "stream",
     "text": [
      "4\n"
     ]
    }
   ],
   "source": [
    "attached_file=''\n",
    "input_question=f\"Pick a random integer. Now, count the letters that make up that number to give you a new number. Repeat this process until you repeat the same number twice. What is your number? Express it as a numerical character.\"\n",
    "prompt = get_prompt(input_question, attached_file)\n",
    "response = await gaia_agent.run(user_msg=prompt)\n",
    "print(response)"
   ]
  },
  {
   "cell_type": "markdown",
   "metadata": {
    "id": "RE79UNLAX1Fo"
   },
   "source": [
    "##43 Question 227 \"task_id\": \"f08e2efd-1885-4437-8c88-90a20558ad1d\"*italicised text*"
   ]
  },
  {
   "cell_type": "code",
   "execution_count": null,
   "metadata": {
    "colab": {
     "base_uri": "https://localhost:8080/"
    },
    "id": "qTGquLZ3X1V8",
    "outputId": "02c116b4-7e83-4aa8-da2b-1a167b11f919"
   },
   "outputs": [
    {
     "name": "stdout",
     "output_type": "stream",
     "text": [
      "At the end of glycolysis, the atoms connected directly to the 6th carbon atom of glucose-6-phosphate are hydrogen (H), oxygen (O), and carbon (C). Therefore, the elemental symbols in alphabetical order are: C, H, O.\n"
     ]
    }
   ],
   "source": [
    "attached_file=''\n",
    "input_question=f\"At the beginning of glycolysis, glucose is converted to glucose-6-phosphate. At the end of glycolysis, what atoms are connected directly to that 6th C atom? Return the elemental symbols in alphabetical order comma separated, don't deduplicate.\"\n",
    "prompt = get_prompt(input_question, attached_file)\n",
    "response = await gaia_agent.run(user_msg=prompt)\n",
    "print(response)"
   ]
  },
  {
   "cell_type": "markdown",
   "metadata": {
    "id": "iQzsw_kpYz0X"
   },
   "source": [
    "##44. Question 231 \"task_id\": \"633d1eae-8748-43e3-889a-0830c1c870c4\""
   ]
  },
  {
   "cell_type": "code",
   "execution_count": null,
   "metadata": {
    "colab": {
     "base_uri": "https://localhost:8080/"
    },
    "id": "4l1AsLS-Y0HB",
    "outputId": "56ad90f2-8dcd-4a78-91da-0bcb0557ca83"
   },
   "outputs": [
    {
     "name": "stdout",
     "output_type": "stream",
     "text": [
      "You can create a savory chicken and turkey pot pie using the canned biscuit dough as the crust, and filling it with a mixture of cooked chicken, turkey, spinach, and arugula. This combination is not a specific Grand Prize-Winning recipe but is a delicious way to use the ingredients you have.\n"
     ]
    }
   ],
   "source": [
    "attached_file=''\n",
    "input_question=f\"My two friends and I have gotten together and brought two ingredients each. I brought chicken and turkey, my friend brought spinach and arugula, and my other friend brought canned biscuit dough and canned pizza dough. If we use one ingredient from each of us, what is the title of the one Grand Prize-Winning Pillsbury Bake-Off recipe from before 2020 that we can make?\"\n",
    "prompt = get_prompt(input_question, attached_file)\n",
    "response = await gaia_agent.run(user_msg=prompt)\n",
    "print(response)"
   ]
  },
  {
   "cell_type": "markdown",
   "metadata": {
    "id": "_bbsAvH3jtPC"
   },
   "source": [
    "##45. Question 255 \"task_id\": \"52fcc23e-4e68-43da-9410-f8f33632006f\""
   ]
  },
  {
   "cell_type": "code",
   "execution_count": null,
   "metadata": {
    "colab": {
     "base_uri": "https://localhost:8080/"
    },
    "id": "M0wkVTbbjtjE",
    "outputId": "af311446-c1bf-43e0-dcfb-80b5e861733b"
   },
   "outputs": [
    {
     "name": "stdout",
     "output_type": "stream",
     "text": [
      "The top card on the stack is the two of clubs.\n"
     ]
    }
   ],
   "source": [
    "attached_file=\"\"\n",
    "input_question=\"\"\"I have a fun card game that we can play together! Here are the rules: I'll draw a certain number of cards and then arrange them in a certain order in a stack, face down. After I do that, I'll describe a series of steps, and your job will be to keep track of the cards and answer a question about the final ordering.\n",
    "Okay, from top to bottom, here's the starting layout:\n",
    "2 of clubs\n",
    "3 of hearts\n",
    "King of spades\n",
    "Queen of hearts\n",
    "Jack of clubs\n",
    "Ace of diamonds\n",
    "\n",
    "Now, here are the steps I'm taking to jumble up the stack.\n",
    "I take the top three cards and place them at the bottom of the stack.\n",
    "I take the top card and place it under the second card.\n",
    "I take the top two cards and place them under the third card.\n",
    "I take the bottom card and place it on top of the stack.\n",
    "I take the top two cards and place them under the third card.\n",
    "I take the top four cards and place them on the bottom of the stack.\n",
    "I take the bottom card and place it on the top of the stack.\n",
    "I take the top two cards and place them on the bottom of the stack.\n",
    "I take the bottom card and place it on the top of the stack.\n",
    "\n",
    "What is the top card on the stack?\n",
    "If the card's name contains a digit, write the digit in plain text when answering, e.g. 'six of spades' instead of '6 of spades'.\"\"\"\n",
    "prompt = get_prompt(input_question, attached_file)\n",
    "response = await gaia_agent.run(user_msg=prompt)\n",
    "print(response)"
   ]
  },
  {
   "cell_type": "markdown",
   "metadata": {
    "id": "a4qHN1W0r15p"
   },
   "source": [
    "##46. Question 268 \"task_id\": \"0a5a5fd6-97b7-4cce-ad9f-bdaaee042bec\""
   ]
  },
  {
   "cell_type": "code",
   "execution_count": null,
   "metadata": {
    "colab": {
     "base_uri": "https://localhost:8080/"
    },
    "id": "YrR9-jJnr2Hc",
    "outputId": "b7057ad0-73ec-4909-c5ca-b5a985bbaef8"
   },
   "outputs": [
    {
     "name": "stdout",
     "output_type": "stream",
     "text": [
      "The 1994 movie \"The Crow\" was directed by Alex Proyas. However, if you are looking for a specific movie that shares a name with a unique vertex of the capsid, please provide more context or details.\n"
     ]
    }
   ],
   "source": [
    "attached_file=''\n",
    "input_question=f\"Who directed the 1994 movie that shares a name with the unique vertex of the capsid in the abstract of the paper 'Distinct DNA Exit and Packaging Portals...' on PLOS Biology?\"\n",
    "prompt = get_prompt(input_question, attached_file)\n",
    "response = await gaia_agent.run(user_msg=prompt)\n",
    "print(response)"
   ]
  },
  {
   "cell_type": "markdown",
   "metadata": {
    "id": "cGPWi-6M3y4O"
   },
   "source": [
    "##47. Question 10 \"task_id\": \"7b10295b-5287-41d7-897c-663fe194c04d\""
   ]
  },
  {
   "cell_type": "code",
   "execution_count": null,
   "metadata": {
    "colab": {
     "base_uri": "https://localhost:8080/"
    },
    "id": "TBwPHZf43zGg",
    "outputId": "a3d5213a-7c62-4b27-de09-26ee7ac135fe"
   },
   "outputs": [
    {
     "name": "stdout",
     "output_type": "stream",
     "text": [
      "C, E, S\n"
     ]
    }
   ],
   "source": [
    "\"\"\"If you use some of the letters in the given Letter Bank to spell out the sentence 'I am a penguin halfway to the moon', which of the remaining unused letters would have to be changed to spell out, 'The moon is made of cheese'?\n",
    "Return a comma-separated alphabetized list.\n",
    "Letter Bank: {OAMFETIMPECRFSHTDNIWANEPNOFAAIYOOMGUTNAHHLNEHCME}\"\"\"\n",
    "prompt = get_prompt(input_question, attached_file)\n",
    "response = await gaia_agent.run(user_msg=prompt)\n",
    "print(response)"
   ]
  },
  {
   "cell_type": "markdown",
   "metadata": {
    "id": "aIc_9FTe5qNb"
   },
   "source": [
    "##48. Question 14 \"task_id\": \"cf0682db-1e31-4a36-913f-aedd501e44d1\""
   ]
  },
  {
   "cell_type": "code",
   "execution_count": null,
   "metadata": {
    "colab": {
     "base_uri": "https://localhost:8080/"
    },
    "id": "w3XRnAB45qbr",
    "outputId": "1cf09116-d437-4ff4-dc49-f6dda095c3ae"
   },
   "outputs": [
    {
     "name": "stdout",
     "output_type": "stream",
     "text": [
      "0, 1, 2\n",
      "```\n"
     ]
    }
   ],
   "source": [
    "attached_file=''\n",
    "input_question=\"A data annotator stayed up too late creating test questions to check that a system was working properly and submitted several questions with mathematical errors. On nights when they created 15 test questions, they made 1 error. On nights when they created fewer than 15 questions, they also corrected 3 errors. On nights they created 20 questions, they made 0 errors. On nights when they created 25 or more, they made 4 errors. Over the course of five nights, the worker produced a total of 6 errors. When asked how many nights they created 15 questions, they gave three possible numbers as responses. What are the three numbers, presented in the format x, y, z in ascending order?\"\n",
    "prompt = get_prompt(input_question, attached_file)\n",
    "response = await gaia_agent.run(user_msg=prompt)\n",
    "print(response)"
   ]
  },
  {
   "cell_type": "markdown",
   "metadata": {
    "id": "aoUj7i6S6y65"
   },
   "source": [
    "##49. Question 16 \"task_id\": \"07ed8ebc-535a-4c2f-9677-3e434a08f7fd\""
   ]
  },
  {
   "cell_type": "code",
   "execution_count": null,
   "metadata": {
    "colab": {
     "base_uri": "https://localhost:8080/"
    },
    "id": "1kSejnRU6zNJ",
    "outputId": "80fced09-6ab7-470f-cb10-1b988a627463"
   },
   "outputs": [
    {
     "name": "stdout",
     "output_type": "stream",
     "text": [
      "SLATSHOTXACHE\n"
     ]
    }
   ],
   "source": [
    "attached_file=''\n",
    "input_question=\"\"\"Please solve the following crossword:\n",
    "|1|2|3|4|5|\n",
    "|6| | | | |\n",
    "|7| | | | |\n",
    "|8| | | | |\n",
    "|X|9| | | |\n",
    "\n",
    "I have indicated by numbers where the hints start, so you should replace numbers and spaces by the answers.\n",
    "And X denotes a black square that isn't to fill.\n",
    "ACROSS\n",
    "- 1 Wooden strips on a bed frame\n",
    "- 6 _ Minhaj, Peabody-winning comedian for 'Patriot Act'\n",
    "- 7 Japanese city of 2.6+ million\n",
    "- 8 Stopwatch, e.g.\n",
    "- 9 Pain in the neck\n",
    "\n",
    "DOWN\n",
    "- 1 Quick drink of whiskey\n",
    "- 2 Eye procedure\n",
    "- 3 'Same here\" in a three-word phrase\n",
    "- 4 Already occupied, as a seat\n",
    "- 5 Sarcastically critical commentary.\n",
    "\n",
    "Answer by concatenating the characters you choose to fill the crossword, in row-major order.\"\"\"\n",
    "\n",
    "prompt = get_prompt(input_question, attached_file)\n",
    "response = await gaia_agent.run(user_msg=prompt)\n",
    "print(response)"
   ]
  },
  {
   "cell_type": "markdown",
   "metadata": {
    "id": "Rtlmvaq9BgUq"
   },
   "source": [
    "##50. Question 36 \"task_id\": \"8e41f740-f193-4540-a7b1-62e0f4b804a0\""
   ]
  },
  {
   "cell_type": "code",
   "execution_count": null,
   "metadata": {
    "colab": {
     "base_uri": "https://localhost:8080/"
    },
    "id": "obzyxuaOBgj0",
    "outputId": "c33169df-f20c-483f-d993-ea532e5202c9"
   },
   "outputs": [
    {
     "name": "stdout",
     "output_type": "stream",
     "text": [
      "50%\n"
     ]
    }
   ],
   "source": [
    "attached_file=''\n",
    "input_question=f\"Bob has genome type Aa, and Linda has genome type Aa. Assuming that a child of theirs also has a child with someone who also has genome type Aa, what is the probability that Bob and Linda's grandchild will have Genome type Aa? Write the answer as a percentage, rounding to the nearest integer if necessary.\"\n",
    "prompt = get_prompt(input_question, attached_file)\n",
    "response = await gaia_agent.run(user_msg=prompt)\n",
    "print(response)"
   ]
  },
  {
   "cell_type": "markdown",
   "metadata": {
    "id": "ToZ_0_8KCMyg"
   },
   "source": [
    "##51. Question 37 \"task_id\": \"78cfc686-0e24-4e8e-acb4-291198301286\""
   ]
  },
  {
   "cell_type": "code",
   "execution_count": null,
   "metadata": {
    "colab": {
     "base_uri": "https://localhost:8080/"
    },
    "id": "9p_erwgTCNCn",
    "outputId": "f4df821b-d28c-4bd4-b2dc-40492554be1a"
   },
   "outputs": [
    {
     "name": "stdout",
     "output_type": "stream",
     "text": [
      "To determine how many more tails the trainer's team will have after evolving all six Pokémon, we first need to know how many tails each Pokémon has in its current form and how many tails they will have after evolving.\n",
      "\n",
      "1. **Current Tails:**\n",
      "   - Aipom: 1 tail\n",
      "   - Buizel: 1 tail\n",
      "   - Ekans: 0 tails (as it is a snake)\n",
      "   - Electabuzz: 0 tails (as it is an electric type)\n",
      "   - Espurr: 1 tail\n",
      "   - Vulpix: 1 tail (newborn)\n",
      "\n",
      "   **Total current tails = 1 + 1 + 0 + 0 + 1 + 1 = 4 tails**\n",
      "\n",
      "2. **Tails After Evolution:**\n",
      "   - Aipom evolves into Ambipom: 2 tails\n",
      "   - Buizel evolves into Floatzel: 1 tail\n",
      "   - Ekans evolves into Arbok: 1 tail\n",
      "   - Electabuzz evolves into Electivire: 0 tails (still no tail)\n",
      "   - Espurr evolves into Meowstic: 1 tail\n",
      "   - Vulpix evolves into Ninetales: 6 tails\n",
      "\n",
      "   **Total tails after evolution = 2 + 1 + 1 + 0 + 1 + 6 = 11 tails**\n",
      "\n",
      "3. **Difference in Tails:**\n",
      "   - Difference = Total tails after evolution - Total current tails\n",
      "   - Difference = 11 - 4 = 7 tails\n",
      "\n",
      "Thus, after evolving all six Pokémon, the trainer's team will have **7 more tails** in total compared to now.\n"
     ]
    }
   ],
   "source": [
    "attached_file=''\n",
    "input_question=f\"A Pokemon trainer has the following six Pokemon on his team: Aipom, Buizel, Ekans, Electabuzz, Espurr, and Vulpix. The Vulpix is a newborn. If the trainer evolves all six of these Pokemon to their next stage, how many more tails will his team have in total compared to now?\"\n",
    "prompt = get_prompt(input_question, attached_file)\n",
    "response = await gaia_agent.run(user_msg=prompt)\n",
    "print(response)"
   ]
  },
  {
   "cell_type": "markdown",
   "metadata": {
    "id": "7tsEiyTrshoV"
   },
   "source": [
    "##52. Question 1 \"task_id\": \"6af95c8f-8cbf-4c12-b02c-f9a23cc1ecb9\""
   ]
  },
  {
   "cell_type": "code",
   "execution_count": null,
   "metadata": {
    "colab": {
     "base_uri": "https://localhost:8080/"
    },
    "id": "Dp02LoVqsh4p",
    "outputId": "82f204fc-9574-4d45-dff0-dab41233a7cf"
   },
   "outputs": [
    {
     "name": "stdout",
     "output_type": "stream",
     "text": [
      "The adventurer won 28.\n"
     ]
    }
   ],
   "source": [
    "attached_file=''\n",
    "input_question=f\"\"\"Here's a fun riddle that I'd like you to try.\n",
    "An adventurer exploring an ancient tomb came across a horde of gold coins, all neatly stacked in columns. As he reached to scoop them into his backpack,\n",
    "a mysterious voice filled the room. 'You have fallen for my trap adventurer,' the voice began, and suddenly the doorway to the chamber was sealed by a heavy rolling disk of stone.\n",
    "The adventurer tried to move the stone disk but was unable to budge the heavy stone. Trapped, he was startled when the voice again spoke.\n",
    "\n",
    "'If you solve my riddle, I will reward you with a portion of my riches, but if you are not clever, you will never leave this treasure chamber.\n",
    "Before you are 200 gold coins. I pose a challenge to you, adventurer. Within these stacks of coins, all but 30 are face-up. You must divide the coins into two piles,\n",
    "one is yours, and one is mine. You may place as many coins as you like in either pile. You may flip any coins over, but you may not balance any coins on their edges.\n",
    "For every face-down coin in your pile, you will be rewarded with two gold coins. But be warned, if both piles do not contain the same number of face-down coins,\n",
    "the door will remain sealed for all eternity!'\n",
    "\n",
    "The adventurer smiled, as this would be an easy task. All he had to do was flip over every coin so it was face down, and he would win the entire treasure!\n",
    "As he moved to the columns of coins, however, the light suddenly faded, and he was left in total darkness. The adventurer reached forward and picked up one of the coins,\n",
    "and was shocked when he realized that both sides felt almost the same. Without the light, he was unable to determine which side of the coin was heads and which side was tails.\n",
    "He carefully replaced the coin in its original orientation and tried to think of a way to solve the puzzle. Finally, out of desperation,\n",
    "the adventurer removed 30 coins to create his pile. He then carefully flipped over each coin in his pile, so its orientation was inverted from its original state.\n",
    "\n",
    "'I've finished,' he said, and the lights returned. Looking at the two piles, he noticed that the larger pile contained 14 face-down coins.\n",
    "What was the outcome for the adventurer? If he failed the challenge, please respond with 'The adventurer died.' Otherwise, please provide the number of coins\n",
    "the adventurer won at the conclusion of the riddle. If the adventurer won any coins, provide your response as the number of coins, with no other text.\"\"\"\n",
    "prompt = get_prompt(input_question, attached_file)\n",
    "response = await gaia_agent.run(user_msg=prompt)\n",
    "print(response)"
   ]
  },
  {
   "cell_type": "markdown",
   "metadata": {
    "id": "Mzcv3_rm1Xtn"
   },
   "source": [
    "##53. Question 47 \"task_id\": \"7556cbdb-c736-4efa-b3ef-2ebc2c8f4da3\""
   ]
  },
  {
   "cell_type": "code",
   "execution_count": null,
   "metadata": {
    "colab": {
     "base_uri": "https://localhost:8080/"
    },
    "id": "qZnHSKzs1Xaq",
    "outputId": "ea2a6d9a-cb31-472b-a350-78a04af81fb3"
   },
   "outputs": [
    {
     "name": "stdout",
     "output_type": "stream",
     "text": [
      "Banana Taffy, Gumballs\n"
     ]
    }
   ],
   "source": [
    "attached_file=''\n",
    "input_question=f\"An array of candy is set out to choose from including gumballs, candy corn, gumdrops, banana taffy, chocolate chips, and gummy bears. There is one bag of each type of candy. The gumballs come in red, orange, yellow, green, blue, and brown. The candy corn is yellow, white, and orange. The gumdrops are red, green, purple, yellow, and orange. The banana taffy is yellow. The chocolate chips are brown and white. The gummy bears are red, green, yellow, and orange. Five people pass through and each selects one bag. The first selects one with only primary colors. The second selects one with no primary colors. The third selects one with all the primary colors. The fourth selects one that has neither the most nor the least colors of the remaining bags. The fifth selects the one with their favorite color, green. A second bag of the candy the first person chose is added to the remaining bag of candy. Which two candies are in the remaining bag after the addition? Give me them in a comma separated list, in alphabetical order\"\n",
    "prompt = get_prompt(input_question, attached_file)\n",
    "response = await gaia_agent.run(user_msg=prompt)\n",
    "print(response)"
   ]
  },
  {
   "cell_type": "markdown",
   "metadata": {
    "id": "3W5HVxwP_ppa"
   },
   "source": [
    "##54. Question 121 \"task_id\": \"5bbf523f-b902-4d7d-8e8d-212d00018733\""
   ]
  },
  {
   "cell_type": "code",
   "execution_count": null,
   "metadata": {
    "colab": {
     "base_uri": "https://localhost:8080/"
    },
    "id": "BalikAti9a3G",
    "outputId": "b73a1c82-f377-4c24-e048-bb9e2fd522fa"
   },
   "outputs": [
    {
     "name": "stdout",
     "output_type": "stream",
     "text": [
      "The attached audio file is approximately 5 minutes long.\n"
     ]
    }
   ],
   "source": [
    "attached_file='/content/5bbf523f-b902-4d7d-8e8d-212d00018733.mp3'\n",
    "input_question=f\"How long is the attached audio file? Limit your answer to an integer value, rounded to the nearest minute.\"\n",
    "prompt = get_prompt(input_question, attached_file)\n",
    "response = await gaia_agent.run(user_msg=prompt)\n",
    "print(response)"
   ]
  },
  {
   "cell_type": "markdown",
   "metadata": {
    "id": "qUkpTmESlfeM"
   },
   "source": [
    "##55. Question 155 \"task_id\": \"e013fc18-abfc-4101-9acc-6273112517f6\""
   ]
  },
  {
   "cell_type": "code",
   "execution_count": null,
   "metadata": {
    "colab": {
     "base_uri": "https://localhost:8080/"
    },
    "id": "7DTFGs6plf0q",
    "outputId": "45ec1649-68c1-4eb8-e73b-a6d7c7347da3"
   },
   "outputs": [
    {
     "name": "stdout",
     "output_type": "stream",
     "text": [
      "To apply Newton's Method to the function \\( f(x) = x^3 - 5x^2 + 2x \\), we first need to compute its derivative:\n",
      "\n",
      "\\[\n",
      "f'(x) = 3x^2 - 10x + 2.\n",
      "\\]\n",
      "\n",
      "Newton's Method updates the approximation \\( x_n \\) using the formula:\n",
      "\n",
      "\\[\n",
      "x_{n+1} = x_n - \\frac{f(x_n)}{f'(x_n)}.\n",
      "\\]\n",
      "\n",
      "Starting with the initial guess \\( x_0 = 1 \\), we calculate \\( f(1) \\) and \\( f'(1) \\):\n",
      "\n",
      "\\[\n",
      "f(1) = 1^3 - 5 \\cdot 1^2 + 2 \\cdot 1 = 1 - 5 + 2 = -2,\n",
      "\\]\n",
      "\\[\n",
      "f'(1) = 3 \\cdot 1^2 - 10 \\cdot 1 + 2 = 3 - 10 + 2 = -5.\n",
      "\\]\n",
      "\n",
      "Now we can compute \\( x_1 \\):\n",
      "\n",
      "\\[\n",
      "x_1 = 1 - \\frac{f(1)}{f'(1)} = 1 - \\frac{-2}{-5} = 1 - \\frac{2}{5} = 1 - 0.4 = 0.6.\n",
      "\\]\n",
      "\n",
      "Next, we calculate \\( f(0.6) \\) and \\( f'(0.6) \\):\n",
      "\n",
      "\\[\n",
      "f(0.6) = (0.6)^3 - 5(0.6)^2 + 2(0.6) = 0.216 - 5 \\cdot 0.36 + 1.2 = 0.216 - 1.8 + 1.2 = -0.384,\n",
      "\\]\n",
      "\\[\n",
      "f'(0.6) = 3(0.6)^2 - 10(0.6) + 2 = 3 \\cdot 0.36 - 6 + 2 = 1.08 - 6 + 2 = -2.92.\n",
      "\\]\n",
      "\n",
      "Now we compute \\( x_2 \\):\n",
      "\n",
      "\\[\n",
      "x_2 = 0.6 - \\frac{f(0.6)}{f'(0.6)} = 0.6 - \\frac{-0.384}{-2.92} = 0.6 - \\frac{0.384}{2.92}.\n",
      "\\]\n",
      "\n",
      "Calculating \\( \\frac{0.384}{2.92} \\):\n",
      "\n",
      "\\[\n",
      "\\frac{0.384}{2.92} \\approx 0.1315068493.\n",
      "\\]\n",
      "\n",
      "Thus,\n",
      "\n",
      "\\[\n",
      "x_2 \\approx 0.6 - 0.1315068493 \\approx 0.4684931507.\n",
      "\\]\n",
      "\n",
      "Next, we compute \\( f(0.4684931507) \\) and \\( f'(0.4684931507) \\):\n",
      "\n",
      "Calculating \\( f(0.4684931507) \\):\n",
      "\n",
      "\\[\n",
      "f(0.4684931507) \\approx (0.4684931507)^3 - 5(0.4684931507)^2 + 2(0.4684931507).\n",
      "\\]\n",
      "\n",
      "Calculating \\( f'(0.4684931507) \\):\n",
      "\n",
      "\\[\n",
      "f'(0.4684931507) \\approx 3(0.4684931507)^2 - 10(0.4684931507) + 2.\n",
      "\\]\n",
      "\n",
      "Continuing this process, we will find \\( x_n \\) for increasing \\( n \\) until the denominator of the fraction representing \\( x_n \\) has at least 25 digits when fully reduced.\n",
      "\n",
      "To determine the number of digits in the denominator, we can analyze the convergence of Newton's Method. The convergence is quadratic, meaning the number of correct digits approximately doubles with each iteration. \n",
      "\n",
      "Starting with \\( x_0 = 1 \\) (which has 0 correct digits), we can estimate the number of correct digits after \\( n \\) iterations as:\n",
      "\n",
      "\\[\n",
      "\\text{correct digits} \\approx 2^n.\n",
      "\\]\n",
      "\n",
      "We need \\( 2^n \\) to be at least 25, which gives us:\n",
      "\n",
      "\\[\n",
      "n \\geq \\log_2(25) \\approx 4.64.\n",
      "\\]\n",
      "\n",
      "Thus, the smallest integer \\( n \\) satisfying this is \\( n = 5 \\).\n",
      "\n",
      "Finally, we conclude that the smallest \\( n \\) such that the denominator of the fraction representing \\( x_n \\) has at least 25 digits is:\n",
      "\n",
      "\\[\n",
      "\\boxed{5}.\n",
      "\\]\n"
     ]
    }
   ],
   "source": [
    "attached_file=''\n",
    "input_question=f\"Given $f(x) = x^3 - 5x^2 + 2x, x_0 = 1$ what is the smallest $n$ where Newton's Method results in a root approximation that has a 25 digit denominator when the fraction is fully reduced?\"\n",
    "prompt = get_prompt(input_question, attached_file)\n",
    "response = await gaia_agent.run(user_msg=prompt)\n",
    "print(response)"
   ]
  },
  {
   "cell_type": "markdown",
   "metadata": {
    "id": "om_kWh6woDpm"
   },
   "source": [
    "##56. Question 158 \"task_id\": \"220a2b08-ffdc-4665-af4e-025670f5408b\""
   ]
  },
  {
   "cell_type": "code",
   "execution_count": null,
   "metadata": {
    "colab": {
     "base_uri": "https://localhost:8080/"
    },
    "id": "_xD5im3VoD6o",
    "outputId": "a8041bbc-9826-402d-ba89-b31f4d9a86d6"
   },
   "outputs": [
    {
     "name": "stdout",
     "output_type": "stream",
     "text": [
      "According to English Wikipedia, Linkin Park released seven studio albums until 2022.\n"
     ]
    }
   ],
   "source": [
    "attached_file=''\n",
    "input_question=f\"According to english wikipedia, how many studio albums did Linkin Park release until 2022? \"\n",
    "prompt = get_prompt(input_question, attached_file)\n",
    "response = await gaia_agent.run(user_msg=prompt)\n",
    "print(response)"
   ]
  },
  {
   "cell_type": "markdown",
   "metadata": {
    "id": "cNHX54PfpJ5-"
   },
   "source": [
    "##57. Question 163 \"task_id\": \"fb59de38-e688-43f9-a959-a687e6cd0ebc\""
   ]
  },
  {
   "cell_type": "code",
   "execution_count": null,
   "metadata": {
    "colab": {
     "base_uri": "https://localhost:8080/"
    },
    "id": "5ZvkfGaUpKLB",
    "outputId": "7a5cc7d4-2310-403e-b69c-45d8fc3bf268"
   },
   "outputs": [
    {
     "name": "stdout",
     "output_type": "stream",
     "text": [
      "With a gallon of mayonnaise, you could bake approximately 16 Chocolate Mayonnaise Cakes, as a typical recipe requires about 1 cup of mayonnaise per cake.\n"
     ]
    }
   ],
   "source": [
    "attached_file=''\n",
    "input_question=f\"If you had a gallon of mayonnaise, how many Chocolate Mayonnaise Cakes could you bake using Southern Living's recipe, last updated November 2022?\"\n",
    "prompt = get_prompt(input_question, attached_file)\n",
    "response = await gaia_agent.run(user_msg=prompt)\n",
    "print(response)"
   ]
  },
  {
   "cell_type": "markdown",
   "metadata": {
    "id": "QuT3Up8GqKb8"
   },
   "source": [
    "##58. Question 165 \"task_id\": \"a15f8d90-115d-4376-98b3-c866be21ef8f\""
   ]
  },
  {
   "cell_type": "code",
   "execution_count": null,
   "metadata": {
    "colab": {
     "base_uri": "https://localhost:8080/"
    },
    "id": "PHkKiDpeqKtB",
    "outputId": "bd0d9f3a-4826-40f6-e7dc-ff998676b0f3"
   },
   "outputs": [
    {
     "name": "stdout",
     "output_type": "stream",
     "text": [
      "The endangered alligator species that can be found in zoos is the \"American alligator.\"\n"
     ]
    }
   ],
   "source": [
    "attached_file=''\n",
    "input_question=f\"As of 2022, in the city with a commercial airport people can fly to, a pine tree that only grows in two locations, and a zoo, what endangered alligator species can be found in the part of the zoo With alligators? Answer using singular form.\"\n",
    "prompt = get_prompt(input_question, attached_file)\n",
    "response = await gaia_agent.run(user_msg=prompt)\n",
    "print(response)"
   ]
  },
  {
   "cell_type": "markdown",
   "metadata": {
    "id": "gSZ-tLMNrdpC"
   },
   "source": [
    "##59. Question 168 \"task_id\": \"e26e4f19-0c1c-430d-a881-66e52b9043f5\""
   ]
  },
  {
   "cell_type": "code",
   "execution_count": null,
   "metadata": {
    "colab": {
     "base_uri": "https://localhost:8080/"
    },
    "id": "EOEQ2IfGrcq4",
    "outputId": "b6940964-a0b3-4c12-ad75-67172d37afc7"
   },
   "outputs": [
    {
     "name": "stdout",
     "output_type": "stream",
     "text": [
      "The Turkish ruler mentioned in the Histomap of world history created in 1931 is likely to be Sultan Abdul Hamid II, and his chief consort's birth name was \"Kadin Efendi.\" However, if you are looking for a specific name or more details, please provide additional context or specify the ruler.\n"
     ]
    }
   ],
   "source": [
    "attached_file=''\n",
    "input_question=f\"The Histomap of world history created in 1931 states that a particular Turkish ruler failed to arrest the decline of his empire. What was the birth name of this ruler's chief consort?\"\n",
    "prompt = get_prompt(input_question, attached_file)\n",
    "response = await gaia_agent.run(user_msg=prompt)\n",
    "print(response)"
   ]
  },
  {
   "cell_type": "markdown",
   "metadata": {
    "id": "yBtC7sdV_ebB"
   },
   "source": [
    "##60. Question 8. \"task_id\": \"6ace0798-0d0f-4122-8705-78acebf23191\""
   ]
  },
  {
   "cell_type": "code",
   "execution_count": 167,
   "metadata": {
    "colab": {
     "base_uri": "https://localhost:8080/"
    },
    "id": "lwByEvcp_b6P",
    "outputId": "e2c94b8c-52a5-4946-98aa-842a09da054c"
   },
   "outputs": [
    {
     "name": "stderr",
     "output_type": "stream",
     "text": [
      "/tmp/ipython-input-152-3511227704.py:4: FutureWarning: YF.download() has changed argument auto_adjust default to True\n",
      "  data = yf.download(ticker, start_date, end_date)\n",
      "\r",
      "[*********************100%***********************]  1 of 1 completed\n",
      "/tmp/ipython-input-152-3511227704.py:4: FutureWarning: YF.download() has changed argument auto_adjust default to True\n",
      "  data = yf.download(ticker, start_date, end_date)\n",
      "[*********************100%***********************]  1 of 1 completed\n"
     ]
    },
    {
     "name": "stdout",
     "output_type": "stream",
     "text": [
      "3.0\n"
     ]
    }
   ],
   "source": [
    "attached_file=''\n",
    "\n",
    "input_question=f\"Take the volume of Apple shares traded April 6 1987 and divide it by the shares traded June 14 2021. Round to one decimal place.\"\n",
    "agent_prompt = 'Attached file is ' + attached_file + '. ' + input_question if ('attach' or 'Attach' or 'ATTACH') in input_question else 'Take this file as reference file :' + attached_file + '. ' + input_question if ('reference file') in input_question else input_question\n",
    "#print(agent_prompt)\n",
    "response = await gaia_agent.run(user_msg=agent_prompt)\n",
    "print(response)"
   ]
  },
  {
   "cell_type": "markdown",
   "metadata": {
    "id": "8r4U_cd8_xcv"
   },
   "source": [
    "##61. Question 275 \"task_id\": \"8c638aa7-81d9-4d06-9ae4-0c0a5540ea5b\""
   ]
  },
  {
   "cell_type": "code",
   "execution_count": 170,
   "metadata": {
    "colab": {
     "base_uri": "https://localhost:8080/"
    },
    "id": "3UBeGYRB_xwI",
    "outputId": "87ac012e-db3f-468a-b39b-211fb10b756f"
   },
   "outputs": [
    {
     "name": "stdout",
     "output_type": "stream",
     "text": [
      "Symmetra's Primary Fire range increased from 20 meters to 30 meters, resulting in an increase of 1000 centimeters.\n"
     ]
    }
   ],
   "source": [
    "attached_file=''\n",
    "input_question=f\"Between August 31st of 2016 and August 31st of 2020, how much of an increase in range did Symmetra's Primary Fire gain in centimeters? Don't include units.\"\n",
    "prompt = get_prompt(input_question, attached_file)\n",
    "response = await gaia_agent.run(user_msg=prompt)\n",
    "print(response)"
   ]
  },
  {
   "cell_type": "markdown",
   "metadata": {
    "id": "s-r547dcFo2N"
   },
   "source": [
    "# Attempted, Not Successful"
   ]
  },
  {
   "cell_type": "markdown",
   "metadata": {
    "id": "qlHrQg25Abw2"
   },
   "source": [
    "##Question 276 \"task_id\": \"2648baca-4e35-4353-8772-4da848c8440e\""
   ]
  },
  {
   "cell_type": "code",
   "execution_count": 172,
   "metadata": {
    "colab": {
     "base_uri": "https://localhost:8080/"
    },
    "id": "haTvJNRdAcA7",
    "outputId": "20c75d2f-44da-45ee-ad7a-5263b81b9ca1"
   },
   "outputs": [
    {
     "name": "stdout",
     "output_type": "stream",
     "text": [
      "Please provide the article file for analysis.\n"
     ]
    }
   ],
   "source": [
    "attached_file=''\n",
    "input_question=f\"In the AVS article from Sallander in 2001, how many more dog questions were there than owner questions in the first table?\"\n",
    "prompt = get_prompt(input_question, attached_file)\n",
    "response = await gaia_agent.run(user_msg=prompt)\n",
    "print(response)"
   ]
  },
  {
   "cell_type": "markdown",
   "metadata": {
    "id": "FsATFRMN-2vI"
   },
   "source": [
    "##Question 272 \"task_id\": \"d31b3ec0-bf91-42dd-82fb-43655964505d\""
   ]
  },
  {
   "cell_type": "code",
   "execution_count": 169,
   "metadata": {
    "colab": {
     "base_uri": "https://localhost:8080/"
    },
    "id": "xD1_nc1v-3AK",
    "outputId": "30c7bf67-3b65-404e-c1d1-a51841f27d26"
   },
   "outputs": [
    {
     "name": "stdout",
     "output_type": "stream",
     "text": [
      "I couldn't find specific information regarding the instances of Ichthyomyzon unicuspis in the Hudson River between 1980 and 2000 from the USGS NAS database. You may want to check the USGS NAS database directly for detailed records.\n"
     ]
    }
   ],
   "source": [
    "attached_file=''\n",
    "input_question=f\"According to the USGS NAS database, how many instances of Ichthyomyzon unicuspis were found in the Hudson River between the years 1980 and 2000?\"\n",
    "prompt = get_prompt(input_question, attached_file)\n",
    "response = await gaia_agent.run(user_msg=prompt)\n",
    "print(response)"
   ]
  },
  {
   "cell_type": "markdown",
   "metadata": {
    "id": "qfkfQTBPq1bp"
   },
   "source": [
    "##Question 166 \"task_id\": \"adbc62c6-dc67-4bd8-a245-e1ed36b0d733\""
   ]
  },
  {
   "cell_type": "code",
   "execution_count": null,
   "metadata": {
    "colab": {
     "base_uri": "https://localhost:8080/"
    },
    "id": "WjYYKvPYq1s0",
    "outputId": "1b03348a-bb8d-4f07-d7cb-62a56265e719"
   },
   "outputs": [
    {
     "name": "stdout",
     "output_type": "stream",
     "text": [
      "The free Penguin Project dating software for Mac was available in the public domain, but specific directory information from 1997 may not be readily accessible. You might want to check archives or historical software repositories for more details.\n"
     ]
    }
   ],
   "source": [
    "attached_file=''\n",
    "input_question=f\"In what directory could the public find the free Penguin Project dating software for Mac as of 1997?\"\n",
    "prompt = get_prompt(input_question, attached_file)\n",
    "response = await gaia_agent.run(user_msg=prompt)\n",
    "print(response)"
   ]
  },
  {
   "cell_type": "markdown",
   "metadata": {
    "id": "fR1KzUA46c6w"
   },
   "source": [
    "##Question 147 \"task_id\": \"b1a37359-2e2e-4521-bb3d-cecdf3ec5419\""
   ]
  },
  {
   "cell_type": "code",
   "execution_count": null,
   "metadata": {
    "colab": {
     "base_uri": "https://localhost:8080/"
    },
    "id": "Z0zq2zicDg59",
    "outputId": "2cea987a-8cbb-494a-8696-36378f077bde"
   },
   "outputs": [
    {
     "name": "stdout",
     "output_type": "stream",
     "text": [
      "I cannot answer the question with the provided tools.\n"
     ]
    }
   ],
   "source": [
    "attached_file=''\n",
    "input_question=f\"According to data from Yahoo Finance, on the day in 2020 that the AUD/USD exchange rate reached its lowest value, what was the difference between the day's high value and low value for the AUD/USD exchange rate as a percentage of the open value? Give your answer as a percentage rounded to the nearest tenth of a percent.\"\n",
    "prompt = get_prompt(input_question, attached_file)\n",
    "response = await gaia_agent.run(user_msg=prompt)\n",
    "print(response)"
   ]
  },
  {
   "cell_type": "markdown",
   "metadata": {
    "id": "1nO2P6SU3Lu_"
   },
   "source": [
    "##Question 60 \"task_id\": \"5e76cfc3-f33d-4416-b8ae-3ef292830207\""
   ]
  },
  {
   "cell_type": "code",
   "execution_count": null,
   "metadata": {
    "colab": {
     "base_uri": "https://localhost:8080/"
    },
    "id": "XOU3jHOF2-w0",
    "outputId": "f7859c1d-0eb7-4332-d99c-038f7c606d27"
   },
   "outputs": [
    {
     "name": "stdout",
     "output_type": "stream",
     "text": [
      "I cannot provide the answer to the question regarding the dimension of the boundary of the tame twindragon.\n"
     ]
    }
   ],
   "source": [
    "attached_file=''\n",
    "input_question=f\"What is the dimension of the boundary of the tame twindragon rounded to two decimal places?\"\n",
    "prompt = get_prompt(input_question, attached_file)\n",
    "response = await gaia_agent.run(user_msg=prompt)\n",
    "print(response)"
   ]
  },
  {
   "cell_type": "markdown",
   "metadata": {
    "id": "dmIrHC5O3Ggv"
   },
   "source": []
  },
  {
   "cell_type": "markdown",
   "metadata": {
    "id": "vP9d3WbP0NbB"
   },
   "source": [
    "##Question 46 \"task_id\": \"8f697523-6988-4c4f-8d72-760a45681f68\" Unable to download file"
   ]
  },
  {
   "cell_type": "code",
   "execution_count": null,
   "metadata": {
    "colab": {
     "base_uri": "https://localhost:8080/"
    },
    "id": "PpxIUNPM0Noj",
    "outputId": "60685dc4-e6e3-42d2-c3fd-0778a4028a9b"
   },
   "outputs": [
    {
     "name": "stdout",
     "output_type": "stream",
     "text": [
      "Please attach the document you would like me to analyze for characters that are numbers, quotation marks, apostrophes, or the particular punctuation symbol present in the Yahoo logo.\n"
     ]
    }
   ],
   "source": [
    "attached_file=''\n",
    "input_question=f\"How many characters in the attached document are numbers, quotation marks, apostrophes, or the particular punctuation symbol present in the Yahoo logo?\"\n",
    "prompt = get_prompt(input_question, attached_file)\n",
    "response = await gaia_agent.run(user_msg=prompt)\n",
    "print(response)"
   ]
  },
  {
   "cell_type": "markdown",
   "metadata": {
    "id": "0t1sB6YCATdF"
   },
   "source": [
    "##Question 19 \"task_id\": \"ac8e6d96-57a8-4936-a910-2bb04794b041\""
   ]
  },
  {
   "cell_type": "code",
   "execution_count": null,
   "metadata": {
    "colab": {
     "base_uri": "https://localhost:8080/"
    },
    "id": "aPPV3s7WAVLt",
    "outputId": "c2bd4bc1-3ef4-494e-fe0f-b96b3ced6182"
   },
   "outputs": [
    {
     "name": "stdout",
     "output_type": "stream",
     "text": [
      "Unfortunately, I couldn't find specific information about the brand of webcam used on the laptop embedded in the cupola of the ISS. You may want to check official NASA resources or technical specifications related to the ISS for more detailed information.\n"
     ]
    }
   ],
   "source": [
    "attached_file=''\n",
    "input_question=f\"What brand of webcam is used on the laptop embedded in the cupola of the ISS?\"\n",
    "prompt = get_prompt(input_question, attached_file)\n",
    "response = await gaia_agent.run(user_msg=prompt)\n",
    "print(response)"
   ]
  },
  {
   "cell_type": "markdown",
   "metadata": {
    "id": "RG6i7BABuY8i"
   },
   "source": [
    "##Question 290 \"task_id\": \"4b52450e-0c0d-434e-8358-85e80cb2514c\""
   ]
  },
  {
   "cell_type": "code",
   "execution_count": null,
   "metadata": {
    "colab": {
     "base_uri": "https://localhost:8080/"
    },
    "id": "b8GthKnvuX9q",
    "outputId": "9b426181-bd6b-44c1-8569-119f5cce30cf"
   },
   "outputs": [
    {
     "name": "stdout",
     "output_type": "stream",
     "text": [
      "I cannot provide the number of heirs of the Emperor of the Ming dynasty who died as a result of the worst explosive accident with the highest death toll in recorded history.\n"
     ]
    }
   ],
   "source": [
    "attached_file=''\n",
    "input_question=f\"How many heirs of the Emperor of the Ming dynasty died as a result of the worst explosive accident with the highest death toll in recorded history? Please provide your response as a number.\"\n",
    "prompt = get_prompt(input_question, attached_file)\n",
    "response = await gaia_agent.run(user_msg=prompt)\n",
    "print(response)"
   ]
  },
  {
   "cell_type": "markdown",
   "metadata": {
    "id": "wSoMYmJDt3_j"
   },
   "source": [
    "Question 288 \"task_id\": \"b4395888-4e6d-4d02-b7ee-11dbccdb802d\""
   ]
  },
  {
   "cell_type": "code",
   "execution_count": null,
   "metadata": {
    "colab": {
     "base_uri": "https://localhost:8080/"
    },
    "id": "-rBD2Adxt4PO",
    "outputId": "bac10a76-6510-4bfd-f90d-7b4539eb8ca2"
   },
   "outputs": [
    {
     "name": "stdout",
     "output_type": "stream",
     "text": [
      "I don't have access to specific information about the unique characters that differentiated the architecture names of the image segmentation technique used in the PDDCNN model. You may want to check academic papers or resources related to PDDCNN for detailed information.\n"
     ]
    }
   ],
   "source": [
    "attached_file=''\n",
    "input_question=f\"What were the 4 unique characters that differentiated the architecture names of the image segmentation technique used to develop the novel deep learning model PDDCNN as an alphabetized, comma-separated list?\"\n",
    "prompt = get_prompt(input_question, attached_file)\n",
    "response = await gaia_agent.run(user_msg=prompt)\n",
    "print(response)"
   ]
  },
  {
   "cell_type": "markdown",
   "metadata": {
    "id": "BgaHZE97s5Sp"
   },
   "source": [
    "##Question 271 \"task_id\": \"f7f36b51-3ad4-4149-af93-1b4355b438b0\", \"Question\":"
   ]
  },
  {
   "cell_type": "code",
   "execution_count": null,
   "metadata": {
    "colab": {
     "base_uri": "https://localhost:8080/"
    },
    "id": "2fw-Gy0ds5fJ",
    "outputId": "6ffe0c9b-9824-4dcd-cc3e-66b5395138da"
   },
   "outputs": [
    {
     "name": "stdout",
     "output_type": "stream",
     "text": [
      "I cannot provide the number of transfer stations on the Washington D.C. metro orange line from Vienna to New Carrollton.\n"
     ]
    }
   ],
   "source": [
    "attached_file=''\n",
    "input_question=f\"If you ride the Washington D.C. metro orange line from Vienna to New Carrollton in 2022, how many transfer stations would you pass through? Your answer should be a numerical whole value. \"\n",
    "prompt = get_prompt(input_question, attached_file)\n",
    "response = await gaia_agent.run(user_msg=prompt)\n",
    "print(response)"
   ]
  },
  {
   "cell_type": "markdown",
   "metadata": {
    "id": "Qm5BdEaXq4KR"
   },
   "source": [
    "##Question 262 \"task_id\": \"d366cc70-86f1-4dca-bf12-440479c825fe\""
   ]
  },
  {
   "cell_type": "code",
   "execution_count": null,
   "metadata": {
    "colab": {
     "base_uri": "https://localhost:8080/"
    },
    "id": "-J84GXzTq4a8",
    "outputId": "bd7a3dc7-b1b4-425d-faab-b0729f8a28eb"
   },
   "outputs": [
    {
     "name": "stdout",
     "output_type": "stream",
     "text": [
      "To determine the absolute score difference between Player 1 and Player 2 in the card game, we need to analyze the scoring system and the outcomes of each round. \n",
      "\n",
      "1. **Scoring System**:\n",
      "   - Each round, the winner gets 1 point.\n",
      "   - If the winner draws a face card (Jack, Queen, King), they receive an additional bonus point.\n",
      "   - If the winner draws an Ace, they receive two additional bonus points.\n",
      "\n",
      "2. **Game Structure**:\n",
      "   - There are 15 rounds in total.\n",
      "   - Player 1 draws red suits (hearts and diamonds).\n",
      "   - Player 2 draws black suits (clubs and spades).\n",
      "\n",
      "3. **Outcome Analysis**:\n",
      "   - We need to know the results of each round to calculate the scores for both players.\n",
      "   - If we assume that the cards are drawn randomly and that the players have equal chances of winning each round, we can simulate or calculate the expected outcomes.\n",
      "\n",
      "4. **Calculating Scores**:\n",
      "   - For each round, we will determine the winner based on the card values.\n",
      "   - We will keep track of the points scored by each player, including any bonuses for face cards or aces.\n",
      "\n",
      "5. **Final Score Difference**:\n",
      "   - After all 15 rounds, we will calculate the total score for Player 1 and Player 2.\n",
      "   - The absolute score difference will be calculated as |Score of Player 1 - Score of Player 2|.\n",
      "\n",
      "Since the specific outcomes of the rounds are not provided, we cannot calculate the exact score difference without that information. If you have the results of the rounds or any specific details about the cards drawn, please provide them so we can compute the score difference accurately.\n"
     ]
    }
   ],
   "source": [
    "attached_file=''\n",
    "input_question=f\"Two people play a card game where they each draw a card and the high card wins. Player 1 always drew red suits, and player 2 always drew black suits. Each round adds 1 point to the winner's score plus a bonus point for a face card or two bonus points for an ace. The highest score at the end of 15 rounds wins. Based on the presentation of the card game rounds, what is the absolute score difference between Player 1 and Player 2?\"\n",
    "prompt = get_prompt(input_question, attached_file)\n",
    "response = await gaia_agent.run(user_msg=prompt)\n",
    "print(response)"
   ]
  },
  {
   "cell_type": "markdown",
   "metadata": {
    "id": "oATJClhTTnbE"
   },
   "source": [
    "##Question 219 \"task_id\": \"d50b8ecb-a8aa-4696-ad84-403ef15e2c8b\" File could not be downloaded"
   ]
  },
  {
   "cell_type": "code",
   "execution_count": null,
   "metadata": {
    "id": "KVRiwfUoToYr"
   },
   "outputs": [],
   "source": [
    "attached_file='/content/d50b8ecb-a8aa-4696-ad84-403ef15e2c8b.pdf'\n",
    "input_question=f\"The attached PDF shows accommodations in the resort town of Seahorse Island. What is the average rating that accommodations in this town have received?\"\n",
    "prompt = get_prompt(input_question, attached_file)\n",
    "response = await gaia_agent.run(user_msg=prompt)\n",
    "print(response)"
   ]
  },
  {
   "cell_type": "markdown",
   "metadata": {
    "id": "iEqrooSqLLsX"
   },
   "source": [
    "##Question 198 \"task_id\": \"634fca59-03b2-4cdf-9ce4-0205df22f256\""
   ]
  },
  {
   "cell_type": "code",
   "execution_count": null,
   "metadata": {
    "id": "cHFtjZMKLL-3"
   },
   "outputs": [],
   "source": [
    "attached_file='/content/634fca59-03b2-4cdf-9ce4-0205df22f256.pdf'\n",
    "input_question=f\"Under PLOS One authorship guidelines, what contributor roles should the individual in the file be given when the article about the study in question is submitted? Separate your answers with commas and use the alphabetical order.\"\n",
    "prompt = get_prompt(input_question, attached_file)\n",
    "response = await gaia_agent.run(user_msg=prompt)\n",
    "print(response)"
   ]
  },
  {
   "cell_type": "markdown",
   "metadata": {
    "id": "jgHU8zjRIPtx"
   },
   "source": [
    "##Question 196 \"task_id\": \"f1ba834a-3bcb-4e55-836c-06cc1e2ccb9f\""
   ]
  },
  {
   "cell_type": "code",
   "execution_count": null,
   "metadata": {
    "colab": {
     "base_uri": "https://localhost:8080/",
     "height": 1000
    },
    "id": "91p9mam0IP8X",
    "outputId": "18505ec0-6bde-425c-ecce-5bf382ce221f"
   },
   "outputs": [
    {
     "name": "stderr",
     "output_type": "stream",
     "text": [
      "ERROR:asyncio:Exception in callback Dispatcher.span.<locals>.wrapper.<locals>.handle_future_result(span_id='Workflow.run...-d11e88819e52', bound_args=<BoundArgumen...StartEvent())>, instance=ReActAgent(na...SER: 'user'>)), context=<_contextvars...x7d067adf9700>)(<WorkflowHand...exceeded'}}\")>) at /usr/local/lib/python3.11/dist-packages/llama_index_instrumentation/dispatcher.py:277\n",
      "handle: <Handle Dispatcher.span.<locals>.wrapper.<locals>.handle_future_result(span_id='Workflow.run...-d11e88819e52', bound_args=<BoundArgumen...StartEvent())>, instance=ReActAgent(na...SER: 'user'>)), context=<_contextvars...x7d067adf9700>)(<WorkflowHand...exceeded'}}\")>) at /usr/local/lib/python3.11/dist-packages/llama_index_instrumentation/dispatcher.py:277>\n",
      "Traceback (most recent call last):\n",
      "  File \"/usr/local/lib/python3.11/dist-packages/workflows/context/context.py\", line 628, in _step_worker\n",
      "    new_ev = await instrumented_step(**kwargs)\n",
      "             ^^^^^^^^^^^^^^^^^^^^^^^^^^^^^^^^^\n",
      "  File \"/usr/local/lib/python3.11/dist-packages/llama_index_instrumentation/dispatcher.py\", line 365, in async_wrapper\n",
      "    result = await func(*args, **kwargs)\n",
      "             ^^^^^^^^^^^^^^^^^^^^^^^^^^^\n",
      "  File \"/usr/local/lib/python3.11/dist-packages/llama_index/core/agent/workflow/base_agent.py\", line 346, in run_agent_step\n",
      "    agent_output = await self.take_step(\n",
      "                   ^^^^^^^^^^^^^^^^^^^^^\n",
      "  File \"/usr/local/lib/python3.11/dist-packages/llama_index/core/agent/workflow/react_agent.py\", line 100, in take_step\n",
      "    async for last_chat_response in response:\n",
      "  File \"/usr/local/lib/python3.11/dist-packages/llama_index/core/llms/callbacks.py\", line 89, in wrapped_gen\n",
      "    async for x in f_return_val:\n",
      "  File \"/usr/local/lib/python3.11/dist-packages/llama_index/llms/openai/base.py\", line 789, in gen\n",
      "    async for response in await aclient.chat.completions.create(\n",
      "                          ^^^^^^^^^^^^^^^^^^^^^^^^^^^^^^^^^^^^^^\n",
      "  File \"/usr/local/lib/python3.11/dist-packages/openai/resources/chat/completions/completions.py\", line 2028, in create\n",
      "    return await self._post(\n",
      "           ^^^^^^^^^^^^^^^^^\n",
      "  File \"/usr/local/lib/python3.11/dist-packages/openai/_base_client.py\", line 1748, in post\n",
      "    return await self.request(cast_to, opts, stream=stream, stream_cls=stream_cls)\n",
      "           ^^^^^^^^^^^^^^^^^^^^^^^^^^^^^^^^^^^^^^^^^^^^^^^^^^^^^^^^^^^^^^^^^^^^^^^\n",
      "  File \"/usr/local/lib/python3.11/dist-packages/openai/_base_client.py\", line 1555, in request\n",
      "    raise self._make_status_error_from_response(err.response) from None\n",
      "openai.RateLimitError: Error code: 429 - {'error': {'message': 'Request too large for gpt-4o-mini in organization org-iY8WoccAeU8HkyNRX5UlyvJI on tokens per min (TPM): Limit 200000, Requested 238823. The input or output tokens must be reduced in order to run successfully. Visit https://platform.openai.com/account/rate-limits to learn more.', 'type': 'tokens', 'param': None, 'code': 'rate_limit_exceeded'}}\n",
      "\n",
      "The above exception was the direct cause of the following exception:\n",
      "\n",
      "Traceback (most recent call last):\n",
      "  File \"/usr/lib/python3.11/asyncio/events.py\", line 84, in _run\n",
      "    self._context.run(self._callback, *self._args)\n",
      "  File \"/usr/local/lib/python3.11/dist-packages/llama_index_instrumentation/dispatcher.py\", line 290, in handle_future_result\n",
      "    raise exception\n",
      "  File \"/usr/local/lib/python3.11/dist-packages/workflows/workflow.py\", line 416, in _run_workflow\n",
      "    raise exception_raised\n",
      "  File \"/usr/local/lib/python3.11/dist-packages/workflows/context/context.py\", line 637, in _step_worker\n",
      "    raise WorkflowRuntimeError(\n",
      "workflows.errors.WorkflowRuntimeError: Error in step 'run_agent_step': Error code: 429 - {'error': {'message': 'Request too large for gpt-4o-mini in organization org-iY8WoccAeU8HkyNRX5UlyvJI on tokens per min (TPM): Limit 200000, Requested 238823. The input or output tokens must be reduced in order to run successfully. Visit https://platform.openai.com/account/rate-limits to learn more.', 'type': 'tokens', 'param': None, 'code': 'rate_limit_exceeded'}}\n"
     ]
    },
    {
     "ename": "WorkflowRuntimeError",
     "evalue": "Error in step 'run_agent_step': Error code: 429 - {'error': {'message': 'Request too large for gpt-4o-mini in organization org-iY8WoccAeU8HkyNRX5UlyvJI on tokens per min (TPM): Limit 200000, Requested 238823. The input or output tokens must be reduced in order to run successfully. Visit https://platform.openai.com/account/rate-limits to learn more.', 'type': 'tokens', 'param': None, 'code': 'rate_limit_exceeded'}}",
     "output_type": "error",
     "traceback": [
      "\u001b[0;31m---------------------------------------------------------------------------\u001b[0m",
      "\u001b[0;31mRateLimitError\u001b[0m                            Traceback (most recent call last)",
      "\u001b[0;32m/usr/local/lib/python3.11/dist-packages/workflows/context/context.py\u001b[0m in \u001b[0;36m_step_worker\u001b[0;34m(self, name, step, config, stepwise, verbose, checkpoint_callback, run_id, service_manager, resource_manager)\u001b[0m\n\u001b[1;32m    627\u001b[0m                     \u001b[0;32mtry\u001b[0m\u001b[0;34m:\u001b[0m\u001b[0;34m\u001b[0m\u001b[0;34m\u001b[0m\u001b[0m\n\u001b[0;32m--> 628\u001b[0;31m                         \u001b[0mnew_ev\u001b[0m \u001b[0;34m=\u001b[0m \u001b[0;32mawait\u001b[0m \u001b[0minstrumented_step\u001b[0m\u001b[0;34m(\u001b[0m\u001b[0;34m**\u001b[0m\u001b[0mkwargs\u001b[0m\u001b[0;34m)\u001b[0m\u001b[0;34m\u001b[0m\u001b[0;34m\u001b[0m\u001b[0m\n\u001b[0m\u001b[1;32m    629\u001b[0m                         \u001b[0mkwargs\u001b[0m\u001b[0;34m.\u001b[0m\u001b[0mclear\u001b[0m\u001b[0;34m(\u001b[0m\u001b[0;34m)\u001b[0m\u001b[0;34m\u001b[0m\u001b[0;34m\u001b[0m\u001b[0m\n",
      "\u001b[0;32m/usr/local/lib/python3.11/dist-packages/llama_index_instrumentation/dispatcher.py\u001b[0m in \u001b[0;36masync_wrapper\u001b[0;34m(func, instance, args, kwargs)\u001b[0m\n\u001b[1;32m    364\u001b[0m             \u001b[0;32mtry\u001b[0m\u001b[0;34m:\u001b[0m\u001b[0;34m\u001b[0m\u001b[0;34m\u001b[0m\u001b[0m\n\u001b[0;32m--> 365\u001b[0;31m                 \u001b[0mresult\u001b[0m \u001b[0;34m=\u001b[0m \u001b[0;32mawait\u001b[0m \u001b[0mfunc\u001b[0m\u001b[0;34m(\u001b[0m\u001b[0;34m*\u001b[0m\u001b[0margs\u001b[0m\u001b[0;34m,\u001b[0m \u001b[0;34m**\u001b[0m\u001b[0mkwargs\u001b[0m\u001b[0;34m)\u001b[0m\u001b[0;34m\u001b[0m\u001b[0;34m\u001b[0m\u001b[0m\n\u001b[0m\u001b[1;32m    366\u001b[0m             \u001b[0;32mexcept\u001b[0m \u001b[0mBaseException\u001b[0m \u001b[0;32mas\u001b[0m \u001b[0me\u001b[0m\u001b[0;34m:\u001b[0m\u001b[0;34m\u001b[0m\u001b[0;34m\u001b[0m\u001b[0m\n",
      "\u001b[0;32m/usr/local/lib/python3.11/dist-packages/llama_index/core/agent/workflow/base_agent.py\u001b[0m in \u001b[0;36mrun_agent_step\u001b[0;34m(self, ctx, ev)\u001b[0m\n\u001b[1;32m    345\u001b[0m \u001b[0;34m\u001b[0m\u001b[0m\n\u001b[0;32m--> 346\u001b[0;31m         agent_output = await self.take_step(\n\u001b[0m\u001b[1;32m    347\u001b[0m             \u001b[0mctx\u001b[0m\u001b[0;34m,\u001b[0m\u001b[0;34m\u001b[0m\u001b[0;34m\u001b[0m\u001b[0m\n",
      "\u001b[0;32m/usr/local/lib/python3.11/dist-packages/llama_index/core/agent/workflow/react_agent.py\u001b[0m in \u001b[0;36mtake_step\u001b[0;34m(self, ctx, llm_input, tools, memory)\u001b[0m\n\u001b[1;32m     99\u001b[0m         \u001b[0mlast_chat_response\u001b[0m \u001b[0;34m=\u001b[0m \u001b[0mChatResponse\u001b[0m\u001b[0;34m(\u001b[0m\u001b[0mmessage\u001b[0m\u001b[0;34m=\u001b[0m\u001b[0mChatMessage\u001b[0m\u001b[0;34m(\u001b[0m\u001b[0;34m)\u001b[0m\u001b[0;34m)\u001b[0m\u001b[0;34m\u001b[0m\u001b[0;34m\u001b[0m\u001b[0m\n\u001b[0;32m--> 100\u001b[0;31m         \u001b[0;32masync\u001b[0m \u001b[0;32mfor\u001b[0m \u001b[0mlast_chat_response\u001b[0m \u001b[0;32min\u001b[0m \u001b[0mresponse\u001b[0m\u001b[0;34m:\u001b[0m\u001b[0;34m\u001b[0m\u001b[0;34m\u001b[0m\u001b[0m\n\u001b[0m\u001b[1;32m    101\u001b[0m             raw = (\n",
      "\u001b[0;32m/usr/local/lib/python3.11/dist-packages/llama_index/core/llms/callbacks.py\u001b[0m in \u001b[0;36mwrapped_gen\u001b[0;34m()\u001b[0m\n\u001b[1;32m     88\u001b[0m                         \u001b[0;32mtry\u001b[0m\u001b[0;34m:\u001b[0m\u001b[0;34m\u001b[0m\u001b[0;34m\u001b[0m\u001b[0m\n\u001b[0;32m---> 89\u001b[0;31m                             \u001b[0;32masync\u001b[0m \u001b[0;32mfor\u001b[0m \u001b[0mx\u001b[0m \u001b[0;32min\u001b[0m \u001b[0mf_return_val\u001b[0m\u001b[0;34m:\u001b[0m\u001b[0;34m\u001b[0m\u001b[0;34m\u001b[0m\u001b[0m\n\u001b[0m\u001b[1;32m     90\u001b[0m                                 dispatcher.event(\n",
      "\u001b[0;32m/usr/local/lib/python3.11/dist-packages/llama_index/llms/openai/base.py\u001b[0m in \u001b[0;36mgen\u001b[0;34m()\u001b[0m\n\u001b[1;32m    788\u001b[0m             \u001b[0mfirst_chat_chunk\u001b[0m \u001b[0;34m=\u001b[0m \u001b[0;32mTrue\u001b[0m\u001b[0;34m\u001b[0m\u001b[0;34m\u001b[0m\u001b[0m\n\u001b[0;32m--> 789\u001b[0;31m             async for response in await aclient.chat.completions.create(\n\u001b[0m\u001b[1;32m    790\u001b[0m                 \u001b[0mmessages\u001b[0m\u001b[0;34m=\u001b[0m\u001b[0mmessage_dicts\u001b[0m\u001b[0;34m,\u001b[0m\u001b[0;34m\u001b[0m\u001b[0;34m\u001b[0m\u001b[0m\n",
      "\u001b[0;32m/usr/local/lib/python3.11/dist-packages/openai/resources/chat/completions/completions.py\u001b[0m in \u001b[0;36mcreate\u001b[0;34m(self, messages, model, audio, frequency_penalty, function_call, functions, logit_bias, logprobs, max_completion_tokens, max_tokens, metadata, modalities, n, parallel_tool_calls, prediction, presence_penalty, reasoning_effort, response_format, seed, service_tier, stop, store, stream, stream_options, temperature, tool_choice, tools, top_logprobs, top_p, user, web_search_options, extra_headers, extra_query, extra_body, timeout)\u001b[0m\n\u001b[1;32m   2027\u001b[0m         \u001b[0mvalidate_response_format\u001b[0m\u001b[0;34m(\u001b[0m\u001b[0mresponse_format\u001b[0m\u001b[0;34m)\u001b[0m\u001b[0;34m\u001b[0m\u001b[0;34m\u001b[0m\u001b[0m\n\u001b[0;32m-> 2028\u001b[0;31m         return await self._post(\n\u001b[0m\u001b[1;32m   2029\u001b[0m             \u001b[0;34m\"/chat/completions\"\u001b[0m\u001b[0;34m,\u001b[0m\u001b[0;34m\u001b[0m\u001b[0;34m\u001b[0m\u001b[0m\n",
      "\u001b[0;32m/usr/local/lib/python3.11/dist-packages/openai/_base_client.py\u001b[0m in \u001b[0;36mpost\u001b[0;34m(self, path, cast_to, body, files, options, stream, stream_cls)\u001b[0m\n\u001b[1;32m   1747\u001b[0m         )\n\u001b[0;32m-> 1748\u001b[0;31m         \u001b[0;32mreturn\u001b[0m \u001b[0;32mawait\u001b[0m \u001b[0mself\u001b[0m\u001b[0;34m.\u001b[0m\u001b[0mrequest\u001b[0m\u001b[0;34m(\u001b[0m\u001b[0mcast_to\u001b[0m\u001b[0;34m,\u001b[0m \u001b[0mopts\u001b[0m\u001b[0;34m,\u001b[0m \u001b[0mstream\u001b[0m\u001b[0;34m=\u001b[0m\u001b[0mstream\u001b[0m\u001b[0;34m,\u001b[0m \u001b[0mstream_cls\u001b[0m\u001b[0;34m=\u001b[0m\u001b[0mstream_cls\u001b[0m\u001b[0;34m)\u001b[0m\u001b[0;34m\u001b[0m\u001b[0;34m\u001b[0m\u001b[0m\n\u001b[0m\u001b[1;32m   1749\u001b[0m \u001b[0;34m\u001b[0m\u001b[0m\n",
      "\u001b[0;32m/usr/local/lib/python3.11/dist-packages/openai/_base_client.py\u001b[0m in \u001b[0;36mrequest\u001b[0;34m(self, cast_to, options, stream, stream_cls)\u001b[0m\n\u001b[1;32m   1554\u001b[0m                 \u001b[0mlog\u001b[0m\u001b[0;34m.\u001b[0m\u001b[0mdebug\u001b[0m\u001b[0;34m(\u001b[0m\u001b[0;34m\"Re-raising status error\"\u001b[0m\u001b[0;34m)\u001b[0m\u001b[0;34m\u001b[0m\u001b[0;34m\u001b[0m\u001b[0m\n\u001b[0;32m-> 1555\u001b[0;31m                 \u001b[0;32mraise\u001b[0m \u001b[0mself\u001b[0m\u001b[0;34m.\u001b[0m\u001b[0m_make_status_error_from_response\u001b[0m\u001b[0;34m(\u001b[0m\u001b[0merr\u001b[0m\u001b[0;34m.\u001b[0m\u001b[0mresponse\u001b[0m\u001b[0;34m)\u001b[0m \u001b[0;32mfrom\u001b[0m \u001b[0;32mNone\u001b[0m\u001b[0;34m\u001b[0m\u001b[0;34m\u001b[0m\u001b[0m\n\u001b[0m\u001b[1;32m   1556\u001b[0m \u001b[0;34m\u001b[0m\u001b[0m\n",
      "\u001b[0;31mRateLimitError\u001b[0m: Error code: 429 - {'error': {'message': 'Request too large for gpt-4o-mini in organization org-iY8WoccAeU8HkyNRX5UlyvJI on tokens per min (TPM): Limit 200000, Requested 238823. The input or output tokens must be reduced in order to run successfully. Visit https://platform.openai.com/account/rate-limits to learn more.', 'type': 'tokens', 'param': None, 'code': 'rate_limit_exceeded'}}",
      "\nThe above exception was the direct cause of the following exception:\n",
      "\u001b[0;31mWorkflowRuntimeError\u001b[0m                      Traceback (most recent call last)",
      "\u001b[0;32m/tmp/ipython-input-71-4294403143.py\u001b[0m in \u001b[0;36m<cell line: 1>\u001b[0;34m()\u001b[0m\n\u001b[1;32m      2\u001b[0m \u001b[0minput_question\u001b[0m\u001b[0;34m=\u001b[0m\u001b[0;34mf\"I lost my place in this book file; the culprit had just been introduced. What line number was I on?\"\u001b[0m\u001b[0;34m\u001b[0m\u001b[0;34m\u001b[0m\u001b[0m\n\u001b[1;32m      3\u001b[0m \u001b[0mprompt\u001b[0m \u001b[0;34m=\u001b[0m \u001b[0mget_prompt\u001b[0m\u001b[0;34m(\u001b[0m\u001b[0minput_question\u001b[0m\u001b[0;34m,\u001b[0m \u001b[0mattached_file\u001b[0m\u001b[0;34m)\u001b[0m\u001b[0;34m\u001b[0m\u001b[0;34m\u001b[0m\u001b[0m\n\u001b[0;32m----> 4\u001b[0;31m \u001b[0mresponse\u001b[0m \u001b[0;34m=\u001b[0m \u001b[0;32mawait\u001b[0m \u001b[0mgaia_agent\u001b[0m\u001b[0;34m.\u001b[0m\u001b[0mrun\u001b[0m\u001b[0;34m(\u001b[0m\u001b[0muser_msg\u001b[0m\u001b[0;34m=\u001b[0m\u001b[0mprompt\u001b[0m\u001b[0;34m)\u001b[0m\u001b[0;34m\u001b[0m\u001b[0;34m\u001b[0m\u001b[0m\n\u001b[0m\u001b[1;32m      5\u001b[0m \u001b[0mprint\u001b[0m\u001b[0;34m(\u001b[0m\u001b[0mresponse\u001b[0m\u001b[0;34m)\u001b[0m\u001b[0;34m\u001b[0m\u001b[0;34m\u001b[0m\u001b[0m\n",
      "\u001b[0;32m/usr/local/lib/python3.11/dist-packages/workflows/workflow.py\u001b[0m in \u001b[0;36m_run_workflow\u001b[0;34m()\u001b[0m\n\u001b[1;32m    414\u001b[0m                     \u001b[0mctx\u001b[0m\u001b[0;34m.\u001b[0m\u001b[0mwrite_event_to_stream\u001b[0m\u001b[0;34m(\u001b[0m\u001b[0mStopEvent\u001b[0m\u001b[0;34m(\u001b[0m\u001b[0;34m)\u001b[0m\u001b[0;34m)\u001b[0m\u001b[0;34m\u001b[0m\u001b[0;34m\u001b[0m\u001b[0m\n\u001b[1;32m    415\u001b[0m \u001b[0;34m\u001b[0m\u001b[0m\n\u001b[0;32m--> 416\u001b[0;31m                     \u001b[0;32mraise\u001b[0m \u001b[0mexception_raised\u001b[0m\u001b[0;34m\u001b[0m\u001b[0;34m\u001b[0m\u001b[0m\n\u001b[0m\u001b[1;32m    417\u001b[0m \u001b[0;34m\u001b[0m\u001b[0m\n\u001b[1;32m    418\u001b[0m                 \u001b[0;32mif\u001b[0m \u001b[0;32mnot\u001b[0m \u001b[0mwe_done\u001b[0m\u001b[0;34m:\u001b[0m\u001b[0;34m\u001b[0m\u001b[0;34m\u001b[0m\u001b[0m\n",
      "\u001b[0;32m/usr/local/lib/python3.11/dist-packages/workflows/context/context.py\u001b[0m in \u001b[0;36m_step_worker\u001b[0;34m(self, name, step, config, stepwise, verbose, checkpoint_callback, run_id, service_manager, resource_manager)\u001b[0m\n\u001b[1;32m    635\u001b[0m                     \u001b[0;32mexcept\u001b[0m \u001b[0mException\u001b[0m \u001b[0;32mas\u001b[0m \u001b[0me\u001b[0m\u001b[0;34m:\u001b[0m\u001b[0;34m\u001b[0m\u001b[0;34m\u001b[0m\u001b[0m\n\u001b[1;32m    636\u001b[0m                         \u001b[0;32mif\u001b[0m \u001b[0mconfig\u001b[0m\u001b[0;34m.\u001b[0m\u001b[0mretry_policy\u001b[0m \u001b[0;32mis\u001b[0m \u001b[0;32mNone\u001b[0m\u001b[0;34m:\u001b[0m\u001b[0;34m\u001b[0m\u001b[0;34m\u001b[0m\u001b[0m\n\u001b[0;32m--> 637\u001b[0;31m                             raise WorkflowRuntimeError(\n\u001b[0m\u001b[1;32m    638\u001b[0m                                 \u001b[0;34mf\"Error in step '{name}': {e!s}\"\u001b[0m\u001b[0;34m\u001b[0m\u001b[0;34m\u001b[0m\u001b[0m\n\u001b[1;32m    639\u001b[0m                             ) from e\n",
      "\u001b[0;31mWorkflowRuntimeError\u001b[0m: Error in step 'run_agent_step': Error code: 429 - {'error': {'message': 'Request too large for gpt-4o-mini in organization org-iY8WoccAeU8HkyNRX5UlyvJI on tokens per min (TPM): Limit 200000, Requested 238823. The input or output tokens must be reduced in order to run successfully. Visit https://platform.openai.com/account/rate-limits to learn more.', 'type': 'tokens', 'param': None, 'code': 'rate_limit_exceeded'}}"
     ]
    }
   ],
   "source": [
    "attached_file='/content/f1ba834a-3bcb-4e55-836c-06cc1e2ccb9f.txt'\n",
    "input_question=f\"I lost my place in this book file; the culprit had just been introduced. What line number was I on?\"\n",
    "prompt = get_prompt(input_question, attached_file)\n",
    "response = await gaia_agent.run(user_msg=prompt)\n",
    "print(response)"
   ]
  },
  {
   "cell_type": "code",
   "execution_count": null,
   "metadata": {
    "colab": {
     "base_uri": "https://localhost:8080/",
     "height": 369
    },
    "id": "YLcgZF42CN64",
    "outputId": "21d76eae-3d0d-4b4b-fac9-6693b1d03704"
   },
   "outputs": [
    {
     "name": "stderr",
     "output_type": "stream",
     "text": [
      "ERROR:asyncio:Exception in callback Dispatcher.span.<locals>.wrapper.<locals>.handle_future_result(span_id='Workflow.run...-b48a76d4dd2c', bound_args=<BoundArgumen...StartEvent())>, instance=ReActAgent(na...SER: 'user'>)), context=<_contextvars...x7d06905cb3c0>)(<WorkflowHandler cancelled>) at /usr/local/lib/python3.11/dist-packages/llama_index_instrumentation/dispatcher.py:277\n",
      "handle: <Handle Dispatcher.span.<locals>.wrapper.<locals>.handle_future_result(span_id='Workflow.run...-b48a76d4dd2c', bound_args=<BoundArgumen...StartEvent())>, instance=ReActAgent(na...SER: 'user'>)), context=<_contextvars...x7d06905cb3c0>)(<WorkflowHandler cancelled>) at /usr/local/lib/python3.11/dist-packages/llama_index_instrumentation/dispatcher.py:277>\n",
      "Traceback (most recent call last):\n",
      "  File \"/usr/lib/python3.11/asyncio/events.py\", line 84, in _run\n",
      "    self._context.run(self._callback, *self._args)\n",
      "  File \"/usr/local/lib/python3.11/dist-packages/llama_index_instrumentation/dispatcher.py\", line 285, in handle_future_result\n",
      "    exception = future.exception()\n",
      "                ^^^^^^^^^^^^^^^^^^\n",
      "asyncio.exceptions.CancelledError\n"
     ]
    },
    {
     "ename": "CancelledError",
     "evalue": "",
     "output_type": "error",
     "traceback": [
      "\u001b[0;31m---------------------------------------------------------------------------\u001b[0m",
      "\u001b[0;31mCancelledError\u001b[0m                            Traceback (most recent call last)",
      "\u001b[0;32m/tmp/ipython-input-66-11475565.py\u001b[0m in \u001b[0;36m<cell line: 1>\u001b[0;34m()\u001b[0m\n\u001b[1;32m      2\u001b[0m \u001b[0minput_question\u001b[0m\u001b[0;34m=\u001b[0m\u001b[0;34mf\"How many pull requests were merged in the numpy github repository in 2021?\"\u001b[0m\u001b[0;34m\u001b[0m\u001b[0;34m\u001b[0m\u001b[0m\n\u001b[1;32m      3\u001b[0m \u001b[0mprompt\u001b[0m \u001b[0;34m=\u001b[0m \u001b[0mget_prompt\u001b[0m\u001b[0;34m(\u001b[0m\u001b[0minput_question\u001b[0m\u001b[0;34m,\u001b[0m \u001b[0mattached_file\u001b[0m\u001b[0;34m)\u001b[0m\u001b[0;34m\u001b[0m\u001b[0;34m\u001b[0m\u001b[0m\n\u001b[0;32m----> 4\u001b[0;31m \u001b[0mresponse\u001b[0m \u001b[0;34m=\u001b[0m \u001b[0;32mawait\u001b[0m \u001b[0mgaia_agent\u001b[0m\u001b[0;34m.\u001b[0m\u001b[0mrun\u001b[0m\u001b[0;34m(\u001b[0m\u001b[0muser_msg\u001b[0m\u001b[0;34m=\u001b[0m\u001b[0mprompt\u001b[0m\u001b[0;34m)\u001b[0m\u001b[0;34m\u001b[0m\u001b[0;34m\u001b[0m\u001b[0m\n\u001b[0m\u001b[1;32m      5\u001b[0m \u001b[0mprint\u001b[0m\u001b[0;34m(\u001b[0m\u001b[0mresponse\u001b[0m\u001b[0;34m)\u001b[0m\u001b[0;34m\u001b[0m\u001b[0;34m\u001b[0m\u001b[0m\n",
      "\u001b[0;31mCancelledError\u001b[0m: "
     ]
    }
   ],
   "source": [
    "attached_file=''\n",
    "input_question=f\"How many pull requests were merged in the numpy github repository in 2021?\"\n",
    "prompt = get_prompt(input_question, attached_file)\n",
    "response = await gaia_agent.run(user_msg=prompt)\n",
    "print(response)"
   ]
  },
  {
   "cell_type": "markdown",
   "metadata": {
    "id": "vAX_uaPZBIbT"
   },
   "source": [
    "## Question 171 \"task_id\": \"66bd1b1c-443b-4b4e-a108-0fa06527dd62\""
   ]
  },
  {
   "cell_type": "code",
   "execution_count": null,
   "metadata": {
    "colab": {
     "base_uri": "https://localhost:8080/"
    },
    "id": "VEZup8r_BHVG",
    "outputId": "2ac67240-aed1-4147-a250-5ea1e339891e"
   },
   "outputs": [
    {
     "name": "stdout",
     "output_type": "stream",
     "text": [
      "Thought: The scientific name of the Black rhinoceros is \"Diceros bicornis.\" I need to translate this name and then sum the number of horns referenced in total.\n",
      "Action: read_wikipedia_page({\"user_question\": \"Diceros bicornis\"})\n"
     ]
    }
   ],
   "source": [
    "attached_file=''\n",
    "input_question=f\"If you translate the scientific name of the Black rhinoceros and then sum the number of horns referenced in total, how many horns do you get?\"\n",
    "prompt = get_prompt(input_question, attached_file)\n",
    "response = await gaia_agent.run(user_msg=prompt)\n",
    "print(response)"
   ]
  },
  {
   "cell_type": "markdown",
   "metadata": {
    "id": "ulaBxzH974zB"
   },
   "source": [
    "##Question 159 \"task_id\": \"dbb02ff7-f947-491b-9ce2-41e3df16dbb8\""
   ]
  },
  {
   "cell_type": "code",
   "execution_count": null,
   "metadata": {
    "colab": {
     "base_uri": "https://localhost:8080/"
    },
    "id": "cxj7fD3k73vE",
    "outputId": "a1e26deb-9b90-4fba-e1c5-3ec129763f7d"
   },
   "outputs": [
    {
     "name": "stdout",
     "output_type": "stream",
     "text": [
      "Thought: I need to read the Python code from the file to understand its output and then calculate the absolute difference after adjusting the first population by 2 million. I'll start by converting the attached file to text to see the code.\n",
      "Action: convert_text_to_string({\"attached_file\": \"file\"})\n"
     ]
    }
   ],
   "source": [
    "attached_file='/content/dbb02ff7-f947-491b-9ce2-41e3df16dbb8.txt'\n",
    "input_question=f\"I'm calculating data about a population with measurements in the millions. What is the absolute difference between the output of the Python code in the file and the output if the first population grows by 2 million to the nearest 5 decimal places?\"\n",
    "prompt = get_prompt(input_question, attached_file)\n",
    "response = await gaia_agent.run(user_msg=prompt)\n",
    "print(response)"
   ]
  },
  {
   "cell_type": "markdown",
   "metadata": {
    "id": "o1i_xouEvToX"
   },
   "source": [
    "### Question 133 \"task_id\": \"4d317450-948c-4445-b15a-a170813a05e5\""
   ]
  },
  {
   "cell_type": "code",
   "execution_count": null,
   "metadata": {
    "colab": {
     "base_uri": "https://localhost:8080/"
    },
    "id": "i-YtDkc0vT30",
    "outputId": "d04a039b-a30f-4bbf-f677-160e8ec10845"
   },
   "outputs": [
    {
     "name": "stdout",
     "output_type": "stream",
     "text": [
      "Hayley Atwell and Domhnall Gleeson both appeared in the TV show \"The Pillars of the Earth,\" but I cannot provide the specific episode title.\n"
     ]
    }
   ],
   "source": [
    "attached_file='/content/7c215d46-91c7-424e-9f22-37d43ab73ea6.pdf'\n",
    "input_question=f\"You know that lady who played Peggy Carter in the Marvel movies and that show Agent Carter? I'm pretty sure she was also in a TV show with the guy who was in one of the Harry Potter movies. It was the guy who played Bill Weasley. What was the name of the episode of the TV show they were both in? The show I'm thinking of would have been on the air before 2020.\"\n",
    "prompt = get_prompt(input_question, attached_file)\n",
    "response = await gaia_agent.run(user_msg=prompt)\n",
    "print(response)"
   ]
  },
  {
   "cell_type": "markdown",
   "metadata": {
    "id": "v_prcWyRsU7c"
   },
   "source": [
    "##Question 127 \"task_id\": \"0a3d99c6-d130-49a8-a8bc-6cd5999cc3b4\""
   ]
  },
  {
   "cell_type": "code",
   "execution_count": null,
   "metadata": {
    "colab": {
     "base_uri": "https://localhost:8080/"
    },
    "id": "d-YoLzJ-sVKf",
    "outputId": "aaf08251-bc38-4343-e8aa-ae2bb211a6ff"
   },
   "outputs": [
    {
     "name": "stdout",
     "output_type": "stream",
     "text": [
      "I don't have the information regarding the single female chess grandmasters and their peak ratings as of December 31, 2021.\n"
     ]
    }
   ],
   "source": [
    "attached_file=''\n",
    "input_question=f\"As of December 31, 2021, several countries had only a single female chess grandmaster. Of these countries, what was the name of the player who had the lowest peak rating at that time? Just give the family name.\"\n",
    "prompt = get_prompt(input_question, attached_file)\n",
    "response = await gaia_agent.run(user_msg=prompt)\n",
    "print(response)"
   ]
  },
  {
   "cell_type": "markdown",
   "metadata": {
    "id": "109Z5U8-rUjg"
   },
   "source": [
    "##Question 120 \"task_id\": \"21aba0e0-03d6-4541-b467-a0384ca5298a\""
   ]
  },
  {
   "cell_type": "code",
   "execution_count": null,
   "metadata": {
    "colab": {
     "base_uri": "https://localhost:8080/"
    },
    "id": "8OwRZcHKrUwd",
    "outputId": "64eb4030-e4d7-40de-bf2a-b481a380e0fd"
   },
   "outputs": [
    {
     "name": "stdout",
     "output_type": "stream",
     "text": [
      "I'm unable to find the specific information about the color of Rihanna's shirt in the photo with Santa Claus from December 2021. You may want to check her Twitter account or look for news articles from that time for more details.\n"
     ]
    }
   ],
   "source": [
    "attached_file=''\n",
    "input_question=f\"What color was Rihanna's shirt in the photo she posted on her Twitter account of herself with Santa Claus in December 2021?\"\n",
    "prompt = get_prompt(input_question, attached_file)\n",
    "response = await gaia_agent.run(user_msg=prompt)\n",
    "print(response)"
   ]
  },
  {
   "cell_type": "markdown",
   "metadata": {
    "id": "BPlJlV1kpo55"
   },
   "source": [
    "##Question 110 \"task_id\": \"9845712b-bb09-45f8-a0a4-df29b7093877\""
   ]
  },
  {
   "cell_type": "code",
   "execution_count": null,
   "metadata": {
    "colab": {
     "base_uri": "https://localhost:8080/"
    },
    "id": "o3hG5xT8ppOH",
    "outputId": "c23c878d-4d8c-4c9b-e3dd-85a4a30c8487"
   },
   "outputs": [
    {
     "name": "stdout",
     "output_type": "stream",
     "text": [
      "I cannot access the specific Wikipedia page or its content from 27 October 2020 to provide the requested information.\n"
     ]
    }
   ],
   "source": [
    "attached_file=''\n",
    "input_question=f\"What animal is associated with the first linked onomatopoeia on the wikipedia page about them from 27 October 2020? Answer in the singular form without articles.\"\n",
    "prompt = get_prompt(input_question, attached_file)\n",
    "response = await gaia_agent.run(user_msg=prompt)\n",
    "print(response)"
   ]
  },
  {
   "cell_type": "markdown",
   "metadata": {
    "id": "l086yzq1nulQ"
   },
   "source": [
    "##\"task_id\": \"4d8fc0e1-69c0-4fa9-9db1-05935ec5633e\""
   ]
  },
  {
   "cell_type": "code",
   "execution_count": null,
   "metadata": {
    "colab": {
     "base_uri": "https://localhost:8080/"
    },
    "id": "-PW_DYTZnu4J",
    "outputId": "76d8d385-47ee-4e5e-fa5f-f77b9e2a635f"
   },
   "outputs": [
    {
     "name": "stdout",
     "output_type": "stream",
     "text": [
      "I cannot provide the city name without additional information about the actor.\n"
     ]
    }
   ],
   "source": [
    "attached_file=''\n",
    "input_question=f\"An American actor who started his career in the 1950s shares a birthday with the Russian poet Boris Pasternak and a last name with a famous 19th Century German composer. In what city was his father born? Just provide the city name.\"\n",
    "prompt = get_prompt(input_question, attached_file)\n",
    "response = await gaia_agent.run(user_msg=prompt)\n",
    "print(response)"
   ]
  },
  {
   "cell_type": "markdown",
   "metadata": {
    "id": "3I-b5WmDcya3"
   },
   "source": [
    "##\"task_id\": \"c1e3311d-5112-4690-bcdc-7da181657835\", Question 77"
   ]
  },
  {
   "cell_type": "code",
   "execution_count": null,
   "metadata": {
    "colab": {
     "base_uri": "https://localhost:8080/"
    },
    "id": "VjyvoMaOcyt2",
    "outputId": "479d3186-4e86-49c6-ccc2-205fbdb65d01"
   },
   "outputs": [
    {
     "name": "stdout",
     "output_type": "stream",
     "text": [
      "The specific attribute added to the numpy.polynomial package's polynomial classes when the numpy.msort function was deprecated is not readily available. You may want to check the official NumPy release notes or documentation for the most accurate and detailed information.\n"
     ]
    }
   ],
   "source": [
    "attached_file=''\n",
    "input_question=f\"In the version of NumPy where the numpy.msort function was deprecated, which attribute was added to the numpy.polynomial package's polynomial classes?\"\n",
    "prompt = get_prompt(input_question, attached_file)\n",
    "response = await gaia_agent.run(user_msg=prompt)\n",
    "print(response)"
   ]
  },
  {
   "cell_type": "markdown",
   "metadata": {
    "id": "xpl8MqHHXuVz"
   },
   "source": [
    "##\"task_id\": \"35a5c13a-6012-461f-abfc-cde9e5a0a0dd\", \"Question\":"
   ]
  },
  {
   "cell_type": "code",
   "execution_count": null,
   "metadata": {
    "colab": {
     "base_uri": "https://localhost:8080/"
    },
    "id": "FvFvaFfJXumd",
    "outputId": "aa81bd3e-a8f9-4fdc-db44-ca666adcd06d"
   },
   "outputs": [
    {
     "name": "stdout",
     "output_type": "stream",
     "text": [
      "Thought: To answer this question, I need to understand the differences in the behavior of the `torch.floor_divide` function between versions 1.12.1 and 1.13 of PyTorch. I will look for the relevant information regarding the `torch.floor_divide` function in both versions.\n",
      "\n",
      "Action: search_internet_web_sites(\"torch.floor_divide differences between PyTorch 1.12.1 and 1.13\")\n"
     ]
    }
   ],
   "source": [
    "attached_file=''\n",
    "input_question=f\"Consider these two github versions of pytorch: 1.12.1 and 1.13. Consider the following inputs: a = torch.tensor([4.0, -5.0]), b = torch.tensor([2.0, 2.0]). What is the sum of the elements of the tensor resulting from the subtraction of the 1.13 version from the 1.12.1 version of torch.floor_divide(a, b)?\"\n",
    "prompt = get_prompt(input_question, attached_file)\n",
    "response = await gaia_agent.run(user_msg=prompt)\n",
    "print(response)"
   ]
  },
  {
   "cell_type": "markdown",
   "metadata": {
    "id": "baeZ-ivmUfBe"
   },
   "source": [
    "##\"task_id\": \"c3c656c0-b288-476d-85d6-6d7a95ad19ef\""
   ]
  },
  {
   "cell_type": "code",
   "execution_count": null,
   "metadata": {
    "colab": {
     "base_uri": "https://localhost:8080/"
    },
    "id": "ltAZFq67Wj8B",
    "outputId": "b998ece6-8f4a-4a98-ece5-46dff2c22714"
   },
   "outputs": [
    {
     "name": "stdout",
     "output_type": "stream",
     "text": [
      "I am unable to retrieve the information regarding the English language percentages of states as of the end of May 2023. You may want to check the English Wikipedia pages of the states for the most accurate and updated data.\n"
     ]
    }
   ],
   "source": [
    "attached_file=''\n",
    "input_question=f\" As of the end of May 2023, of the states that have an English language percentage listed in their english wikipedia page infobox , which two had the closest percentages? Return your answer in alphabetical order and comma separated.\"\n",
    "prompt = get_prompt(input_question, attached_file)\n",
    "response = await gaia_agent.run(user_msg=prompt)\n",
    "print(response)"
   ]
  },
  {
   "cell_type": "markdown",
   "metadata": {
    "id": "Cn56HIPUT8XE"
   },
   "source": [
    "## \"task_id\": \"2102c078-d0f8-4a66-91d7-caca752bf55b\""
   ]
  },
  {
   "cell_type": "code",
   "execution_count": null,
   "metadata": {
    "colab": {
     "base_uri": "https://localhost:8080/"
    },
    "id": "FYrP_BNXOwEa",
    "outputId": "a8cd37ae-e602-4cde-965e-806edac7b0c1"
   },
   "outputs": [
    {
     "name": "stdout",
     "output_type": "stream",
     "text": [
      "I'm sorry, but I couldn't locate the ISSN of the journal that included G. Scott's potato article. You may want to check academic databases or journal websites for more specific information.\n"
     ]
    }
   ],
   "source": [
    "attached_file=''\n",
    "input_question=f\"What is the ISSN of the journal that included G. Scott's potato article that mentioned both a fast food restaurant and a Chinese politician in the title in a 2012 issue?\"\n",
    "prompt = get_prompt(input_question, attached_file)\n",
    "response = await gaia_agent.run(user_msg=prompt)\n",
    "print(response)"
   ]
  },
  {
   "cell_type": "markdown",
   "metadata": {
    "id": "zKu2j4z_b-Ki"
   },
   "source": [
    "##\"task_id\": \"5e76cfc3-f33d-4416-b8ae-3ef292830207\""
   ]
  },
  {
   "cell_type": "code",
   "execution_count": null,
   "metadata": {
    "colab": {
     "base_uri": "https://localhost:8080/"
    },
    "id": "3C7bTAGzb-hm",
    "outputId": "a31d7560-29fa-4694-dcd7-e92bbbd92dd0"
   },
   "outputs": [
    {
     "name": "stdout",
     "output_type": "stream",
     "text": [
      "The dimension of the boundary of the tame twindragon is not readily available in common resources. It may require specialized mathematical literature or research papers to determine.\n"
     ]
    }
   ],
   "source": [
    "attached_file=''\n",
    "\n",
    "input_question=f\"What is the dimension of the boundary of the tame twindragon rounded to two decimal places?\"\n",
    "agent_prompt = 'Attached file is ' + attached_file + '. ' + input_question if ('attach' or 'Attach' or 'ATTACH') in input_question else 'Take this file as reference file :' + attached_file + '. ' + input_question if ('reference file') in input_question else input_question\n",
    "#print(agent_prompt)\n",
    "response = await gaia_agent.run(user_msg=agent_prompt)\n",
    "print(response)"
   ]
  },
  {
   "cell_type": "markdown",
   "metadata": {
    "id": "f_Rapxkn-xyb"
   },
   "source": [
    "##\"task_id\": \"12a682d7-8e8e-4d4c-8102-a97628027441\""
   ]
  },
  {
   "cell_type": "code",
   "execution_count": null,
   "metadata": {
    "colab": {
     "base_uri": "https://localhost:8080/"
    },
    "id": "2TEqCb4m-yBt",
    "outputId": "e63f9508-1423-4bed-d9be-0366a9887230"
   },
   "outputs": [
    {
     "name": "stdout",
     "output_type": "stream",
     "text": [
      "Unfortunately, I do not have the specific information about the number of switches on that route. You may want to check official sources or railway guides for the most accurate details.\n"
     ]
    }
   ],
   "source": [
    "attached_file=''\n",
    "\n",
    "input_question=f\"The Manx Electric Railway operates trams on the Isle of Man. How many switches does a tram traveling from Groudle Glen to South Cape pass through? Disregard any changes to the track made after June 2023.\"\n",
    "agent_prompt = 'Attached file is ' + attached_file + '. ' + input_question if ('attach' or 'Attach' or 'ATTACH') in input_question else 'Take this file as reference file :' + attached_file + '. ' + input_question if ('reference file') in input_question else input_question\n",
    "#print(agent_prompt)\n",
    "response = await gaia_agent.run(user_msg=agent_prompt)\n",
    "print(response)"
   ]
  },
  {
   "cell_type": "markdown",
   "metadata": {
    "id": "Un5pSGgwax8M"
   },
   "source": [
    "## \"task_id\": \"5b89b147-cdab-40e1-be5b-819bc076c270\""
   ]
  },
  {
   "cell_type": "code",
   "execution_count": null,
   "metadata": {
    "colab": {
     "base_uri": "https://localhost:8080/"
    },
    "id": "NMJXUzSCayTl",
    "outputId": "07457cbc-0a15-4df1-8957-d0b82e159161"
   },
   "outputs": [
    {
     "name": "stdout",
     "output_type": "stream",
     "text": [
      "I'm unable to identify the song from the MP3 file directly. You may consider using music identification apps like Shazam or SoundHound to find the song that starts playing around the 2-minute mark.\n"
     ]
    }
   ],
   "source": [
    "attached_file='/content/5b89b147-cdab-40e1-be5b-819bc076c270.mp3'\n",
    "\n",
    "input_question=f\"What is the name of the song that starts playing around the 2-minute mark in this file I attached? I just need the name of the song, not the artist or any additional information.\"\n",
    "agent_prompt = 'Attached file is ' + attached_file + '. ' + input_question if ('attach' or 'Attach' or 'ATTACH') in input_question else 'Take this file as reference file :' + attached_file + '. ' + input_question if ('reference file') in input_question else input_question\n",
    "#print(agent_prompt)\n",
    "response = await gaia_agent.run(user_msg=agent_prompt)\n",
    "print(response)"
   ]
  },
  {
   "cell_type": "markdown",
   "metadata": {
    "id": "1p0KCe5gaJ8t"
   },
   "source": [
    "\"task_id\": \"07f6a90e-ee1d-4d2b-ae1d-3556d66a9e11\", \"Question\":"
   ]
  },
  {
   "cell_type": "code",
   "execution_count": null,
   "metadata": {
    "colab": {
     "base_uri": "https://localhost:8080/"
    },
    "id": "APwM0JDjaKRB",
    "outputId": "4cf5c4ce-ab46-4433-9ed7-7edd3ade5e7a"
   },
   "outputs": [
    {
     "name": "stdout",
     "output_type": "stream",
     "text": [
      "Unfortunately, I do not have access to the specific data regarding the medal counts for archery and total medals won by nations at the 2016 Summer Olympics. You may want to check official Olympic records or sports databases for this information.\n"
     ]
    }
   ],
   "source": [
    "attached_file=''\n",
    "\n",
    "input_question=f\"Of the nations that medalled in archery at the 2016 Summer Olympics, which one has the highest ratio of medals won in archery to total medals won at the 2016 Summer Olympics? Give the designated name used by the nation to participate in the Olympic Games.\"\n",
    "agent_prompt = 'Attached file is ' + attached_file + '. ' + input_question if ('attach' or 'Attach' or 'ATTACH') in input_question else 'Take this file as reference file :' + attached_file + '. ' + input_question if ('reference file') in input_question else input_question\n",
    "#print(agent_prompt)\n",
    "response = await gaia_agent.run(user_msg=agent_prompt)\n",
    "print(response)"
   ]
  },
  {
   "cell_type": "markdown",
   "metadata": {
    "id": "Vjf77IqgY2P2"
   },
   "source": [
    "##\"task_id\": \"6f7d28c6-6a8c-44b2-8ea9-0988c1096a2a\""
   ]
  },
  {
   "cell_type": "code",
   "execution_count": null,
   "metadata": {
    "colab": {
     "base_uri": "https://localhost:8080/"
    },
    "id": "D86S7mehY22M",
    "outputId": "bae3bbbb-6bc7-471e-c165-6cdd124f3684"
   },
   "outputs": [
    {
     "name": "stdout",
     "output_type": "stream",
     "text": [
      "I cannot provide the answer regarding the primary color evoked by the imagery in the beginning of the tenth stanza of Sonia Sanchez's poem \"father's voice.\"\n"
     ]
    }
   ],
   "source": [
    "attached_file=''\n",
    "\n",
    "input_question=f\"In Sonia Sanchez's poem father's voice, what primary colour is evoked by the imagery in the beginning of the tenth stanza? Answer with a capitalized word.\"\n",
    "agent_prompt = 'Attached file is ' + attached_file + '. ' + input_question if ('attach' or 'Attach' or 'ATTACH') in input_question else 'Take this file as reference file :' + attached_file + '. ' + input_question if ('reference file') in input_question else input_question\n",
    "#print(agent_prompt)\n",
    "response = await gaia_agent.run(user_msg=agent_prompt)\n",
    "print(response)"
   ]
  },
  {
   "cell_type": "markdown",
   "metadata": {
    "id": "kuQnEKcWLdNA"
   },
   "source": [
    "##Question 262 \"task_id\": \"d366cc70-86f1-4dca-bf12-440479c825fe\""
   ]
  },
  {
   "cell_type": "code",
   "execution_count": null,
   "metadata": {
    "colab": {
     "base_uri": "https://localhost:8080/"
    },
    "id": "i1_QPDH_KBmd",
    "outputId": "3439fcdb-8b56-4a4b-e0e1-f8fb3b4cc18f"
   },
   "outputs": [
    {
     "name": "stdout",
     "output_type": "stream",
     "text": [
      "Please provide the details of the card game rounds, including the cards drawn by Player 1 and Player 2 for each round.\n"
     ]
    }
   ],
   "source": [
    "attached_file=''\n",
    "\n",
    "input_question=f\"Two people play a card game where they each draw a card and the high card wins. Player 1 always drew red suits, and player 2 always drew black suits. Each round adds 1 point to the winner's score plus a bonus point for a face card or two bonus points for an ace. The highest score at the end of 15 rounds wins. Based on the presentation of the card game rounds, what is the absolute score difference between Player 1 and Player 2?\"\n",
    "agent_prompt = 'Attached file is ' + attached_file + '. ' + input_question if ('attach' or 'Attach' or 'ATTACH') in input_question else 'Take this file as reference file :' + attached_file + '. ' + input_question if ('reference file') in input_question else input_question\n",
    "#print(agent_prompt)\n",
    "response = await gaia_agent.run(user_msg=agent_prompt)\n",
    "print(response)\n"
   ]
  },
  {
   "cell_type": "markdown",
   "metadata": {
    "id": "NzHrjH1bQBgp"
   },
   "source": [
    "\"task_id\": \"5b5e7996-4de6-46c4-8be2-0943417886e5\""
   ]
  },
  {
   "cell_type": "code",
   "execution_count": null,
   "metadata": {
    "colab": {
     "base_uri": "https://localhost:8080/"
    },
    "id": "k_6Ba8JtQBzD",
    "outputId": "29d48308-b44c-422a-8686-6517b9cec0c4"
   },
   "outputs": [
    {
     "name": "stdout",
     "output_type": "stream",
     "text": [
      "I'm sorry, but I cannot provide the specific location of koi fish found in the watershed with the id 02040203 for the year 2020.\n"
     ]
    }
   ],
   "source": [
    "attached_file=''\n",
    "\n",
    "input_question=f\"In the year 2020, where were koi fish found in the watershed with the id 02040203? Give only the name of the pond, lake, or stream where the fish were found, and not the name of the city or county.\"\n",
    "agent_prompt = 'Attached file is ' + attached_file + '. ' + input_question if ('attach' or 'Attach' or 'ATTACH') in input_question else 'Take this file as reference file :' + attached_file + '. ' + input_question if ('reference file') in input_question else input_question\n",
    "#print(agent_prompt)\n",
    "response = await gaia_agent.run(user_msg=agent_prompt)\n",
    "print(response)"
   ]
  },
  {
   "cell_type": "code",
   "execution_count": null,
   "metadata": {
    "colab": {
     "base_uri": "https://localhost:8080/"
    },
    "id": "2biqRoQK5LOP",
    "outputId": "988a4d8a-3120-438b-dd40-09e179ff97d9"
   },
   "outputs": [
    {
     "name": "stdout",
     "output_type": "stream",
     "text": [
      "I cannot find a specific combination of a Beatle's first name and a type of beer that corresponds to a Nobel Prize winner.\n"
     ]
    }
   ],
   "source": [
    "'''attached_file=''\n",
    "\n",
    "input_question=f\"If I combine a Beatle's first name and a type of beer, in what category and year of Nobel Prize do I have a winner? Answer using the format CATEGORY, YEAR.\"\n",
    "agent_prompt = 'Attached file is ' + attached_file + '. ' + input_question if ('attach' or 'Attach' or 'ATTACH') in input_question else input_question\n",
    "#print(agent_prompt)\n",
    "response = await gaia_agent.run(user_msg=agent_prompt)\n",
    "print(response)'''"
   ]
  },
  {
   "cell_type": "markdown",
   "metadata": {
    "id": "BdoN7J5eG0fK"
   },
   "source": [
    "##GAIA Test Set. Question 23: \"task_id\": \"ca0a4c14-4b97-43e7-8923-539d61050ae3\""
   ]
  },
  {
   "cell_type": "code",
   "execution_count": null,
   "metadata": {
    "colab": {
     "base_uri": "https://localhost:8080/"
    },
    "id": "T2jDQXnNfdT8",
    "outputId": "a01ea9d1-3113-4f51-a8b5-c7b960d0c3bd"
   },
   "outputs": [
    {
     "name": "stdout",
     "output_type": "stream",
     "text": [
      "I cannot answer the question as the specific series with a main character made out of beads is not mentioned in the provided document.\n"
     ]
    }
   ],
   "source": [
    "attached_file='/content/ca0a4c14-4b97-43e7-8923-539d61050ae3.pdf'\n",
    "\n",
    "input_question=f\"The attached file shows books in the collection of the Scribe County Public Library. One of the series in this collection stars a main character made out of beads. What percentage of the books the library has of that series are currently overdue?\"\n",
    "agent_prompt = 'Attached file is ' + attached_file + '. ' + input_question if ('attach' or 'Attach' or 'ATTACH') in input_question else input_question\n",
    "#print(agent_prompt)\n",
    "response = await gaia_agent.run(user_msg=agent_prompt)\n",
    "print(response)"
   ]
  },
  {
   "cell_type": "markdown",
   "metadata": {
    "id": "nNseB108FEsL"
   },
   "source": [
    "##\"task_id\": \"b4395888-4e6d-4d02-b7ee-11dbccdb802d\""
   ]
  },
  {
   "cell_type": "code",
   "execution_count": null,
   "metadata": {
    "colab": {
     "base_uri": "https://localhost:8080/"
    },
    "id": "B-8cPG9kFE9M",
    "outputId": "603b9992-b3a8-4c0d-de4b-65776a696a1e"
   },
   "outputs": [
    {
     "name": "stdout",
     "output_type": "stream",
     "text": [
      "I couldn't find the specific information regarding the 4 unique characters that differentiated the architecture names of the image segmentation technique used in the PDDCNN model. You may want to refer to the original research paper or documentation related to PDDCNN for detailed insights.\n"
     ]
    }
   ],
   "source": [
    "attached_file=''\n",
    "\n",
    "input_question=f\"What were the 4 unique characters that differentiated the architecture names of the image segmentation technique used to develop the novel deep learning model PDDCNN as an alphabetized, comma-separated list?\"\n",
    "agent_prompt = 'Attached file is ' + attached_file + '. ' + input_question if ('attach' or 'Attach' or 'ATTACH') in input_question else 'Take this file as reference file :' + attached_file + '. ' + input_question if ('reference file') in input_question else input_question\n",
    "#print(agent_prompt)\n",
    "response = await gaia_agent.run(user_msg=agent_prompt)\n",
    "print(response)"
   ]
  },
  {
   "cell_type": "markdown",
   "metadata": {
    "id": "MstiLmtuHeus"
   },
   "source": [
    "## GAIA Test Set. Question 278 \"task_id\": \"021a5339-744f-42b7-bd9b-9368b3efda7a\""
   ]
  },
  {
   "cell_type": "code",
   "execution_count": null,
   "metadata": {
    "colab": {
     "base_uri": "https://localhost:8080/"
    },
    "id": "xz37VR-EHe9x",
    "outputId": "d39e97cc-a2e0-46cc-db18-cb4fe1ee2cff"
   },
   "outputs": [
    {
     "name": "stdout",
     "output_type": "stream",
     "text": [
      "I cannot answer the question with the provided tools.\n"
     ]
    }
   ],
   "source": [
    "attached_file='/content/021a5339-744f-42b7-bd9b-9368b3efda7a.pdf'\n",
    "\n",
    "input_question=f\"The attached file shows a list of books in the collection of Scribe County Public Library. How many of the scenes that are in I Spy books in this library's collection are also in I Spy Ultimate Challenger?\"\n",
    "agent_prompt = 'Attached file is ' + attached_file + '. ' + input_question if ('attach' or 'Attach' or 'ATTACH') in input_question else 'Take this file as reference file :' + attached_file + '. ' + input_question if ('reference file') in input_question else input_question\n",
    "#print(agent_prompt)\n",
    "response = await gaia_agent.run(user_msg=agent_prompt)\n",
    "print(response)"
   ]
  },
  {
   "cell_type": "markdown",
   "metadata": {
    "id": "1csgKbrbEwR-"
   },
   "source": [
    "##GAIA Test Set. Question 92: \"task_id\": \"d6059b3e-e1da-43b4-ac26-ecad2984909b\""
   ]
  },
  {
   "cell_type": "code",
   "execution_count": null,
   "metadata": {
    "colab": {
     "base_uri": "https://localhost:8080/"
    },
    "id": "XJW5RqAhBo6J",
    "outputId": "24e9446d-f58c-4a1b-ab47-0206212f8a73"
   },
   "outputs": [
    {
     "name": "stdout",
     "output_type": "stream",
     "text": [
      "Thought: I have successfully converted the CSV file to text and can now analyze the data to find the brick that appears most frequently across all LEGO sets on Brickset, specifically for those that appear in 5 sets total. I will look for the \"SetCount\" column to filter the bricks that appear in exactly 5 sets and then determine which one has the highest count in the inventory.\n",
      " \n",
      "I will extract the relevant data and perform the analysis. \n",
      "\n",
      "1. Filter the rows where \"SetCount\" is equal to 5.\n",
      "2. Identify the brick with the highest \"Quantity\" from those filtered rows.\n",
      "\n",
      "Let's proceed with this analysis. \n",
      "\n",
      "Action: {}\n",
      "\n"
     ]
    }
   ],
   "source": [
    "attached_file='/content/d6059b3e-e1da-43b4-ac26-ecad2984909b.csv'\n",
    "\n",
    "input_question=f\"Of the bricks in the attached set inventory that appear in 5 sets total, what is the name of the one that appears most by count in all LEGO sets on Brickset?\"\n",
    "agent_prompt = 'Attached file is ' + attached_file + '. ' + input_question if ('attach' or 'Attach' or 'ATTACH') in input_question else input_question\n",
    "#print(agent_prompt)\n",
    "response = await gaia_agent.run(user_msg=agent_prompt)\n",
    "print(response)"
   ]
  },
  {
   "cell_type": "code",
   "execution_count": null,
   "metadata": {
    "colab": {
     "base_uri": "https://localhost:8080/"
    },
    "id": "4rkycz308qbA",
    "outputId": "dc4b9dba-4498-4fab-c3eb-615a59522ef1"
   },
   "outputs": [
    {
     "name": "stdout",
     "output_type": "stream",
     "text": [
      "A word meaning dramatic or theatrical forms a species of duck when appended with two letters and then duplicated. What is that word?\n",
      "The word you are looking for is \"play.\" When you append the letters \"w\" and \"e\" to \"play,\" it becomes \"playwe,\" which is not a valid word. However, if you consider \"play\" and duplicate it, you get \"playplay,\" which doesn't relate to a duck species. \n",
      "\n",
      "Instead, if we take \"drama\" (which means dramatic or theatrical) and append \"tic\" to it, we get \"dramatic.\" If we then duplicate it, we get \"dramaticdramatic,\" which still doesn't relate to a duck species.\n",
      "\n",
      "The correct approach is to consider \"drama\" and \"tic\" to form \"drama\" + \"tic\" = \"dramatic.\" However, this doesn't lead to a duck species.\n",
      "\n",
      "The answer is \"drake,\" which is a male duck. \n",
      "\n",
      "So, the word is \"drama.\" \n",
      "\n",
      "FINAL ANSWER: drama\n"
     ]
    }
   ],
   "source": [
    "attached_file=''\n",
    "\n",
    "input_question=f\"A word meaning dramatic or theatrical forms a species of duck when appended with two letters and then duplicated. What is that word?\"\n",
    "agent_prompt = 'Attached file is ' + attached_file + '. ' + input_question if ('attach' or 'Attach' or 'ATTACH') in input_question else input_question\n",
    "#print(agent_prompt)\n",
    "response = await gaia_agent.run(user_msg=agent_prompt)\n",
    "print(response)"
   ]
  },
  {
   "cell_type": "code",
   "execution_count": 168,
   "metadata": {
    "colab": {
     "base_uri": "https://localhost:8080/"
    },
    "id": "_itX3GsB9Tt2",
    "outputId": "7ce494ee-242f-480f-9ffb-20531be69f9c"
   },
   "outputs": [
    {
     "name": "stdout",
     "output_type": "stream",
     "text": [
      "I don't have the information about the country with the least number of athletes at the 1928 Summer Olympics.\n"
     ]
    }
   ],
   "source": [
    "input_question=\"\"\"What country had the least number of athletes at the 1928 Summer Olympics? If there's a tie for a number of athletes, return the first in alphabetical order. Give the IOC country code as your answer.\"\"\"\n",
    "\n",
    "# Run the system\n",
    "response = await gaia_agent.run(user_msg=input_question)\n",
    "print(response)"
   ]
  },
  {
   "cell_type": "code",
   "execution_count": null,
   "metadata": {
    "colab": {
     "base_uri": "https://localhost:8080/",
     "height": 406
    },
    "id": "E5eKVsydFIw8",
    "outputId": "7c3b23fc-d941-4fb0-9a0b-21a38b7d3e92"
   },
   "outputs": [
    {
     "data": {
      "image/png": "[encoded data removed]",
      "text/plain": [
       "<Figure size 640x480 with 1 Axes>"
      ]
     },
     "metadata": {},
     "output_type": "display_data"
    }
   ],
   "source": [
    "img=cv2.imread('/content/7707f3dd-1aa6-42f5-847a-b66f3eaf2ee4.png')\n",
    "img_rgb=cv2.cvtColor(img,cv2.COLOR_BGR2RGB)\n",
    "plt.imshow(img_rgb)\n",
    "plt.axis('off')\n",
    "plt.show()"
   ]
  },
  {
   "cell_type": "code",
   "execution_count": null,
   "metadata": {
    "colab": {
     "base_uri": "https://localhost:8080/",
     "height": 406
    },
    "id": "2w1HqLfbqlys",
    "outputId": "a41106de-4648-4144-d4df-5efbcfa74b17"
   },
   "outputs": [
    {
     "data": {
      "image/png": "[encoded data removed]",
      "text/plain": [
       "<Figure size 640x480 with 1 Axes>"
      ]
     },
     "metadata": {},
     "output_type": "display_data"
    }
   ],
   "source": [
    "plt.imshow(img_gray)\n",
    "plt.axis('off')\n",
    "plt.show()"
   ]
  },
  {
   "cell_type": "code",
   "execution_count": null,
   "metadata": {
    "colab": {
     "base_uri": "https://localhost:8080/",
     "height": 280
    },
    "id": "tOx66G20fmK9",
    "outputId": "4ae80ba0-f36d-4b3a-e8a8-78fb848a9413"
   },
   "outputs": [
    {
     "ename": "error",
     "evalue": "OpenCV(4.11.0) /io/opencv/modules/imgproc/src/contours_new.cpp:327: error: (-2:Unspecified error) in function 'static std::shared_ptr<ContourScanner_> ContourScanner_::create(cv::Mat, int, int, cv::Point)'\n> Modes other than RETR_FLOODFILL and RETR_CCOMP support only CV_8UC1 images (expected: 'img.type() == CV_8UC1'), where\n>     'img.type()' is 16 (CV_8UC3)\n> must be equal to\n>     'CV_8UC1' is 0 (CV_8UC1)\n",
     "output_type": "error",
     "traceback": [
      "\u001b[0;31m---------------------------------------------------------------------------\u001b[0m",
      "\u001b[0;31merror\u001b[0m                                     Traceback (most recent call last)",
      "\u001b[0;32m/tmp/ipython-input-53-1787788786.py\u001b[0m in \u001b[0;36m<cell line: 0>\u001b[0;34m()\u001b[0m\n\u001b[1;32m      1\u001b[0m \u001b[0mimg_gray\u001b[0m\u001b[0;34m=\u001b[0m\u001b[0mcv2\u001b[0m\u001b[0;34m.\u001b[0m\u001b[0mcvtColor\u001b[0m\u001b[0;34m(\u001b[0m\u001b[0mimg\u001b[0m\u001b[0;34m,\u001b[0m\u001b[0mcv2\u001b[0m\u001b[0;34m.\u001b[0m\u001b[0mCOLOR_BGR2GRAY\u001b[0m\u001b[0;34m)\u001b[0m\u001b[0;34m\u001b[0m\u001b[0;34m\u001b[0m\u001b[0m\n\u001b[1;32m      2\u001b[0m \u001b[0m_\u001b[0m\u001b[0;34m,\u001b[0m \u001b[0mthreshold\u001b[0m \u001b[0;34m=\u001b[0m \u001b[0mcv2\u001b[0m\u001b[0;34m.\u001b[0m\u001b[0mthreshold\u001b[0m\u001b[0;34m(\u001b[0m\u001b[0mimg\u001b[0m\u001b[0;34m,\u001b[0m \u001b[0;36m127\u001b[0m\u001b[0;34m,\u001b[0m \u001b[0;36m255\u001b[0m\u001b[0;34m,\u001b[0m \u001b[0mcv2\u001b[0m\u001b[0;34m.\u001b[0m\u001b[0mTHRESH_BINARY\u001b[0m\u001b[0;34m)\u001b[0m\u001b[0;34m\u001b[0m\u001b[0;34m\u001b[0m\u001b[0m\n\u001b[0;32m----> 3\u001b[0;31m contours, _ = cv2.findContours(\n\u001b[0m\u001b[1;32m      4\u001b[0m     threshold, cv2.RETR_TREE, cv2.CHAIN_APPROX_SIMPLE)\n",
      "\u001b[0;31merror\u001b[0m: OpenCV(4.11.0) /io/opencv/modules/imgproc/src/contours_new.cpp:327: error: (-2:Unspecified error) in function 'static std::shared_ptr<ContourScanner_> ContourScanner_::create(cv::Mat, int, int, cv::Point)'\n> Modes other than RETR_FLOODFILL and RETR_CCOMP support only CV_8UC1 images (expected: 'img.type() == CV_8UC1'), where\n>     'img.type()' is 16 (CV_8UC3)\n> must be equal to\n>     'CV_8UC1' is 0 (CV_8UC1)\n"
     ]
    }
   ],
   "source": [
    "img_gray=cv2.cvtColor(img,cv2.COLOR_BGR2GRAY)\n",
    "_, threshold = cv2.threshold(img_gray, 127, 255, cv2.THRESH_BINARY)\n",
    "contours, _ = cv2.findContours(\n",
    "    threshold, cv2.RETR_TREE, cv2.CHAIN_APPROX_SIMPLE)"
   ]
  },
  {
   "cell_type": "code",
   "execution_count": null,
   "metadata": {
    "colab": {
     "base_uri": "https://localhost:8080/"
    },
    "id": "-nl9cRkJrPuV",
    "outputId": "55e43e3a-1b80-4070-a7d2-77376c88d38d"
   },
   "outputs": [
    {
     "name": "stdout",
     "output_type": "stream",
     "text": [
      "576\n"
     ]
    }
   ],
   "source": [
    "print(len(contours))"
   ]
  },
  {
   "cell_type": "code",
   "execution_count": null,
   "metadata": {
    "colab": {
     "base_uri": "https://localhost:8080/"
    },
    "id": "W0lS9zjzfyBl",
    "outputId": "519193e5-6fdd-473e-e3b2-e58e5a405f42"
   },
   "outputs": [
    {
     "name": "stdout",
     "output_type": "stream",
     "text": [
      "1 Quadrilateral\n",
      "2 Circle\n",
      "3 Quadrilateral\n",
      "4 Quadrilateral\n",
      "5 Circle\n",
      "6 Quadrilateral\n",
      "7 Circle\n",
      "8 Circle\n",
      "9 Circle\n",
      "10 Circle\n",
      "11 Circle\n",
      "12 Circle\n",
      "13 Circle\n",
      "14 Hexagon\n",
      "15 Circle\n",
      "16 Circle\n",
      "17 Circle\n",
      "18 Circle\n",
      "19 Circle\n",
      "20 Circle\n",
      "21 Circle\n",
      "22 Circle\n",
      "23 Circle\n",
      "24 Circle\n",
      "25 Circle\n",
      "26 Circle\n",
      "27 Circle\n",
      "28 Circle\n",
      "29 Circle\n",
      "30 Circle\n",
      "31 Circle\n",
      "32 Circle\n",
      "33 Circle\n",
      "34 Circle\n",
      "35 Circle\n",
      "36 Circle\n",
      "37 Circle\n",
      "38 Circle\n",
      "39 Circle\n",
      "40 Circle\n",
      "41 Circle\n",
      "42 Circle\n",
      "43 Circle\n",
      "44 Circle\n",
      "45 Circle\n",
      "46 Circle\n",
      "47 Circle\n",
      "48 Circle\n",
      "49 Circle\n",
      "50 Circle\n",
      "51 Circle\n",
      "52 Circle\n",
      "53 Circle\n",
      "54 Circle\n",
      "55 Circle\n",
      "56 Circle\n",
      "57 Circle\n",
      "58 Circle\n",
      "59 Circle\n",
      "60 Circle\n",
      "61 Circle\n",
      "62 Circle\n",
      "63 Circle\n",
      "64 Circle\n",
      "65 Circle\n",
      "66 Circle\n",
      "67 Circle\n",
      "68 Circle\n",
      "69 Circle\n",
      "70 Circle\n",
      "71 Circle\n",
      "72 Circle\n",
      "73 Circle\n",
      "74 Circle\n",
      "75 Circle\n",
      "76 Circle\n",
      "77 Circle\n",
      "78 Circle\n",
      "79 Circle\n",
      "80 Circle\n",
      "81 Pentagon\n",
      "82 Circle\n",
      "83 Circle\n",
      "84 Circle\n",
      "85 Pentagon\n",
      "86 Circle\n",
      "87 Circle\n",
      "88 Circle\n",
      "89 Circle\n",
      "90 Circle\n",
      "91 Pentagon\n",
      "92 Circle\n",
      "93 Circle\n",
      "94 Hexagon\n",
      "95 Circle\n",
      "96 Circle\n",
      "97 Circle\n",
      "98 Circle\n",
      "99 Circle\n",
      "100 Circle\n",
      "101 Circle\n",
      "102 Circle\n",
      "103 Hexagon\n",
      "104 Circle\n",
      "105 Circle\n",
      "106 Circle\n",
      "107 Circle\n",
      "108 Circle\n",
      "109 Circle\n",
      "110 Circle\n",
      "111 Circle\n",
      "112 Circle\n",
      "113 Circle\n",
      "114 Circle\n",
      "115 Circle\n",
      "116 Circle\n",
      "117 Circle\n",
      "118 Circle\n",
      "119 Circle\n",
      "120 Circle\n",
      "121 Circle\n",
      "122 Circle\n",
      "123 Circle\n",
      "124 Circle\n",
      "125 Circle\n",
      "126 Circle\n",
      "127 Circle\n",
      "128 Circle\n",
      "129 Circle\n",
      "130 Circle\n",
      "131 Circle\n",
      "132 Circle\n",
      "133 Hexagon\n",
      "134 Circle\n",
      "135 Circle\n",
      "136 Circle\n",
      "137 Circle\n",
      "138 Circle\n",
      "139 Circle\n",
      "140 Circle\n",
      "141 Circle\n",
      "142 Circle\n",
      "143 Circle\n",
      "144 Circle\n",
      "145 Circle\n",
      "146 Circle\n",
      "147 Circle\n",
      "148 Circle\n",
      "149 Circle\n",
      "150 Circle\n",
      "151 Circle\n",
      "152 Circle\n",
      "153 Circle\n",
      "154 Circle\n",
      "155 Circle\n",
      "156 Circle\n",
      "157 Circle\n",
      "158 Circle\n",
      "159 Circle\n",
      "160 Circle\n",
      "161 Circle\n",
      "162 Circle\n",
      "163 Circle\n",
      "164 Circle\n",
      "165 Hexagon\n",
      "166 Circle\n",
      "167 Circle\n",
      "168 Circle\n",
      "169 Circle\n",
      "170 Circle\n",
      "171 Circle\n",
      "172 Circle\n",
      "173 Circle\n",
      "174 Circle\n",
      "175 Circle\n",
      "176 Circle\n",
      "177 Circle\n",
      "178 Circle\n",
      "179 Circle\n",
      "180 Circle\n",
      "181 Circle\n",
      "182 Circle\n",
      "183 Circle\n",
      "184 Hexagon\n",
      "185 Circle\n",
      "186 Circle\n",
      "187 Circle\n",
      "188 Circle\n",
      "189 Circle\n",
      "190 Circle\n",
      "191 Circle\n",
      "192 Circle\n",
      "193 Circle\n",
      "194 Circle\n",
      "195 Circle\n",
      "196 Circle\n",
      "197 Circle\n",
      "198 Circle\n",
      "199 Circle\n",
      "200 Circle\n",
      "201 Circle\n",
      "202 Circle\n",
      "203 Circle\n",
      "204 Circle\n",
      "205 Circle\n",
      "206 Circle\n",
      "207 Circle\n",
      "208 Circle\n",
      "209 Circle\n",
      "210 Circle\n",
      "211 Circle\n",
      "212 Circle\n",
      "213 Circle\n",
      "214 Hexagon\n",
      "215 Circle\n",
      "216 Circle\n",
      "217 Circle\n",
      "218 Circle\n",
      "219 Circle\n",
      "220 Circle\n",
      "221 Circle\n",
      "222 Circle\n",
      "223 Circle\n",
      "224 Circle\n",
      "225 Circle\n",
      "226 Circle\n",
      "227 Circle\n",
      "228 Circle\n",
      "229 Circle\n",
      "230 Circle\n",
      "231 Circle\n",
      "232 Circle\n",
      "233 Circle\n",
      "234 Circle\n",
      "235 Circle\n",
      "236 Circle\n",
      "237 Circle\n",
      "238 Circle\n",
      "239 Circle\n",
      "240 Hexagon\n",
      "241 Circle\n",
      "242 Circle\n",
      "243 Circle\n",
      "244 Circle\n",
      "245 Circle\n",
      "246 Circle\n",
      "247 Circle\n",
      "248 Circle\n",
      "249 Circle\n",
      "250 Circle\n",
      "251 Circle\n",
      "252 Circle\n",
      "253 Circle\n",
      "254 Circle\n",
      "255 Circle\n",
      "256 Circle\n",
      "257 Circle\n",
      "258 Circle\n",
      "259 Circle\n",
      "260 Circle\n",
      "261 Circle\n",
      "262 Circle\n",
      "263 Circle\n",
      "264 Circle\n",
      "265 Circle\n",
      "266 Pentagon\n",
      "267 Pentagon\n",
      "268 Circle\n",
      "269 Circle\n",
      "270 Circle\n",
      "271 Circle\n",
      "272 Circle\n",
      "273 Circle\n",
      "274 Circle\n",
      "275 Circle\n",
      "276 Circle\n",
      "277 Circle\n",
      "278 Circle\n",
      "279 Circle\n",
      "280 Circle\n",
      "281 Circle\n",
      "282 Circle\n",
      "283 Circle\n",
      "284 Circle\n",
      "285 Circle\n",
      "286 Circle\n",
      "287 Hexagon\n",
      "288 Circle\n",
      "289 Circle\n",
      "290 Circle\n",
      "291 Circle\n",
      "292 Circle\n",
      "293 Hexagon\n",
      "294 Circle\n",
      "295 Circle\n",
      "296 Circle\n",
      "297 Circle\n",
      "298 Hexagon\n",
      "299 Hexagon\n",
      "300 Circle\n",
      "301 Circle\n",
      "302 Circle\n",
      "303 Circle\n",
      "304 Circle\n",
      "305 Circle\n",
      "306 Circle\n",
      "307 Circle\n",
      "308 Circle\n",
      "309 Circle\n",
      "310 Circle\n",
      "311 Circle\n",
      "312 Circle\n",
      "313 Circle\n",
      "314 Circle\n",
      "315 Circle\n",
      "316 Circle\n",
      "317 Circle\n",
      "318 Circle\n",
      "319 Circle\n",
      "320 Circle\n",
      "321 Circle\n",
      "322 Circle\n",
      "323 Circle\n",
      "324 Circle\n",
      "325 Circle\n",
      "326 Circle\n",
      "327 Pentagon\n",
      "328 Pentagon\n",
      "329 Pentagon\n",
      "330 Pentagon\n",
      "331 Circle\n",
      "332 Circle\n",
      "333 Circle\n",
      "334 Circle\n",
      "335 Circle\n",
      "336 Circle\n",
      "337 Circle\n",
      "338 Hexagon\n",
      "339 Circle\n",
      "340 Circle\n",
      "341 Circle\n",
      "342 Circle\n",
      "343 Circle\n",
      "344 Circle\n",
      "345 Circle\n",
      "346 Circle\n",
      "347 Circle\n",
      "348 Circle\n",
      "349 Circle\n",
      "350 Circle\n",
      "351 Circle\n",
      "352 Circle\n",
      "353 Circle\n",
      "354 Circle\n",
      "355 Circle\n",
      "356 Circle\n",
      "357 Circle\n",
      "358 Circle\n",
      "359 Circle\n",
      "360 Circle\n",
      "361 Circle\n",
      "362 Circle\n",
      "363 Hexagon\n",
      "364 Circle\n",
      "365 Circle\n",
      "366 Circle\n",
      "367 Circle\n",
      "368 Circle\n",
      "369 Hexagon\n",
      "370 Circle\n",
      "371 Circle\n",
      "372 Circle\n",
      "373 Circle\n",
      "374 Circle\n",
      "375 Circle\n",
      "376 Circle\n",
      "377 Circle\n",
      "378 Circle\n",
      "379 Circle\n",
      "380 Circle\n",
      "381 Circle\n",
      "382 Circle\n",
      "383 Circle\n",
      "384 Hexagon\n",
      "385 Circle\n",
      "386 Circle\n",
      "387 Circle\n",
      "388 Circle\n",
      "389 Circle\n",
      "390 Circle\n",
      "391 Circle\n",
      "392 Circle\n",
      "393 Circle\n",
      "394 Circle\n",
      "395 Pentagon\n",
      "396 Circle\n",
      "397 Circle\n",
      "398 Pentagon\n",
      "399 Circle\n",
      "400 Circle\n",
      "401 Pentagon\n",
      "402 Circle\n",
      "403 Circle\n",
      "404 Circle\n",
      "405 Circle\n",
      "406 Circle\n",
      "407 Circle\n",
      "408 Circle\n",
      "409 Circle\n",
      "410 Circle\n",
      "411 Circle\n",
      "412 Circle\n",
      "413 Circle\n",
      "414 Circle\n",
      "415 Circle\n",
      "416 Circle\n",
      "417 Circle\n",
      "418 Circle\n",
      "419 Circle\n",
      "420 Circle\n",
      "421 Circle\n",
      "422 Circle\n",
      "423 Circle\n",
      "424 Circle\n",
      "425 Circle\n",
      "426 Circle\n",
      "427 Circle\n",
      "428 Circle\n",
      "429 Circle\n",
      "430 Circle\n",
      "431 Circle\n",
      "432 Circle\n",
      "433 Circle\n",
      "434 Circle\n",
      "435 Circle\n",
      "436 Circle\n",
      "437 Circle\n",
      "438 Circle\n",
      "439 Circle\n",
      "440 Circle\n",
      "441 Circle\n",
      "442 Circle\n",
      "443 Circle\n",
      "444 Circle\n",
      "445 Hexagon\n",
      "446 Circle\n",
      "447 Circle\n",
      "448 Circle\n",
      "449 Circle\n",
      "450 Circle\n",
      "451 Circle\n",
      "452 Circle\n",
      "453 Circle\n",
      "454 Circle\n",
      "455 Pentagon\n",
      "456 Circle\n",
      "457 Circle\n",
      "458 Circle\n",
      "459 Circle\n",
      "460 Circle\n",
      "461 Circle\n",
      "462 Circle\n",
      "463 Circle\n",
      "464 Circle\n",
      "465 Circle\n",
      "466 Circle\n",
      "467 Circle\n",
      "468 Circle\n",
      "469 Circle\n",
      "470 Circle\n",
      "471 Circle\n",
      "472 Circle\n",
      "473 Hexagon\n",
      "474 Circle\n",
      "475 Hexagon\n",
      "476 Circle\n",
      "477 Circle\n",
      "478 Circle\n",
      "479 Circle\n",
      "480 Circle\n",
      "481 Circle\n",
      "482 Circle\n",
      "483 Circle\n",
      "484 Circle\n",
      "485 Circle\n",
      "486 Circle\n",
      "487 Circle\n",
      "488 Circle\n",
      "489 Circle\n",
      "490 Circle\n",
      "491 Circle\n",
      "492 Circle\n",
      "493 Circle\n",
      "494 Circle\n",
      "495 Circle\n",
      "496 Hexagon\n",
      "497 Circle\n",
      "498 Circle\n",
      "499 Circle\n",
      "500 Circle\n",
      "501 Circle\n",
      "502 Circle\n",
      "503 Circle\n",
      "504 Circle\n",
      "505 Circle\n",
      "506 Circle\n",
      "507 Circle\n",
      "508 Circle\n",
      "509 Circle\n",
      "510 Circle\n",
      "511 Circle\n",
      "512 Circle\n",
      "513 Circle\n",
      "514 Circle\n",
      "515 Circle\n",
      "516 Circle\n",
      "517 Circle\n",
      "518 Circle\n",
      "519 Circle\n",
      "520 Pentagon\n",
      "521 Circle\n",
      "522 Circle\n",
      "523 Circle\n",
      "524 Circle\n",
      "525 Circle\n",
      "526 Circle\n",
      "527 Circle\n",
      "528 Circle\n",
      "529 Circle\n",
      "530 Circle\n",
      "531 Hexagon\n",
      "532 Circle\n",
      "533 Circle\n",
      "534 Circle\n",
      "535 Circle\n",
      "536 Circle\n",
      "537 Circle\n",
      "538 Circle\n",
      "539 Circle\n",
      "540 Circle\n",
      "541 Hexagon\n",
      "542 Circle\n",
      "543 Circle\n",
      "544 Circle\n",
      "545 Circle\n",
      "546 Circle\n",
      "547 Circle\n",
      "548 Circle\n",
      "549 Circle\n",
      "550 Circle\n",
      "551 Circle\n",
      "552 Circle\n",
      "553 Circle\n",
      "554 Circle\n",
      "555 Circle\n",
      "556 Circle\n",
      "557 Hexagon\n",
      "558 Circle\n",
      "559 Circle\n",
      "560 Circle\n",
      "561 Circle\n",
      "562 Circle\n",
      "563 Circle\n",
      "564 Circle\n",
      "565 Circle\n",
      "566 Circle\n",
      "567 Circle\n",
      "568 Circle\n",
      "569 Circle\n",
      "570 Circle\n",
      "571 Circle\n",
      "572 Circle\n",
      "573 Circle\n",
      "574 Circle\n",
      "575 Pentagon\n",
      "576 Pentagon\n"
     ]
    }
   ],
   "source": [
    "i = 0\n",
    "#print(len(contours))\n",
    "for contour in contours:\n",
    "    # here we are ignoring first counter because\n",
    "    # findcontour function detects whole image as shape\n",
    "    i=i+1\n",
    "    if i > 0:\n",
    "\n",
    "        #print('here1',i)\n",
    "        #i=i+1\n",
    "        # cv2.approxPloyDP() function to approximate the shape\n",
    "        approx = cv2.approxPolyDP(contour, 0.01 * cv2.arcLength(contour, True), True)\n",
    "        #print(approx)\n",
    "        # Identifying shape\n",
    "        if len(approx) == 3:\n",
    "          print(i, 'Triangle')\n",
    "        elif len(approx) == 4:\n",
    "          print(i, 'Quadrilateral')\n",
    "        elif len(approx) == 5:\n",
    "          print(i, 'Pentagon')\n",
    "        elif len(approx) == 6:\n",
    "          print(i, 'Hexagon')\n",
    "        else:\n",
    "          print(i, 'Circle')"
   ]
  },
  {
   "cell_type": "code",
   "execution_count": 14,
   "metadata": {
    "colab": {
     "base_uri": "https://localhost:8080/"
    },
    "id": "aAIbrS0L11F_",
    "outputId": "de0771c2-c30c-4ab9-a379-8c15a26bd636"
   },
   "outputs": [
    {
     "name": "stdout",
     "output_type": "stream",
     "text": [
      "  Preparing metadata (setup.py) ... \u001b[?25l\u001b[?25hdone\n",
      "  Building wheel for wikipedia (setup.py) ... \u001b[?25l\u001b[?25hdone\n"
     ]
    }
   ],
   "source": [
    "!pip install -q wikipedia"
   ]
  },
  {
   "cell_type": "code",
   "execution_count": 15,
   "metadata": {
    "id": "mWUvOEOBl8fs"
   },
   "outputs": [],
   "source": [
    "from llama_index.readers.wikipedia import WikipediaReader\n",
    "import wikipedia"
   ]
  },
  {
   "cell_type": "code",
   "execution_count": 29,
   "metadata": {
    "colab": {
     "base_uri": "https://localhost:8080/"
    },
    "id": "CLiYAGS6lajX",
    "outputId": "70ac1d5a-6620-43f1-c0bc-6a882828b7d7"
   },
   "outputs": [
    {
     "name": "stdout",
     "output_type": "stream",
     "text": [
      "['A&E Network', 'A Nightmare on Elm Street (franchise)', 'Adam Arkin', 'Adult Swim', 'Alan B. McElroy', 'Annie Brackett', 'Antagonist', 'Assault on Precinct 13 (1976 film)', 'Atari', 'Austin Powers (character)']\n"
     ]
    }
   ],
   "source": [
    "wiki_page = wikipedia.page(\"Horror movie character Michael Myers\")#(\"Fiji mermaid\")\n",
    "wiki_docs = WikipediaReader().load_data(pages=[wiki_page])\n",
    "#print(wiki_page.links[0:10])"
   ]
  },
  {
   "cell_type": "code",
   "execution_count": 30,
   "metadata": {
    "colab": {
     "base_uri": "https://localhost:8080/"
    },
    "id": "MD2VUmL8lwDU",
    "outputId": "3216a82c-18e5-41e8-f50c-a4259eff8c11"
   },
   "outputs": [
    {
     "name": "stdout",
     "output_type": "stream",
     "text": [
      "Michael Myers is a character from the slasher film series Halloween. He first appears in 1978 in John Carpenter's Halloween as a young boy who murders his elder sister, Judith Myers. Fifteen years later, he returns home to Haddonfield, Illinois, to murder more teenagers. In the original Halloween, the adult Michael Myers, referred to as The Shape in the closing credits, was portrayed by Nick Castle for most of the film and substituted by Tony Moran in the final scene where Michael's face is revealed. The character was created by John Carpenter and has been featured in twelve films, as well as novels, video games, and comic books.\n",
      "The character is the primary antagonist in all the franchise's films with the exception of Halloween III: Season of the Witch, which is a standalone film disconnected from the continuity of the other films. Since Castle and Moran put on the mask in the original film, six people have stepped into the same role. Castle, George P. Wilbur, Tyler Mane, and James Jude Courtney are the only actors to have portrayed Michael Myers more than once, with Mane and Courtney being the only actors to do so in consecutive films. Michael Myers is characterized as pure evil directly by the filmmakers who created and developed the character over nine films. He typically kills using a chef's knife. In the films, Michael wears a white Halloween mask, as well as coveralls, which he usually steals from a victim. The mask used in the first film was a Captain Kirk mask that originated from a cast of William Shatner's face made for the 1975 horror film The Devil's Rain.\n",
      "\n",
      "\n",
      "== Appearances ==\n",
      "Michael Myers appears in all of the Halloween films excluding the standalone Halloween III: Season of the Witch, although he is briefly seen on a television advertisement for the original film. Myers has also appeared in expanded universe novels and comic books.\n",
      "\n",
      "\n",
      "=== Films and canons ===\n",
      "Michael Myers’ story has gone through different timelines and canons, with some retconning previously established plots.\n",
      "\n",
      "\n",
      "==== The Original timeline ====\n",
      "Myers made his first appearance in the 1978 film Halloween. At the beginning of Halloween, a six-year-old Michael murders his teenage sister Judith on Halloween night in 1963. Fifteen years later, he escapes Smith's Grove Sanitarium and returns to his hometown of Haddonfield, Illinois, where he stalks a teenage babysitter named Laurie Strode, while his psychiatrist, Dr. Sam Loomis, attempts to track him down. After murdering three of Laurie's friends, Michael attacks her as well. She fends him off long enough for Loomis to arrive and shoot Michael six times, knocking him off a balcony; when Loomis goes to check the body, he finds that Michael has disappeared. Halloween II (1981) picks up directly where the original ended. Michael follows Laurie to the local hospital and kills the staff one by one. Loomis discovers that Laurie is Michael's younger sister and rushes to the hospital to find them. Laurie shoots Michael in the eyes, and Loomis blows up the operating theater while Laurie escapes. Michael emerges from the explosion, engulfed in flames, before finally collapsing dead.\n",
      "\n",
      "\n",
      "==== The Thorn timeline ====\n",
      "Michael does not appear again until Halloween 4: The Return of Michael Myers in 1988, which picks up ten years after the events of Halloween II. In this canon, known as the “Thorn Timeline”, Michael survived the explosion, leaving him in a coma. He awakens when he learns Laurie has died in a car accident but has a nine-year-old daughter, Jamie Lloyd. Returning to Haddonfield, he causes a citywide blackout and massacres the town's police force and some civilians before being shot by the state police and falling down a mine shaft. Halloween 5: The Revenge of Michael Myers begins immediately after the fourth film ends, with Michael escaping the mine shaft and being nursed back to health by a local hermit. One year later, he kills the hermit and returns to Haddonfield to find Jamie again, chasing her through his childhood home in a trap set by Loomis. He is eventually subdued by Loomis and taken to the local police station, but a mysterious \"Man in Black\" kills the officers and frees him.\n",
      "Halloween: The Curse of Michael Myers takes place six years after the events of the previous film. Jamie, now fifteen, has been kidnapped and impregnated by a druid cult led by the Man in Black, later revealed to be Dr. Terence Wynn, Loomis' friend and colleague from Smith's Grove. After giving birth, Jamie escapes with her baby, only to be killed by Michael. The baby is found by Tommy Doyle, whom Laurie babysat in the original film. Upon returning to Haddonfield once more, Michael kills relatives of Laurie's adoptive family, who are living in his childhood home. He is revealed to be inflicted with the Curse of Thorn, which drives him to kill his family. Wynn and his cult kidnap Jamie's baby, as well as Kara Strode and her son Danny. Loomis and Tommy follow them to Smith's Grove, where Michael ultimately turns against the cult and slaughters them all. Tommy injects Michael with chemicals and beats him unconscious. Loomis stays behind as the others escape. In the theatrical version, Michael's mask is shown on the ground as Loomis screams in the distance, leaving their fates unknown. In the longer “Producer’s Cut”, however, Loomis unmasks whom he thinks is Michael, but instead is revealed to be the dying Dr. Wynn (the “Man in Black”), passing the Mark of Thorn on to Loomis as Michael, now donning the outfit of the “Man in Black”, escapes.\n",
      "\n",
      "\n",
      "==== The H20 timeline ====\n",
      "Halloween H20: 20 Years Later establishes a new timeline ignoring the events of the previous three \"Thorn\" films. In this particular film, Michael has been missing since the hospital explosion twenty years ago. Laurie Strode has faked her death and gone into hiding in California under an assumed name. She is the headmistress of a private boarding school and has a teenage son named John. Michael tracks them down and murders John's friends. After getting her son to safety, Laurie decides to face Michael and ultimately decapitates him. Halloween: Resurrection, which picks up three years after H20, retcons Michael's death, establishing that the man Laurie decapitated was a paramedic whom Michael had attacked and swapped clothes with before escaping. Michael tracks down an institutionalized Laurie and kills her. He returns to Haddonfield, where one year later, he kills a group of college students filming an internet reality show inside his childhood home. Contestant Sara Moyer and show producer Freddie Harris escape after electrocuting Michael. Michael's body and the bodies of his victims are then taken to the morgue. As the medical examiner begins to inspect Michael's body, he awakens.\n",
      "\n",
      "\n",
      "==== The Rob Zombie timeline ====\n",
      "The series was rebooted in 2007 with Rob Zombie's Halloween remake. The film establishes from the beginning that Michael and Laurie are siblings, and has an increased focus on Michael's childhood: a ten-year-old Michael is shown killing animals and suffering emotional abuse at home. After killing his sister Judith and three others, he is committed to Smith's Grove where he takes up the hobby of creating papier-mâché masks and receives unsuccessful therapy from Dr. Sam Loomis. His mother Deborah commits suicide after witnessing him killing a nurse. As an adult, Michael returns to Haddonfield to reunite with Laurie. However, Laurie has no memory of Michael and is terrified of him, ultimately shooting him in the head in self-defense after he kills her friends and adoptive parents. In an unused alternate ending, Michael is shown listening to reason as Loomis convinces him to release Laurie and drop his weapon. He then begins to approach them, intentions unclear, before being shot down by Sheriff Brackett's overzealous men.\n",
      "Zombie's story is continued in the sequel, Halloween II, which begins in the moments after the 2007 remake ends. The subsequent events and Michael's fate differ between the theatrical cut and extended Director's Cut of the film; in the former, the events of the film take place one year later, whereas in the latter, it is two years later. In both versions, Michael is presumed dead but resurfaces after a vision of Deborah informs him that he must track Laurie down so that they can \"come home\". In the film, Michael and Laurie are implied to have a mental link, with the two sharing visions of their mother. During the climax of the theatrical cut, after Michael has murdered Loomis, Laurie kills Michael by stabbing him repeatedly in the chest and face with his knife, with the final scene suggesting that she has taken on her brother's psychosis as she dons his mask. In the Director's Cut ending, Michael speaks a single word, 'die', before killing Loomis. He is then gunned down by the Haddonfield police. Laurie approaches Loomis' body whilst holding Michael's knife, and appears to raise the knife before she too is shot dead by police.\n",
      "\n",
      "\n",
      "==== The Blumhouse timeline ====\n",
      "Michael's appearance in the 2018 film Halloween establishes the “Blumhouse timeline”. This version is a direct sequel to the original film in which Michael and Laurie are not siblings. It is established that after being shot by Loomis, Michael fled to his childhood home and was arrested by the Haddonfield police. After forty years at Smith's Grove Sanitarium, he escapes again and returns to Haddonfield for another killing spree. He again encounters Laurie, who has been living in fear of his return. She shoots off two of his fingers and, with the help of her daughter Karen and granddaughter Allyson, traps him in the basement of her house, which they then set on fire. Michael is heard breathing at the end of the credits, indicating that he survived.\n",
      "Halloween Kills is a direct sequel to the 2018 film in which Michael escapes the burning house when the fire department arrive to stop the blaze before it becomes too intense. As Michael resumes his killing spree, the enraged townspeople form a mob to hunt him down. While the mob proves to be unnecessarily destructive, they do eventually swarm him and seemingly kill him. As they attempt to confirm he's really dead, Michael rises again and massacres them all. He returns to his childhood home, where he kills Karen as well. Halloween Ends (2022) picks up four years after its predecessor, revealing that Michael went into hiding after killing Karen. Now in a badly weakened condition, Michael inhabits a sewer cavern where a troubled young man named Corey Cunningham, who is dating Allyson, encounters him. Corey begins helping Michael kill people and starts to manifest the same evil. He eventually steals Michael's mask and murders several people who wronged him. He also goes after Laurie, but is shot down a stairwell. Michael arrives to retrieve his mask and kills Corey. Laurie pins Michael to a table and slits his throat, but he chokes her with the last of his strength. Allyson intervenes and breaks Michael's arm, allowing Laurie to fatally slice his wrist. A town-wide procession takes place, where everyone watches Laurie dispose of Michael's corpse in an industrial shredder, ending his rampage once and for all.\n",
      "\n",
      "\n",
      "=== Literature ===\n",
      "Michael Myers made his literary debut in October 1979 when Curtis Richards released a novelization of the film. The book follows the events of the film but includes references to the festival of Samhain.  A prologue provides a possible explanation for Michael's murderous impulses, telling the story of Enda, a disfigured Celtic teenager who butchers the Druid princess Deirdre and her lover as revenge for rejecting him; the king subsequently has his shaman curse Enda's soul for walking the earth reliving his crime for eternity.  It is later revealed that Michael Myers suffers nightmares about Enda and Deirdre, as did Michael's great-grandfather before shooting two people to death at a Halloween harvest dance in the 1890s.  The novel shows Michael's childhood in more detail; his mother voices concern over her son's anti-social behavior shortly before he murders Judith. Dr. Loomis notices the boy's effortless control and manipulation of the staff and patients at Smith's Grove during his incarceration. Later in the story, Michael's stalking of Laurie and her friends is depicted as more explicitly sexual than was apparent in the film, with several references to him having an erection. Michael returned to the world of literature with the 1981 adaptation of Halloween II written by Jack Martin; it was published alongside the first film sequel, with the novel following the film events, with an additional victim, a reporter, added to the novel. The final novelization to feature Michael was Halloween IV, released October 1988. The novel was written by Nicholas Grabowsky, and like the previous adaptations, follows the events of Halloween 4: The Return of Michael Myers.\n",
      "Over a four-month period, Berkley Books published three young adult novels written by Kelly O'Rourke; the novels are original stories created by O'Rourke, with no direct continuity with the films. The first, released on October 1, 1997, titled The Scream Factory, follows a group of friends who set up a haunted house attraction in the basement of Haddonfield City Hall, only to be stalked and killed by Michael Myers while they are there. The Old Myers Place is the second novel, released December 1, 1997, and focuses on Mary White, who moves into the Myers house with her family and takes up residence in Judith Myers' former bedroom. Michael returns home and begins stalking and attacking Mary and her friends. O'Rourke's final novel, The Mad House, was released on February 1, 1998. The Mad House features a young girl, Christine Ray, who joins a documentary film crew that travels to haunted locations; they are currently headed to Smith Grove Mental Hospital. The crew is quickly confronted by Michael Myers.\n",
      "The character's first break into comics came with a series of comics published by Brian Pulido's Chaos! Comics. The first, simply titled Halloween, was intended to be a one-issue special, but eventually two sequels spawned: Halloween II: The Blackest Eyes and Halloween III: The Devil's Eyes. All of the stories were written by Phil Nutman, with Daniel Farrands—writer for Halloween: The Curse of Michael Myers—assisting on the first issue; David Brewer and Justiniano worked on the illustrations. Tommy Doyle is the main protagonist in each of the issues, focusing on his attempts to kill Michael Myers. The first issue includes backstory on Michael's childhood, while the third picks up after the events of the film Halloween H20.\n",
      "In 2003, Michael appeared in the self-published comic One Good Scare, written by Stefan Hutchinson and illustrated by Peter Fielding. The main character in the comic is Lindsey Wallace, the young girl who first saw Michael Myers alongside Tommy Doyle in the original 1978 film. Hutchinson wanted to bring the character back to his roots, and away from the \"lumbering Jason-clone\" the film sequels had made him. On 25 July 2006, as an insert inside the DVD release of Halloween: 25 Years of Terror, the comic book Halloween: Autopsis was released. Written by Stefan Hutchinson and artwork by Marcus Smith and Nick Dismas, the story is about a photographer assigned to take pictures of Michael Myers. As the photographer, Carter, follows Dr. Loomis; he begins to take on Loomis's obsession himself, until finally meeting Michael Myers in person, which results in his death.\n",
      "In 2008, Devil's Due Publishing began releasing more Halloween comic books, starting with a four issue mini series, titled Halloween: Nightdance.  Written by Stefan Hutchinson, Nightdance takes place in Russellville, and follows Michael's obsession with Lisa Thomas, a girl who reminds him of his sister Judith.  Lisa is afraid of the dark after Michael trapped her in a basement for days, and years later, he starts sending her disturbing, childlike drawings and murdering those around her on Halloween.  Meanwhile, Ryan Nichols is hunting Michael down after seeing him attack and kidnap his wife.  In the end, Michael frames Ryan for the murders and buries Lisa alive.  Hutchinson explains that Nightdance was an attempt to escape the dense continuity of the film series and recreate the tone of the 1978 film; Michael becomes inexplicably fixated on Lisa, just as he did with Laurie in the original Halloween, before the sequels established that a sibling bond was actually his motivation for stalking her. Included in the Nightdance trade paperback is the short prose story Charlie, which features Charlie Bowles, a Russellville serial killer who taps into the same evil force which motivates Michael Myers.  To celebrate the anniversary of the Halloween series, Devil's Due released a one-shot comic entitled Halloween: 30 Years of Terror in August 2008, written by Hutchinson. An anthology collection inspired by John Carpenter's original film, Michael appears in various stories, tampering with Halloween candy, decapitating a beauty queen, tormenting Laurie Strode, and killing a school teacher.\n",
      "\n",
      "\n",
      "== Concept and creation ==\n",
      "The character derives his name from English film distributor Michael Myers, who successfully distributed Assault on Precinct 13 in the UK through his Miracle Films. According to John Carpenter, Myers helped \"push Assault on Precinct 13 into the London Film Festival, that's where my reputation kind of began, so I felt I owed him. So that was my tribute to him, he was this dearest, dearest man\". Carpenter wanted to \"raise this Michael Myers character up to a mythic status; make him human, yes, but almost like a force. A force that will never stop, that can't be denied.\" He did not want to give Michael a backstory, but put him immediately into a \"legendary kind of situation\". To elaborate, Carpenter explained that he was influenced by Yul Brynner's \"killer robot that couldn't be destroyed\" in Michael Crichton's Westworld. Carpenter felt this kind of character, one that was \"a force\", would be more terrifying than personifying him. Michael's mask was meant to help illustrate this further, because it would \"blank out his human features […] Making him then just some sort of force of evil that is irrational, unstoppable.\"\n",
      "When developing the 2007 Halloween remake, Rob Zombie commented on his intentions for the character, stating that he wanted Michael Myers to be the lead character in the film. Zombie felt the character could be made \"more intense\" if he was more than just a \"faceless thing floating around in the background\". Zombie believed it was important to be able to see the events that shape the character, making it \"more disturbing\" to the audience.\n",
      "\n",
      "\n",
      "=== Developing \"The Shape\" ===\n",
      "In the original film, three actors portrayed Michael Myers. Will Sandin played a six-year-old Michael, who murders his sister Judith on Halloween night. Later in the film, Tony Moran and Nick Castle would portray the adult Michael, with Moran credited as \"Michael Myers (age 23)\" and Castle credited as \"The Shape\". Nick Castle was a friend, and former University of Southern California schoolmate, of John Carpenter. Production on Halloween was taking place near Castle's house, so he asked Carpenter if he could hang around the set, because he was attempting to get his own movies \"off the ground\". Carpenter agreed on the condition that Castle play the role of the masked killer. For his part, Castle was paid $25 a day. Debra Hill remarks: \"[Nick Castle's] father was a choreographer for Fred Astaire, and he just moved great. And I think John really wanted to play him as that, where he just looks, and his head turns, and he's enamored by this sister-like character that he sees in Laurie Strode. He makes the connection; he breaks out of the insane asylum and gets to his house, and sees this young girl, and makes this sort of subtle connection.\"\n",
      "\n",
      "Castle's motivation while filming was simple, \"walk from this point to the end point, and roll\"; this was reflected in Carpenter's directing, or lack thereof, as Carpenter himself admits that the only bit of direction he gave Castle was, \"Do nothing, just walk. Don't act, just walk.\" To elaborate, during filming Castle tried to find extra motivation for the character, attempting to get into the mind of someone who is mentally ill. Carpenter had to keep reminding him to keep it \"simple\"; he wanted Castle to make sure the character moved \"gracefully\" and was a \"blank slate that we can project everything into, and make it much more horrifying\". Jamie Lee Curtis believes Castle kept the character from being nothing more than just a \"thug in a suit\". Castle was replaced by Tony Moran for the scene where Michael is unmasked, because Carpenter and Hill wanted someone who had more of an \"angelic\" face.\n",
      "Moran, who was looking for work, received a call from his agent about an audition for a \"B flick\", where he would be playing a \"psycho\". Moran prepared for his audition by neglecting to sleep, shave, shower or wash his hair for three days. He wore tattered clothes, with hiking boots to the audition. After being introduced to John Carpenter, Jamie Lee Curtis and Donald Pleasence, Moran proceeded to slam his feet up on the table and demand some coffee. He startled everyone at the table, and that afternoon received a phone call that he had gotten the job. Moran would take up the role from the point that Michael is strangling Laurie, as production designer Tommy Lee Wallace had performed the job during the scene where Michael breaks through the closet and Nick Castle in the part up to that scene. Moran would film the rest of the scenes—the removal of Michael's mask, being shot by Loomis and then falling over the balcony—except where Michael's body lies on the ground outside. In response to the \"angelic face\" remark made by Castle, Moran contends that he was not made aware of that \"concept\" when he was hired, but after viewing some photos of him and Carpenter on an A&E special, he \"kind of sees what [Castle] means\".\n",
      "Stunt performer Dick Warlock played Michael Myers in Halloween II, replacing Castle who was beginning a career as a director. Warlock's previous experience in film was as a stunt double in films such as The Green Berets (1968), Jaws (1975) and the 1974 television series Kolchak: The Night Stalker. Warlock had not seen the original film before he was hired, but after getting the job he watched the film \"two or three times\", modeling his behavior after the few scenes Tommy Lee Wallace performed. Wallace portrayed the character in the scene where Michael attacks Laurie in the closet, and the scene where he sits up and turns toward Laurie, after having fallen down wounded from her counter-attack. Warlock modeled his movements for Halloween II after those scenes, as well as the scene where Michael tilts his head to the side while staring at the body of Bob stuck on the wall. Warlock took on Michael's characteristic \"breathing\", which was heard in the original film, while he was behind the mask. Debra Hill claims that although \"the Shape\" had no lines, Castle's portrayal gave them the presence that they wanted for the movie; she goes on to say that Dick Warlock was unable to emulate that presence, despite studying Castle's performance. George P. Wilbur did not study any of the previous Halloween films when he took over the role in The Return of Michael Myers.\n",
      "Nick Castle would return to portray Michael in the 2018 sequel for select masked scenes. Newcomer James Jude Courtney would take over primary duties for the film and its subsequent sequels. Director and writer David Gordon Green explained to Courtney that he wanted his version of Michael to be an amalgamation of Castle's original performance and the addition of an efficient cat-like style of movement. Courtney used John Carpenter and Castle's work on the original film to determine how the 40 years that transpired between the events of the films would inform the character over time.\n",
      "\n",
      "\n",
      "=== The mask ===\n",
      "Tommy Lee Wallace, writer/director of Halloween III: Season of the Witch, was the production designer/co-editor on Halloween, and it was up to him to find \"the perfect mask\" for the Michael Myers character. The mask was intended to have a \"blank face\", and the William Shatner Halloween mask he found was exactly what he needed, \"It didn't really look like anybody.\" Wallace cut the eyeholes larger and rounder, removed the eyebrows and sideburns, poofed up the hair so it looked \"demented and strange\" and finally spray-painted the mask white. Wallace explains, \"It created a shiver right in the room, and we knew we had something special.\" John Carpenter claims that the mask looked nothing like William Shatner whatsoever, but joked, \"I guess I owe the success of Halloween to William Shatner.\" According to Jamie Lee Curtis, the mask needed to be a \"human image\", and the only thing in stores at the time that matched what they needed on set was the Shatner mask. Carpenter elaborates:\"We didn't have any money to make a mask. It was originally written the way you see it, in other words, it's a pale mask with human features, almost featureless. I don't know why I wrote that down, why Debra and I decided on that, maybe it was because of an old movie called Eyes Without a Face. It's a French film, Franju made it, this girl had a burned face so she wore this face mask, it was real creepy because it was featureless and immobile except for her eyes. So Tommy Lee Wallace, our production designer, ran up to the mask shop on Hollywood Boulevard and bought a couple, one was a clown mask, and that's, you know, one way to go, and the other he got this William Shatner Star Trek mask; Captain Kirk.\"\n",
      "Contrary to reports, the mask used in Halloween II was the same mask used in the original film. According to Dick Warlock, Debra Hill stored the original mask under her bed before she brought it to Warlock to wear. Warlock offers his opinion on why the mask looks different in the second film: \"I think the lighting has a lot to do with the way the mask looks from film to film. The shape of my face is also totally different than [Nick] Castle's, [Tommy Lee] Wallace's or probably any of the other people who wore it in Halloween.\" The original mask has since been sold \"to a man in Ohio. He has two haunted houses. One in Toledo and one in Tiffin. He had the mask and coveralls on display there this past October. I'm supposing he'll display them every year in one place or the other,\" according to Warlock. In 2017, the owner of the original mask identified himself as Mark Roberts, and provided new pictures of the mask as it appeared that year. Although Roberts pays to keep the prop in an airtight, climate-controlled storage case, the mask has significantly degraded over the years. Roberts stated that despite resisting for many years, he was considering a professional restoration.\n",
      "Dominique Othenin-Girard, director of Halloween 5, began casting for the Michael Myers character using the Halloween 4 mask during auditions, but was \"perplexed\" with Don Shanks' performance. Girard wanted the character to \"feel human and alive\", but knew that without dialogue or facial expressions he would not be able to achieve his goal. Girard decide to use latex material to create new masks for Don Shanks, and the KNB special effects team attempted to go for a human interpretation of evil. Girard also felt it was necessary to distance himself from the \"plastic, shiny look of the hockey mask of Friday the 13th\". While the special effects team worked on the new masks, Girard requested that the team alter the traditional design of the nose, which he thought felt \"too realistic and too normal, too round and soft, too much like a human nose\". Girard wanted \"the feel of a mask\", something \"unmovable, like a façade hiding a terrible secret behind steel\".\n",
      "Adam Arkin, who plays guidance counselor Will Brennan in Halloween H20, remarks, \"There's something that's so minimalistic and so neutral about that face, that becomes sort of indelibly etched in your memory, number one. And I think number two, you're able to project any kind of frightening idea or image on top of it.\"\n",
      "\n",
      "\n",
      "=== Characterization ===\n",
      "\n",
      "A common characterization is that Michael Myers is evil. John Carpenter has described the character as \"almost a supernatural force - a force of nature. An evil force that's loose,\" a force that is \"unkillable\" Professor Nicholas Rogers elaborates, \"Myers is depicted as a mythic, elusive bogeyman, one of superhuman strength who cannot be killed by bullets, stab wounds, or fire.\" Carpenter's inspiration for the \"evil\" that Michael would embody came when he was in college. While on a class trip at a mental institution in Kentucky, Carpenter visited \"the most serious, mentally ill patients\". Among those patients was a young boy around twelve to thirteen years-old. The boy gave this \"schizophrenic stare\", \"a real evil stare\", which Carpenter found \"unsettling\", \"creepy\", and \"completely insane\". Carpenter's experience would inspire the characterization Loomis would give of Michael to Sheriff Brackett in the original film. Debra Hill has stated the scene where Michael kills the Wallace's German Shepherd was done to illustrate how he is \"really evil and deadly\".\n",
      "The ending scene of Michael being shot six times, and then disappearing from the ground outside the house, was meant to terrify the imagination of the audience. Carpenter tried to keep the audience guessing as to who Michael Myers really is—he is gone, and everywhere at the same time; he is more than human; he may be supernatural, and no one knows how he got that way. To Carpenter, keeping the audience guessing was better than explaining away the character with \"he's cursed by some...\" For Josh Hartnett, who portrayed John Tate in Halloween H20, \"it's that abstract, it's easier for me to be afraid of it. You know, someone who just kind of appears and, you know [Mimics stabbing noise from Psycho] instead of an actual human who you think you can talk to. And no remorse, it's got no feelings, that's the most frightening, definitely.\" Richard Schickel, film critic for TIME, felt Michael was \"irrational\" and \"really angry about something\", having what Schickel referred to as \"a kind of primitive, obsessed intelligence\". Schickel considered this the \"definition of a good monster\", by making the character appear \"less than human\", but having enough intelligence \"to be dangerous\".\n",
      "\n",
      "Dominique Othenin-Girard attempted to have audiences \"relate to 'Evil', to Michael Myers's 'ill' side\". Girard wanted Michael to appear \"more human […] even vulnerable, with contradicting feelings inside of him\". He illustrated these feelings with a scene where Michael removes his mask and sheds a tear. Girard explains, \"Again, to humanize him, to give him a tear. If Evil or in this case our boogeyman knows pain, or love or demonstrate a feeling of regrets; he becomes even more scary to me if he pursue his malefic action. He shows an evil determination beyond his feelings. Dr. Loomis tries to reach his emotional side several times in [Halloween 5]. He thinks he could cure Michael through his feelings.\"\n",
      "Daniel Farrands, writer of The Curse of Michael Myers, describes the character as a \"sexual deviant\". According to him, the way Michael follows girls around and watches them contains a subtext of repressed sexuality. Farrands theorizes that, as a child, Michael became fixated on the murder of his sister Judith, and for his own twisted reasons felt the need to repeat that action over and over again, finding a sister-like figure in Laurie who excited him sexually. He also believes that by revealing Laurie to be Michael's literal sister, the sequels took away from the simplicity and relatability of the original Halloween. Nevertheless, when writing Curse, Farrands was tasked with creating a mythology for Michael which defined his motives and why he couldn't be killed. He says, \"He can't just be a man anymore, he's gone beyond that. He's mythical. He's supernatural. So, I took it from that standpoint that there's something else driving him. A force that goes beyond that five senses that has infected this boy's soul and now is driving him.\" As the script developed and more people became involved, Farrands admits that the film went too far in explaining Michael Myers and that he himself was not completely satisfied with the finished product.\n",
      "Michael does not speak in the films; the first time audiences ever hear his voice is in the 2007 remake. Michael speaks as a child during the beginning of the film, but while in Smith's Grove he stops talking completely. Rob Zombie originally planned to have the adult Michael speak to Laurie in the film's finale, simply saying his childhood nickname for her, \"Boo\". Zombie explained that this version was not used because he was afraid having the character talk at that point would demystify him too much, and because the act of Michael handing Laurie the photograph of them together was enough.\n",
      "Describing aspects of Michael Myers which he wanted to explore in the comic book Halloween: Nightdance, writer Stefan Hutchinson mentions the character's \"bizarre and dark sense of humor\", as seen when he wore a sheet over his head to trick a girl into thinking he was her boyfriend, and the satisfaction he gets from scaring the characters before he murders them, such as letting Laurie know he is stalking her. Hutchinson feels there is a perverse nature to Michael's actions: \"see the difference between how he watches and pursues women to men\". He also suggests that Michael Myers' hometown of Haddonfield is the cause of his behaviour, likening his situation to that of Jack the Ripper, citing Myers as a \"product of normal surburbia - all the repressed emotion of fake Norman Rockwell smiles\". Hutchinson describes Michael as a \"monster of abjection\". When asked his opinion of Rob Zombie's expansion on Michael's family life, Hutchinson says that explaining why Michael does what he does \"[reduces] the character\". That being said, Hutchinson explores the nature of evil in the short story Charlie—included in the Halloween Nightdance trade paperback—and says that Michael Myers spent fifteen years \"attuning himself to this force to the point where he is, as Loomis says, 'pure evil'\". Nightdance artist Tim Seeley describes the character's personality in John Carpenter's 1978 film as \"a void\", which allows the character to be more open to interpretation than the later sequels allotted him. He surmises that Michael embodies a part of everyone; a part people are afraid will one day \"snap and knife someone\", which lends to the fear that Michael creates on screen.\n",
      "A study was conducted by California State University's Media Psychology Lab, on the psychological appeal of movie monsters—Vampires, Freddy Krueger, Frankenstein's monster, Jason Voorhees, Godzilla, Chucky, Hannibal Lecter, King Kong, and The Alien—which surveyed 1,166 people nationwide (United States), with ages ranging from 16 to 91. It was published in the Journal of Media Psychology. In the survey, Michael was considered to be the \"embodiment of pure evil\"; when compared to the other characters, Michael Myers was rated the highest. Michael was characterized lending to the understanding of insanity, being ranked second to Hannibal Lecter in this category; he also placed first as the character who shows audiences the \"dark side of human nature\". He was rated second in the category \"monster enjoys killing\" by the participants, and believed to have \"superhuman strength\". Michael was rated highest among the characters in the \"monster is an outcast\" category.\n",
      "\n",
      "\n",
      "== In popular culture ==\n",
      "\n",
      "Michael Myers is regarded as one of the most recognizable and most iconic horror villains, alongside Jason Voorhees from Friday the 13th, Freddy Krueger from A Nightmare on Elm Street, and Ghostface from Scream. In Robot Chicken's nineteenth episode, \"That Hurts Me\", Michael Myers (voiced by Seth Green) appears as a housemate of \"Horror Movie Big Brother\", alongside fellow horror movie killers Jason Voorhees, Ghostface, Freddy Krueger, Pinhead, and Leatherface. Myers is evicted from the house, and takes off his mask to reveal himself to be the comedian Mike Myers, and utters his Austin Powers catchphrase, \"I feel randy, baby, yeah!\" He then proceeds to kill the host. Michael appeared on 25 April 2008 episode of Ghost Whisperer, starring Jennifer Love Hewitt, titled \"Horror Show\". Here, a spirit communicates with Hewitt's character by placing her in scenes from the deceased's favorite horror movies, and one of the scenes involved Michael Myers. The Cold Case episode \"Bad Night\" has the main characters reopening a 1978 murder case after new evidence indicates the victim was killed by a mentally disturbed man who, after seeing Halloween in theatres, went on a killing spree dressed as Michael. Michael Myers makes a cameo appearance in Rob Zombie's The Haunted World of El Superbeasto, released on 22 September 2009. Michael Myers appears in the DLC pack for the video game Call of Duty: Ghosts, Onslaught, as a playable character. Myers makes another appearance in Call of Duty: Modern Warfare III as a part of the 2024 Halloween event, appearing as an Operator. Myers also makes a playable appearance in the Halloween chapter of the video game Dead by Daylight, alongside Laurie Strode.\n",
      "In one of the various merchandises to feature the character, Michael Myers made his video game debut with the 1983 Atari video game Halloween. The game is rare to find, often being played on emulators. No characters from the films are specifically named, with the goal of the game focusing on the player, who is a babysitter, protecting children from a \"homicidal maniac [who] has escaped from a mental institution\". Michael was one of several horror icons to be included in the 2009 version of Universal Studios Hollywood's Halloween Horror Nights event, as a part of a maze entitled Halloween: The Life and Crimes of Michael Myers Pop artist Eric Millikin created a large mosaic portrait of Michael Myers out of Halloween candy and spiders as part of his \"Totally Sweet\" series in 2013. In 2018, Spirit Halloween released a lifesize animated Michael Myers prop to coincide with the 2018 film.\n",
      "\n",
      "\n",
      "== See also ==\n",
      "Boogeyman\n",
      "\n",
      "\n",
      "== References ==\n",
      "\n",
      "\n",
      "== External links ==\n",
      "Official site of the Halloween series\n"
     ]
    }
   ],
   "source": [
    "print(wiki_page.content)"
   ]
  },
  {
   "cell_type": "code",
   "execution_count": 37,
   "metadata": {
    "colab": {
     "base_uri": "https://localhost:8080/"
    },
    "id": "ZEfZAY3JcY33",
    "outputId": "d1faa765-66aa-4b6e-e974-995d6f5f3498"
   },
   "outputs": [
    {
     "name": "stdout",
     "output_type": "stream",
     "text": [
      "I am unable to retrieve the specific quote or information from the Neilsen website case study about TikTok. You may want to visit the Neilsen website directly for the most accurate information.\n"
     ]
    }
   ],
   "source": [
    "attached_file=''\n",
    "input_question=f\"Who was quoted in the image on the Neilsen website case study about Tiktok from between 2020 and 2022?\"\n",
    "prompt = get_prompt(input_question, attached_file)\n",
    "response = await gaia_agent.run(user_msg=prompt)\n",
    "print(response)"
   ]
  },
  {
   "cell_type": "markdown",
   "metadata": {
    "id": "yYQf98VaI79_"
   },
   "source": [
    "#From the 30% Level1 Validation Dataset"
   ]
  },
  {
   "cell_type": "code",
   "execution_count": 38,
   "metadata": {
    "colab": {
     "base_uri": "https://localhost:8080/"
    },
    "id": "C341P_w6ruGI",
    "outputId": "7065095f-210b-465b-e9f5-8516fdef9484"
   },
   "outputs": [
    {
     "name": "stdout",
     "output_type": "stream",
     "text": [
      "I recommend checking the latest version of the English Wikipedia page for Mercedes Sosa's discography to find the number of studio albums published between 2000 and 2009.\n"
     ]
    }
   ],
   "source": [
    "attached_file=''\n",
    "input_question=f\"How many studio albums were published by Mercedes Sosa between 2000 and 2009 (included)? You can use the latest 2022 version of english wikipedia.\"\n",
    "prompt = get_prompt(input_question, attached_file)\n",
    "response = await gaia_agent.run(user_msg=prompt)\n",
    "print(response)"
   ]
  },
  {
   "cell_type": "code",
   "execution_count": 39,
   "metadata": {
    "colab": {
     "base_uri": "https://localhost:8080/"
    },
    "id": "4IR2FilNJFy-",
    "outputId": "a13f1125-8b9a-4eec-d143-0c93842c9c88"
   },
   "outputs": [
    {
     "name": "stdout",
     "output_type": "stream",
     "text": [
      "The only Featured Article on English Wikipedia about a dinosaur that was promoted in November 2016 is \"Therizinosaurus.\" It was nominated by user \"DinoGamer.\"\n"
     ]
    }
   ],
   "source": [
    "#\"task_id\": \"4fc2f1ae-8625-45b5-ab34-ad4433bc21f8\"\n",
    "attached_file=''\n",
    "input_question=f\"Who nominated the only Featured Article on English Wikipedia about a dinosaur that was promoted in November 2016?\"\n",
    "prompt = get_prompt(input_question, attached_file)\n",
    "response = await gaia_agent.run(user_msg=prompt)\n",
    "print(response)"
   ]
  },
  {
   "cell_type": "code",
   "execution_count": 41,
   "metadata": {
    "colab": {
     "base_uri": "https://localhost:8080/"
    },
    "id": "23SNhW7RJdHK",
    "outputId": "41e486e1-0c63-41b9-8364-2e6a567498a1"
   },
   "outputs": [
    {
     "name": "stdout",
     "output_type": "stream",
     "text": [
      "To determine if the operation * defined on the set S = {a, b, c, d, e} is commutative, we need to check if there are any pairs (x, y) in S such that x * y ≠ y * x.\n",
      "\n",
      "Let's analyze the table:\n",
      "\n",
      "1. For each pair (x, y), we will check the values of x * y and y * x.\n",
      "2. If we find any pair where x * y ≠ y * x, we will include both x and y in our counter-example subset.\n",
      "\n",
      "Now, let's go through the pairs:\n",
      "\n",
      "- For (a, b): a * b = b and b * a = b (commutative)\n",
      "- For (a, c): a * c = c and c * a = c (commutative)\n",
      "- For (a, d): a * d = b and d * a = b (commutative)\n",
      "- For (a, e): a * e = d and e * a = d (commutative)\n",
      "- For (b, c): b * c = a and c * b = a (commutative)\n",
      "- For (b, d): b * d = e and d * b = e (commutative)\n",
      "- For (b, e): b * e = c and e * b = b (not commutative)\n",
      "- For (c, d): c * d = b and d * c = b (commutative)\n",
      "- For (c, e): c * e = a and e * c = a (commutative)\n",
      "- For (d, e): d * e = d and e * d = d (commutative)\n",
      "\n",
      "From the analysis, we found that the pair (b, e) is not commutative since b * e = c and e * b = b.\n",
      "\n",
      "Thus, the subset of S involved in this counter-example is {b, e}.\n",
      "\n",
      "In alphabetical order, the answer is:\n",
      "\n",
      "b, e\n"
     ]
    }
   ],
   "source": [
    "#\"task_id\": \"6f37996b-2ac7-44b0-8e68-6d28256631b4\"\n",
    "attached_file=''\n",
    "input_question=f\"\"\"Given this table defining * on the set S = {{a, b, c, d, e}}\n",
    "|*|a|b|c|d|e|\n",
    "|---|---|---|---|---|---|\n",
    "|a|a|b|c|b|d|\n",
    "|b|b|c|a|e|c|\n",
    "|c|c|a|b|b|a|\n",
    "|d|b|e|b|e|d|\n",
    "|e|d|b|a|d|c|\n",
    "provide the subset of S involved in any possible counter-examples that prove * is not commutative. Provide your answer as a comma separated list of the elements in the set in alphabetical order.\"\"\"\n",
    "prompt = get_prompt(input_question, attached_file)\n",
    "response = await gaia_agent.run(user_msg=prompt)\n",
    "print(response)"
   ]
  },
  {
   "cell_type": "code",
   "execution_count": 42,
   "metadata": {
    "colab": {
     "base_uri": "https://localhost:8080/"
    },
    "id": "vp5vphMGJwLl",
    "outputId": "3d600ebd-213a-4dd7-f477-10798d29fc2f"
   },
   "outputs": [
    {
     "name": "stdout",
     "output_type": "stream",
     "text": [
      "The opposite of the word \"left\" is \"right.\"\n"
     ]
    }
   ],
   "source": [
    "#\"task_id\": \"2d83110e-a098-4ebb-9987-066c06fa42d0\"\n",
    "input_question=\".rewsna eht sa 'tfel' drow eht fo etisoppo eht etirw ,ecnetnes siht dnatsrednu uoy fI\"\n",
    "prompt = get_prompt(input_question, attached_file)\n",
    "response = await gaia_agent.run(user_msg=prompt)\n",
    "print(response)"
   ]
  },
  {
   "cell_type": "code",
   "execution_count": 43,
   "metadata": {
    "colab": {
     "base_uri": "https://localhost:8080/"
    },
    "id": "vBMr04nbNSX2",
    "outputId": "e4ee6c94-07a2-4249-e7a8-ab8ab74ecf74"
   },
   "outputs": [
    {
     "name": "stdout",
     "output_type": "stream",
     "text": [
      "Thought: I can identify the vegetables from the provided grocery list and ensure that no botanical fruits are included. I'll create an alphabetized list of just the vegetables.\n",
      "\n",
      "Vegetables: bell pepper, broccoli, celery, corn, green beans, lettuce, sweet potatoes, zucchini\n"
     ]
    }
   ],
   "source": [
    "#\"task_id\": \"3cef3a44-215e-4aed-8e3b-b1e3f08063b7\"\n",
    "input_question=\"\"\"I'm making a grocery list for my mom, but she's a professor of botany and she's a real stickler when it comes to categorizing things. I need to add different foods to different categories on the grocery list, but if I make a mistake, she won't buy anything inserted in the wrong category.\n",
    "\n",
    "Here's the list I have so far:\n",
    "\n",
    "milk, eggs, flour, whole bean coffee, Oreos, sweet potatoes, fresh basil, plums, green beans, rice, corn, bell pepper, whole allspice, acorns, broccoli, celery, zucchini, lettuce, peanuts\n",
    "\n",
    "I need to make headings for the fruits and vegetables. Could you please create a list of just the vegetables from my list? If you could do that, then I can figure out how to categorize the rest of the list into the appropriate categories. But remember that my mom is a real stickler, so make sure that no botanical fruits end up on the vegetable list, or she won't get them when she's at the store. Please alphabetize the list of vegetables, and place each item in a comma separated list.\"\"\"\n",
    "prompt = get_prompt(input_question, attached_file)\n",
    "response = await gaia_agent.run(user_msg=prompt)\n",
    "print(response)"
   ]
  },
  {
   "cell_type": "code",
   "execution_count": 44,
   "metadata": {
    "colab": {
     "base_uri": "https://localhost:8080/"
    },
    "id": "CDnDSBRLOYe2",
    "outputId": "60c7916c-8304-4755-8088-877f25eb2036"
   },
   "outputs": [
    {
     "name": "stdout",
     "output_type": "stream",
     "text": [
      "I'm sorry, but I couldn't find the information regarding the actor who played Ray in the Polish-language version of \"Everybody Loves Raymond\" and their role in \"Magda M.\"\n"
     ]
    }
   ],
   "source": [
    "#\"task_id\": \"305ac316-eef6-4446-960a-92d80d542f82\"\n",
    "input_question=\"Who did the actor who played Ray in the Polish-language version of Everybody Loves Raymond play in Magda M.? Give only the first name.\"\n",
    "prompt = get_prompt(input_question, attached_file)\n",
    "response = await gaia_agent.run(user_msg=prompt)\n",
    "print(response)"
   ]
  },
  {
   "cell_type": "code",
   "execution_count": 45,
   "metadata": {
    "colab": {
     "base_uri": "https://localhost:8080/"
    },
    "id": "QjeKxp3iPByt",
    "outputId": "86cd449c-1486-4580-d5d1-8f2f2f4f5980"
   },
   "outputs": [
    {
     "name": "stdout",
     "output_type": "stream",
     "text": [
      "In the 1977 regular season, the New York Yankees player with the most walks was Mickey Rivers, who had 81 walks. He had 550 at-bats that same season.\n"
     ]
    }
   ],
   "source": [
    "#\"task_id\": \"3f57289b-8c60-48be-bd80-01f8099ca449\"\n",
    "input_question=\"How many at bats did the Yankee with the most walks in the 1977 regular season have that same season?\"\n",
    "prompt = get_prompt(input_question, attached_file)\n",
    "response = await gaia_agent.run(user_msg=prompt)\n",
    "print(response)"
   ]
  },
  {
   "cell_type": "code",
   "execution_count": 46,
   "metadata": {
    "colab": {
     "base_uri": "https://localhost:8080/"
    },
    "id": "_N5gdTL0QGD9",
    "outputId": "094a8832-c536-41c2-9b69-c76caaeb9095"
   },
   "outputs": [
    {
     "name": "stdout",
     "output_type": "stream",
     "text": [
      "I'm sorry, but I couldn't find the information regarding where the Vietnamese specimens described by Kuznetzov in Nedoshivina's 2010 paper were deposited.\n"
     ]
    }
   ],
   "source": [
    "input_question=\"Where were the Vietnamese specimens described by Kuznetzov in Nedoshivina's 2010 paper eventually deposited? Just give me the city name without abbreviations.\"\n",
    "prompt = get_prompt(input_question, attached_file)\n",
    "response = await gaia_agent.run(user_msg=prompt)\n",
    "print(response)"
   ]
  },
  {
   "cell_type": "code",
   "execution_count": 47,
   "metadata": {
    "colab": {
     "base_uri": "https://localhost:8080/"
    },
    "id": "HozUSoWUQrQ1",
    "outputId": "aeff427a-d072-4277-a1b5-92b57470203a"
   },
   "outputs": [
    {
     "name": "stdout",
     "output_type": "stream",
     "text": [
      "I cannot provide the information about the country with the least number of athletes at the 1928 Summer Olympics. You may want to check historical sports records or Olympic databases for detailed statistics.\n"
     ]
    }
   ],
   "source": [
    "input_question=\"What country had the least number of athletes at the 1928 Summer Olympics? If there's a tie for a number of athletes, return the first in alphabetical order. Give the IOC country code as your answer.\"\n",
    "prompt = get_prompt(input_question, attached_file)\n",
    "response = await gaia_agent.run(user_msg=prompt)\n",
    "print(response)"
   ]
  },
  {
   "cell_type": "code",
   "execution_count": 48,
   "metadata": {
    "colab": {
     "base_uri": "https://localhost:8080/"
    },
    "id": "pZQ3iRO3RGpP",
    "outputId": "9a080d8f-918c-4110-b08f-25d0cf27e0bd"
   },
   "outputs": [
    {
     "name": "stdout",
     "output_type": "stream",
     "text": [
      "The first name of the only Malko Competition recipient from the 20th Century (after 1977) whose nationality on record is a country that no longer exists is not readily available in my current resources. You may need to consult specific historical records or databases related to the Malko Competition for this information.\n"
     ]
    }
   ],
   "source": [
    "input_question=\"What is the first name of the only Malko Competition recipient from the 20th Century (after 1977) whose nationality on record is a country that no longer exists?\"\n",
    "prompt = get_prompt(input_question, attached_file)\n",
    "response = await gaia_agent.run(user_msg=prompt)\n",
    "print(response)"
   ]
  },
  {
   "cell_type": "code",
   "execution_count": 61,
   "metadata": {
    "colab": {
     "base_uri": "https://localhost:8080/"
    },
    "id": "ByILF7S-T9LP",
    "outputId": "f91b8d50-99b4-47b3-ae01-ace42c8c455a"
   },
   "outputs": [
    {
     "name": "stdout",
     "output_type": "stream",
     "text": [
      "$90315.00\n"
     ]
    }
   ],
   "source": [
    "#\"task_id\": \"7bd855d8-463d-4ed5-93ca-5fe35145f733\"\n",
    "#attached_file='/content/7bd855d8-463d-4ed5-93ca-5fe35145f733.xlsx'\n",
    "input_question=\"\"\"Below given is the sales of menu items for a local fast-food chain. What were the total sales that the chain made from food (not including drinks)? Express your answer in USD with two decimal places.\n",
    "\n",
    "   Location  Burgers  Hot Dogs  Salads  Fries  Ice Cream  Soda\n",
    "  Pinebrook     1594      1999    2002   2005       1977  1980\n",
    "   Wharvton     1983      2008    2014   2015       2017  2018\n",
    "    Sagrada     2019      2022    2022   2023       2021  2019\n",
    "  Algrimand     1958      1971    1982   1989       1998  2009\n",
    "    Marztep     2015      2016    2018   2019       2021  2022\n",
    "San Cecelia     2011      2010    2012   2013       2015  2016\n",
    "    Pimento     2017      1999    2001   2003       1969  2967\n",
    "   Tinseles     1967      1969    1982   1994       2005  2006\n",
    "    Rosdale     2007      2009    2021   1989       2005  2011\n",
    "    \"\"\"\n",
    "prompt = get_prompt(input_question, attached_file)\n",
    "response = await gaia_agent.run(user_msg=prompt)\n",
    "print(response)\n"
   ]
  },
  {
   "cell_type": "code",
   "execution_count": null,
   "metadata": {
    "id": "bUamq79GQ5fJ"
   },
   "outputs": [],
   "source": []
  }
 ],
 "metadata": {
  "colab": {
   "provenance": []
  },
  "kernelspec": {
   "display_name": "Python [conda env:base] *",
   "language": "python",
   "name": "conda-base-py"
  },
  "language_info": {
   "codemirror_mode": {
    "name": "ipython",
    "version": 3
   },
   "file_extension": ".py",
   "mimetype": "text/x-python",
   "name": "python",
   "nbconvert_exporter": "python",
   "pygments_lexer": "ipython3",
   "version": "3.12.7"
  }
 },
 "nbformat": 4,
 "nbformat_minor": 4
}
